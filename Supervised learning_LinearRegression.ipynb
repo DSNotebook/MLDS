{
 "cells": [
  {
   "cell_type": "code",
   "execution_count": 2,
   "metadata": {},
   "outputs": [],
   "source": [
    "import matplotlib.pyplot as plt   # To plot a graph\n",
    "from matplotlib import rcParams\n",
    "import numpy as np\n",
    "import pandas as pd\n",
    "import seaborn as sns\n",
    "import scipy as sc"
   ]
  },
  {
   "cell_type": "code",
   "execution_count": 371,
   "metadata": {},
   "outputs": [],
   "source": [
    "\n",
    "from sklearn.linear_model import LinearRegression,Ridge,Lasso\n",
    "from sklearn.metrics import r2_score, mean_squared_error, mean_absolute_error,confusion_matrix,accuracy_score,classification_report\n",
    "from sklearn.model_selection import train_test_split\n",
    "from sklearn.preprocessing import scale\n",
    "from sklearn.model_selection import cross_val_score\n",
    "from collections import Counter\n",
    "from sklearn.preprocessing import MinMaxScaler\n",
    "from sklearn.tree import DecisionTreeClassifier\n",
    "\n"
   ]
  },
  {
   "cell_type": "code",
   "execution_count": 6,
   "metadata": {},
   "outputs": [
    {
     "data": {
      "text/html": [
       "<div>\n",
       "<style scoped>\n",
       "    .dataframe tbody tr th:only-of-type {\n",
       "        vertical-align: middle;\n",
       "    }\n",
       "\n",
       "    .dataframe tbody tr th {\n",
       "        vertical-align: top;\n",
       "    }\n",
       "\n",
       "    .dataframe thead th {\n",
       "        text-align: right;\n",
       "    }\n",
       "</style>\n",
       "<table border=\"1\" class=\"dataframe\">\n",
       "  <thead>\n",
       "    <tr style=\"text-align: right;\">\n",
       "      <th></th>\n",
       "      <th>Height</th>\n",
       "      <th>Weight</th>\n",
       "    </tr>\n",
       "  </thead>\n",
       "  <tbody>\n",
       "    <tr>\n",
       "      <th>0</th>\n",
       "      <td>70</td>\n",
       "      <td>65</td>\n",
       "    </tr>\n",
       "    <tr>\n",
       "      <th>1</th>\n",
       "      <td>60</td>\n",
       "      <td>58</td>\n",
       "    </tr>\n",
       "    <tr>\n",
       "      <th>2</th>\n",
       "      <td>50</td>\n",
       "      <td>55</td>\n",
       "    </tr>\n",
       "    <tr>\n",
       "      <th>3</th>\n",
       "      <td>55</td>\n",
       "      <td>65</td>\n",
       "    </tr>\n",
       "    <tr>\n",
       "      <th>4</th>\n",
       "      <td>65</td>\n",
       "      <td>57</td>\n",
       "    </tr>\n",
       "    <tr>\n",
       "      <th>5</th>\n",
       "      <td>56</td>\n",
       "      <td>67</td>\n",
       "    </tr>\n",
       "    <tr>\n",
       "      <th>6</th>\n",
       "      <td>56</td>\n",
       "      <td>50</td>\n",
       "    </tr>\n",
       "  </tbody>\n",
       "</table>\n",
       "</div>"
      ],
      "text/plain": [
       "   Height  Weight\n",
       "0      70      65\n",
       "1      60      58\n",
       "2      50      55\n",
       "3      55      65\n",
       "4      65      57\n",
       "5      56      67\n",
       "6      56      50"
      ]
     },
     "execution_count": 6,
     "metadata": {},
     "output_type": "execute_result"
    }
   ],
   "source": [
    "Height =[70,60,50,55,65 ,56, 56]\n",
    "Weight =[65,58,55,65,57, 67, 50]\n",
    "data={\"Height\":Height,\"Weight\":Weight}\n",
    "df=pd.DataFrame(data)\n",
    "df\n",
    "\n",
    "\n",
    "df=pd.DataFrame(Height,columns=[\"Height\"])\n",
    "df[\"Weight\"]=Weight\n",
    "df\n"
   ]
  },
  {
   "cell_type": "code",
   "execution_count": 19,
   "metadata": {},
   "outputs": [
    {
     "name": "stdout",
     "output_type": "stream",
     "text": [
      "Average height : 58.86, Average weight : 59.57\n"
     ]
    }
   ],
   "source": [
    "\n",
    "mean_Height = df.Height.mean()\n",
    "mean_Weight = df.Weight.mean()\n",
    "\n",
    "print(f'Average height : {mean_Height:5.2f}, Average weight : {mean_Weight:5.2f}')\n",
    "\n"
   ]
  },
  {
   "cell_type": "code",
   "execution_count": 20,
   "metadata": {},
   "outputs": [
    {
     "name": "stdout",
     "output_type": "stream",
     "text": [
      "Average height : 58.86, Average weight : 59.57\n"
     ]
    },
    {
     "name": "stderr",
     "output_type": "stream",
     "text": [
      "C:\\Users\\ravik\\Anaconda3\\lib\\site-packages\\matplotlib\\cbook\\__init__.py:2064: FutureWarning: Support for multi-dimensional indexing (e.g. `obj[:, None]`) is deprecated and will be removed in a future version.  Convert to a numpy array before indexing instead.\n",
      "  x[:, None]\n",
      "C:\\Users\\ravik\\Anaconda3\\lib\\site-packages\\matplotlib\\axes\\_base.py:248: FutureWarning: Support for multi-dimensional indexing (e.g. `obj[:, None]`) is deprecated and will be removed in a future version.  Convert to a numpy array before indexing instead.\n",
      "  x = x[:, np.newaxis]\n",
      "C:\\Users\\ravik\\Anaconda3\\lib\\site-packages\\matplotlib\\axes\\_base.py:250: FutureWarning: Support for multi-dimensional indexing (e.g. `obj[:, None]`) is deprecated and will be removed in a future version.  Convert to a numpy array before indexing instead.\n",
      "  y = y[:, np.newaxis]\n"
     ]
    },
    {
     "data": {
      "image/png": "[encoded data removed]",
      "text/plain": [
       "<Figure size 432x288 with 1 Axes>"
      ]
     },
     "metadata": {
      "needs_background": "light"
     },
     "output_type": "display_data"
    }
   ],
   "source": [
    "print(f'Average height : {mean_Height:5.2f}, Average weight : {mean_Weight:5.2f}')\n",
    "\n",
    "# Visual represenatation of the sample data\n",
    "#-------------------------------------------------------\n",
    "plt.plot(df.Height, df.Weight, \"ro\")\n",
    "plt.plot(mean_Height, mean_Weight, \"bo\", markersize=10)# Mean\n",
    "plt.text(mean_Height, mean_Weight+.8, \"Mean\")\n",
    "plt.xlabel(\"Height\")\n",
    "plt.ylabel(\"Weight\")\n",
    "plt.grid()\n",
    "\n"
   ]
  },
  {
   "cell_type": "code",
   "execution_count": 34,
   "metadata": {},
   "outputs": [],
   "source": [
    "model=LinearRegression()"
   ]
  },
  {
   "cell_type": "code",
   "execution_count": 35,
   "metadata": {},
   "outputs": [
    {
     "data": {
      "text/plain": [
       "0    65\n",
       "1    58\n",
       "2    55\n",
       "3    65\n",
       "4    57\n",
       "5    67\n",
       "6    50\n",
       "Name: Weight, dtype: int64"
      ]
     },
     "execution_count": 35,
     "metadata": {},
     "output_type": "execute_result"
    }
   ],
   "source": [
    "x=df.Height\n",
    "y=df.Weight\n",
    "y"
   ]
  },
  {
   "cell_type": "code",
   "execution_count": 36,
   "metadata": {},
   "outputs": [],
   "source": [
    "x=pd.DataFrame(x)"
   ]
  },
  {
   "cell_type": "code",
   "execution_count": 37,
   "metadata": {},
   "outputs": [
    {
     "data": {
      "text/plain": [
       "LinearRegression()"
      ]
     },
     "execution_count": 37,
     "metadata": {},
     "output_type": "execute_result"
    }
   ],
   "source": [
    "\n",
    "y=model.fit(x,y)\n",
    "y"
   ]
  },
  {
   "cell_type": "code",
   "execution_count": 38,
   "metadata": {},
   "outputs": [
    {
     "name": "stdout",
     "output_type": "stream",
     "text": [
      "44.78010471204188 [0.2513089]\n"
     ]
    }
   ],
   "source": [
    "print(model.intercept_,model.coef_)"
   ]
  },
  {
   "cell_type": "code",
   "execution_count": 39,
   "metadata": {},
   "outputs": [
    {
     "data": {
      "text/html": [
       "<div>\n",
       "<style scoped>\n",
       "    .dataframe tbody tr th:only-of-type {\n",
       "        vertical-align: middle;\n",
       "    }\n",
       "\n",
       "    .dataframe tbody tr th {\n",
       "        vertical-align: top;\n",
       "    }\n",
       "\n",
       "    .dataframe thead th {\n",
       "        text-align: right;\n",
       "    }\n",
       "</style>\n",
       "<table border=\"1\" class=\"dataframe\">\n",
       "  <thead>\n",
       "    <tr style=\"text-align: right;\">\n",
       "      <th></th>\n",
       "      <th>Height</th>\n",
       "      <th>Weight</th>\n",
       "      <th>Predict</th>\n",
       "      <th>residual</th>\n",
       "    </tr>\n",
       "  </thead>\n",
       "  <tbody>\n",
       "    <tr>\n",
       "      <th>0</th>\n",
       "      <td>70</td>\n",
       "      <td>65</td>\n",
       "      <td>62.371728</td>\n",
       "      <td>2.628272</td>\n",
       "    </tr>\n",
       "    <tr>\n",
       "      <th>1</th>\n",
       "      <td>60</td>\n",
       "      <td>58</td>\n",
       "      <td>59.858639</td>\n",
       "      <td>-1.858639</td>\n",
       "    </tr>\n",
       "    <tr>\n",
       "      <th>2</th>\n",
       "      <td>50</td>\n",
       "      <td>55</td>\n",
       "      <td>57.345550</td>\n",
       "      <td>-2.345550</td>\n",
       "    </tr>\n",
       "    <tr>\n",
       "      <th>3</th>\n",
       "      <td>55</td>\n",
       "      <td>65</td>\n",
       "      <td>58.602094</td>\n",
       "      <td>6.397906</td>\n",
       "    </tr>\n",
       "    <tr>\n",
       "      <th>4</th>\n",
       "      <td>65</td>\n",
       "      <td>57</td>\n",
       "      <td>61.115183</td>\n",
       "      <td>-4.115183</td>\n",
       "    </tr>\n",
       "    <tr>\n",
       "      <th>5</th>\n",
       "      <td>56</td>\n",
       "      <td>67</td>\n",
       "      <td>58.853403</td>\n",
       "      <td>8.146597</td>\n",
       "    </tr>\n",
       "    <tr>\n",
       "      <th>6</th>\n",
       "      <td>56</td>\n",
       "      <td>50</td>\n",
       "      <td>58.853403</td>\n",
       "      <td>-8.853403</td>\n",
       "    </tr>\n",
       "  </tbody>\n",
       "</table>\n",
       "</div>"
      ],
      "text/plain": [
       "   Height  Weight    Predict  residual\n",
       "0      70      65  62.371728  2.628272\n",
       "1      60      58  59.858639 -1.858639\n",
       "2      50      55  57.345550 -2.345550\n",
       "3      55      65  58.602094  6.397906\n",
       "4      65      57  61.115183 -4.115183\n",
       "5      56      67  58.853403  8.146597\n",
       "6      56      50  58.853403 -8.853403"
      ]
     },
     "execution_count": 39,
     "metadata": {},
     "output_type": "execute_result"
    }
   ],
   "source": [
    "c=model.intercept_\n",
    "m=model.coef_\n",
    "ypredict=model.predict(x)\n",
    "df[\"Predict\"]=pd.DataFrame({\"predict\":ypredict})\n",
    "df\n"
   ]
  },
  {
   "cell_type": "code",
   "execution_count": 40,
   "metadata": {},
   "outputs": [
    {
     "data": {
      "text/plain": [
       "<matplotlib.axes._subplots.AxesSubplot at 0x20e77995320>"
      ]
     },
     "execution_count": 40,
     "metadata": {},
     "output_type": "execute_result"
    },
    {
     "data": {
      "image/png": "[encoded data removed]",
      "text/plain": [
       "<Figure size 432x288 with 1 Axes>"
      ]
     },
     "metadata": {
      "needs_background": "light"
     },
     "output_type": "display_data"
    }
   ],
   "source": [
    "df[\"residual\"]=df[\"Weight\"]-df[\"Predict\"]\n",
    "df.mean()\n",
    "dfres_error=df.residual\n",
    "df.residual.plot(kind='bar')"
   ]
  },
  {
   "cell_type": "code",
   "execution_count": 41,
   "metadata": {},
   "outputs": [
    {
     "data": {
      "text/plain": [
       "2"
      ]
     },
     "execution_count": 41,
     "metadata": {},
     "output_type": "execute_result"
    }
   ],
   "source": [
    "\n",
    "x=[0,70]\n",
    "y=c+m*x\n",
    "y\n",
    "xax=np.arange(0,70,10)\n",
    "yax=[xax,y[0]]\n",
    "len(y)"
   ]
  },
  {
   "cell_type": "code",
   "execution_count": 42,
   "metadata": {},
   "outputs": [
    {
     "data": {
      "image/png": "[encoded data removed]",
      "text/plain": [
       "<Figure size 648x360 with 1 Axes>"
      ]
     },
     "metadata": {
      "needs_background": "light"
     },
     "output_type": "display_data"
    }
   ],
   "source": [
    "plt.figure(figsize=(9,5))\n",
    "sns.scatterplot(x=\"Height\",y=\"Weight\",data=df,label=\"Actual\")\n",
    "sns.scatterplot(x=\"Height\",y=\"Predict\",data=df,label=\"Predicted\")\n",
    "plt.plot(x,y,label=\"Regression line\")\n",
    "plt.plot(mean_Height,mean_Weight,\"go\",markersize=15,label=\"Mean\")\n",
    "plt.xticks(xax)\n",
    "plt.yticks([0,10,20,30,40,44.78,50,60,70])\n",
    "plt.text(0,44.78,'y='+str(y[0]))\n",
    "plt.text(40,25,'c='+str(c))\n",
    "plt.text(40,15,'m='+str(m[0]))\n",
    "plt.legend()\n",
    "plt.grid()\n",
    "plt.show()"
   ]
  },
  {
   "cell_type": "code",
   "execution_count": 26,
   "metadata": {},
   "outputs": [
    {
     "data": {
      "text/plain": [
       "2"
      ]
     },
     "execution_count": 26,
     "metadata": {},
     "output_type": "execute_result"
    }
   ],
   "source": []
  },
  {
   "cell_type": "markdown",
   "metadata": {},
   "source": [
    "# stock prediction"
   ]
  },
  {
   "cell_type": "code",
   "execution_count": 27,
   "metadata": {},
   "outputs": [
    {
     "data": {
      "text/plain": [
       "[<matplotlib.lines.Line2D at 0x23a5aec40f0>]"
      ]
     },
     "execution_count": 27,
     "metadata": {},
     "output_type": "execute_result"
    },
    {
     "data": {
      "image/png": "[encoded data removed]",
      "text/plain": [
       "<Figure size 648x360 with 1 Axes>"
      ]
     },
     "metadata": {
      "needs_background": "light"
     },
     "output_type": "display_data"
    }
   ],
   "source": [
    "from sklearn.preprocessing import scale\n",
    "plt.figure(figsize=(9,5))\n",
    "\n",
    "y=[893.60,887.25,886.80,887.90,887.75,888.1,889.35,893.60,887.25,\n",
    "   886.80,887.90,887.75,888.1,889.35,893.60,887.25,886.80,887.90,887.75,888.1,889.35,889.4,887,886.85,886.7,884.3,882.70,880.95,879.75,878.5,893.60,887.25,886.80,887.90,887.75,888.1,889.35,893.60,887.25,886.80,887.90,887.75,888.1,889.35,893.60,887.25,886.80,887.90,887.75,888.1,889.35,889.4,887,886.85,886.7,884.3,882.70,880.95,879.75,878.5,878.55,881.25,882,880.8,881.45,881.05,882.35,881.6,880.50,880.60,880.2,879.4,880.30,880.05,880.0,879.7,878.35,877.5,875.6,875.95,875.2,878.55,881.25,882,880.8,881.45,881.05,882.35,881.6,880.50,880.60,880.2,879.4,880.30,880.05,880.0,879.7,878.35,877.5,875.6,875.95,875.2]\n",
    "x=np.arange(0,len(y))\n",
    "y=np.array(y)\n",
    "x,y\n",
    "df=pd.DataFrame({\"Time\":x,\"Price\":y})\n",
    "df\n",
    "x=df[[\"Time\"]]\n",
    "y=df[[\"Price\"]]\n",
    "\n",
    "model=LinearRegression()\n",
    "model.fit(x,y)\n",
    "yPred=model.predict(x)\n",
    "df[\"Predicted\"]=yPred\n",
    "df[\"error\"]=df[\"Price\"]-df[\"Predicted\"]\n",
    "df.head()\n",
    "plt.plot(df[\"error\"],'g',label=\"Price\")"
   ]
  },
  {
   "cell_type": "code",
   "execution_count": null,
   "metadata": {},
   "outputs": [],
   "source": []
  },
  {
   "cell_type": "code",
   "execution_count": 28,
   "metadata": {},
   "outputs": [
    {
     "name": "stderr",
     "output_type": "stream",
     "text": [
      "No handles with labels found to put in legend.\n"
     ]
    },
    {
     "data": {
      "text/plain": [
       "<matplotlib.legend.Legend at 0x23a5ae689e8>"
      ]
     },
     "execution_count": 28,
     "metadata": {},
     "output_type": "execute_result"
    },
    {
     "data": {
      "image/png": "[encoded data removed]",
      "text/plain": [
       "<Figure size 648x360 with 1 Axes>"
      ]
     },
     "metadata": {
      "needs_background": "light"
     },
     "output_type": "display_data"
    }
   ],
   "source": [
    "plt.figure(figsize=(9,5))\n",
    "\n",
    "plt.plot(y)\n",
    "plt.legend()\n",
    "#plt.xticks([100,200,300,400,500,600,700,800,820,850,880,890,900,920])"
   ]
  },
  {
   "cell_type": "code",
   "execution_count": 29,
   "metadata": {},
   "outputs": [
    {
     "name": "stdout",
     "output_type": "stream",
     "text": [
      "[[-0.12582117]] [890.48730249]\n"
     ]
    },
    {
     "data": {
      "text/plain": [
       "<seaborn.axisgrid.JointGrid at 0x23a5ad93240>"
      ]
     },
     "execution_count": 29,
     "metadata": {},
     "output_type": "execute_result"
    },
    {
     "data": {
      "image/png": "[encoded data removed]",
      "text/plain": [
       "<Figure size 432x432 with 3 Axes>"
      ]
     },
     "metadata": {
      "needs_background": "light"
     },
     "output_type": "display_data"
    }
   ],
   "source": [
    "c=model.intercept_\n",
    "m=model.coef_\n",
    "print(m,c)\n",
    "sns.jointplot(x=df[\"Time\"],y=df[\"Price\"],data=df,kind=\"reg\")"
   ]
  },
  {
   "cell_type": "code",
   "execution_count": 30,
   "metadata": {},
   "outputs": [
    {
     "name": "stdout",
     "output_type": "stream",
     "text": [
      "[[877.52772183 890.23566015 890.10983898 889.98401781 889.85819664\n",
      "  889.73237546 889.60655429 889.48073312 889.35491195 889.22909078\n",
      "  889.10326961 888.97744844]]\n"
     ]
    },
    {
     "data": {
      "text/plain": [
       "877.5277218298645"
      ]
     },
     "execution_count": 30,
     "metadata": {},
     "output_type": "execute_result"
    }
   ],
   "source": [
    "\n",
    "#every 5 min data and neat 1 hrs. predict value\n",
    "x=[len(x)+1,2,3,4,5,6,7,8,9,10,11,12]\n",
    "y=m*x+c\n",
    "y\n",
    "print(y)\n",
    "list(y)\n",
    "y.min()"
   ]
  },
  {
   "cell_type": "code",
   "execution_count": 31,
   "metadata": {},
   "outputs": [
    {
     "ename": "NameError",
     "evalue": "name 'i' is not defined",
     "output_type": "error",
     "traceback": [
      "\u001b[1;31m---------------------------------------------------------------------------\u001b[0m",
      "\u001b[1;31mNameError\u001b[0m                                 Traceback (most recent call last)",
      "\u001b[1;32m<ipython-input-31-87a8946c0956>\u001b[0m in \u001b[0;36m<module>\u001b[1;34m()\u001b[0m\n\u001b[1;32m----> 1\u001b[1;33m \u001b[0mdata\u001b[0m\u001b[1;33m=\u001b[0m\u001b[1;33m[\u001b[0m\u001b[1;33m{\u001b[0m\u001b[1;34m\"y\"\u001b[0m\u001b[1;33m:\u001b[0m\u001b[0my\u001b[0m\u001b[1;33m[\u001b[0m\u001b[1;36m0\u001b[0m\u001b[1;33m]\u001b[0m\u001b[1;33m[\u001b[0m\u001b[0mi\u001b[0m\u001b[1;33m]\u001b[0m\u001b[1;33m}\u001b[0m\u001b[1;33m]\u001b[0m\u001b[1;33m\u001b[0m\u001b[0m\n\u001b[0m",
      "\u001b[1;31mNameError\u001b[0m: name 'i' is not defined"
     ]
    }
   ],
   "source": [
    "data=[{\"y\":y[0][i]}]"
   ]
  },
  {
   "cell_type": "code",
   "execution_count": 32,
   "metadata": {},
   "outputs": [
    {
     "data": {
      "image/png": "[encoded data removed]",
      "text/plain": [
       "<Figure size 432x288 with 1 Axes>"
      ]
     },
     "metadata": {
      "needs_background": "light"
     },
     "output_type": "display_data"
    }
   ],
   "source": [
    "l=[]\n",
    "for i in range(9):\n",
    "    data=[{\"y\":y[0][i]}]\n",
    "    d=pd.DataFrame(data)\n",
    "    l.append(y[0][i])\n",
    "#plt.figure(figsize=(9,5))\n",
    "plt.plot(l)\n",
    "plt.grid()"
   ]
  },
  {
   "cell_type": "code",
   "execution_count": 33,
   "metadata": {},
   "outputs": [
    {
     "data": {
      "text/plain": [
       "y    889.354912\n",
       "dtype: float64"
      ]
     },
     "execution_count": 33,
     "metadata": {},
     "output_type": "execute_result"
    }
   ],
   "source": [
    "d.min()"
   ]
  },
  {
   "cell_type": "code",
   "execution_count": null,
   "metadata": {},
   "outputs": [],
   "source": []
  },
  {
   "cell_type": "code",
   "execution_count": null,
   "metadata": {},
   "outputs": [],
   "source": []
  },
  {
   "cell_type": "code",
   "execution_count": null,
   "metadata": {},
   "outputs": [],
   "source": []
  },
  {
   "cell_type": "code",
   "execution_count": null,
   "metadata": {},
   "outputs": [],
   "source": []
  },
  {
   "cell_type": "code",
   "execution_count": 30,
   "metadata": {
    "collapsed": true
   },
   "outputs": [
    {
     "data": {
      "text/plain": [
       "['__abstractmethods__',\n",
       " '__class__',\n",
       " '__delattr__',\n",
       " '__dict__',\n",
       " '__dir__',\n",
       " '__doc__',\n",
       " '__eq__',\n",
       " '__format__',\n",
       " '__ge__',\n",
       " '__getattribute__',\n",
       " '__getstate__',\n",
       " '__gt__',\n",
       " '__hash__',\n",
       " '__init__',\n",
       " '__init_subclass__',\n",
       " '__le__',\n",
       " '__lt__',\n",
       " '__module__',\n",
       " '__ne__',\n",
       " '__new__',\n",
       " '__reduce__',\n",
       " '__reduce_ex__',\n",
       " '__repr__',\n",
       " '__setattr__',\n",
       " '__setstate__',\n",
       " '__sizeof__',\n",
       " '__str__',\n",
       " '__subclasshook__',\n",
       " '__weakref__',\n",
       " '_abc_impl',\n",
       " '_check_feature_names',\n",
       " '_check_n_features',\n",
       " '_decision_function',\n",
       " '_estimator_type',\n",
       " '_get_param_names',\n",
       " '_get_tags',\n",
       " '_more_tags',\n",
       " '_preprocess_data',\n",
       " '_repr_html_',\n",
       " '_repr_html_inner',\n",
       " '_repr_mimebundle_',\n",
       " '_residues',\n",
       " '_set_intercept',\n",
       " '_validate_data',\n",
       " 'coef_',\n",
       " 'copy_X',\n",
       " 'feature_names_in_',\n",
       " 'fit',\n",
       " 'fit_intercept',\n",
       " 'get_params',\n",
       " 'intercept_',\n",
       " 'n_features_in_',\n",
       " 'n_jobs',\n",
       " 'normalize',\n",
       " 'positive',\n",
       " 'predict',\n",
       " 'rank_',\n",
       " 'score',\n",
       " 'set_params',\n",
       " 'singular_']"
      ]
     },
     "execution_count": 30,
     "metadata": {},
     "output_type": "execute_result"
    }
   ],
   "source": [
    "dir(model)"
   ]
  },
  {
   "cell_type": "code",
   "execution_count": 4,
   "metadata": {},
   "outputs": [],
   "source": [
    "df=pd.read_csv(r'C:\\Users\\ravik\\Downloads\\archivecarrs\\mtcars.csv')"
   ]
  },
  {
   "cell_type": "code",
   "execution_count": 5,
   "metadata": {},
   "outputs": [
    {
     "data": {
      "text/plain": [
       "(32, 12)"
      ]
     },
     "execution_count": 5,
     "metadata": {},
     "output_type": "execute_result"
    }
   ],
   "source": [
    "\n",
    "df.head()\n",
    "df.shape"
   ]
  },
  {
   "cell_type": "code",
   "execution_count": 6,
   "metadata": {},
   "outputs": [
    {
     "data": {
      "text/plain": [
       "384"
      ]
     },
     "execution_count": 6,
     "metadata": {},
     "output_type": "execute_result"
    }
   ],
   "source": [
    "df.size"
   ]
  },
  {
   "cell_type": "code",
   "execution_count": 7,
   "metadata": {},
   "outputs": [
    {
     "name": "stdout",
     "output_type": "stream",
     "text": [
      "<class 'pandas.core.frame.DataFrame'>\n",
      "RangeIndex: 32 entries, 0 to 31\n",
      "Data columns (total 12 columns):\n",
      " #   Column  Non-Null Count  Dtype  \n",
      "---  ------  --------------  -----  \n",
      " 0   model   32 non-null     object \n",
      " 1   mpg     32 non-null     float64\n",
      " 2   cyl     32 non-null     int64  \n",
      " 3   disp    32 non-null     float64\n",
      " 4   hp      32 non-null     int64  \n",
      " 5   drat    32 non-null     float64\n",
      " 6   wt      32 non-null     float64\n",
      " 7   qsec    32 non-null     float64\n",
      " 8   vs      32 non-null     int64  \n",
      " 9   am      32 non-null     int64  \n",
      " 10  gear    32 non-null     int64  \n",
      " 11  carb    32 non-null     int64  \n",
      "dtypes: float64(5), int64(6), object(1)\n",
      "memory usage: 3.1+ KB\n"
     ]
    }
   ],
   "source": [
    "df.info()"
   ]
  },
  {
   "cell_type": "code",
   "execution_count": 8,
   "metadata": {},
   "outputs": [
    {
     "data": {
      "text/plain": [
       "model    0\n",
       "mpg      0\n",
       "cyl      0\n",
       "disp     0\n",
       "hp       0\n",
       "drat     0\n",
       "wt       0\n",
       "qsec     0\n",
       "vs       0\n",
       "am       0\n",
       "gear     0\n",
       "carb     0\n",
       "dtype: int64"
      ]
     },
     "execution_count": 8,
     "metadata": {},
     "output_type": "execute_result"
    }
   ],
   "source": [
    "df.isnull().sum()"
   ]
  },
  {
   "cell_type": "code",
   "execution_count": 9,
   "metadata": {},
   "outputs": [
    {
     "data": {
      "text/plain": [
       "<matplotlib.axes._subplots.AxesSubplot at 0x13a8e75f940>"
      ]
     },
     "execution_count": 9,
     "metadata": {},
     "output_type": "execute_result"
    },
    {
     "data": {
      "image/png": "[encoded data removed]",
      "text/plain": [
       "<Figure size 432x288 with 1 Axes>"
      ]
     },
     "metadata": {
      "needs_background": "light"
     },
     "output_type": "display_data"
    }
   ],
   "source": [
    "sns.distplot(df[[\"drat\"]],hist=0,label=\"drat\")\n",
    "sns.distplot(df[[\"wt\"]],hist=0,label=\"wt\")\n",
    "sns.distplot(df[[\"qsec\"]],hist=0,label=\"qsec\")"
   ]
  },
  {
   "cell_type": "code",
   "execution_count": 10,
   "metadata": {},
   "outputs": [],
   "source": [
    "var=set(df)\n",
    "var=list(var)\n",
    "#for i in range(len(var)):\n",
    " #   print(var[i] ,set(df[var[i]]))"
   ]
  },
  {
   "cell_type": "code",
   "execution_count": 11,
   "metadata": {},
   "outputs": [
    {
     "data": {
      "text/plain": [
       "({1, 2, 3, 4, 6, 8}, {3, 4, 5}, {0, 1}, {0, 1}, {4, 6, 8})"
      ]
     },
     "execution_count": 11,
     "metadata": {},
     "output_type": "execute_result"
    }
   ],
   "source": [
    "set(df[\"carb\"]),set(df[\"gear\"]),set(df[\"am\"]),set(df[\"vs\"]),set(df[\"cyl\"])"
   ]
  },
  {
   "cell_type": "code",
   "execution_count": 12,
   "metadata": {},
   "outputs": [
    {
     "data": {
      "text/plain": [
       "(array([3., 3., 3., 3., 9., 7., 1., 0., 0., 3.]),\n",
       " array([1.513 , 1.9041, 2.2952, 2.6863, 3.0774, 3.4685, 3.8596, 4.2507,\n",
       "        4.6418, 5.0329, 5.424 ]),\n",
       " <a list of 10 Patch objects>)"
      ]
     },
     "execution_count": 12,
     "metadata": {},
     "output_type": "execute_result"
    },
    {
     "data": {
      "image/png": "[encoded data removed]",
      "text/plain": [
       "<Figure size 432x288 with 1 Axes>"
      ]
     },
     "metadata": {
      "needs_background": "light"
     },
     "output_type": "display_data"
    }
   ],
   "source": [
    "plt.hist(df.wt)"
   ]
  },
  {
   "cell_type": "code",
   "execution_count": 13,
   "metadata": {},
   "outputs": [
    {
     "data": {
      "text/plain": [
       "(array([15.,  0.,  0.,  0.,  0., 12.,  0.,  0.,  0.,  5.]),\n",
       " array([3. , 3.2, 3.4, 3.6, 3.8, 4. , 4.2, 4.4, 4.6, 4.8, 5. ]),\n",
       " <a list of 10 Patch objects>)"
      ]
     },
     "execution_count": 13,
     "metadata": {},
     "output_type": "execute_result"
    },
    {
     "data": {
      "image/png": "[encoded data removed]",
      "text/plain": [
       "<Figure size 432x288 with 1 Axes>"
      ]
     },
     "metadata": {
      "needs_background": "light"
     },
     "output_type": "display_data"
    }
   ],
   "source": [
    "plt.hist(df.gear)"
   ]
  },
  {
   "cell_type": "code",
   "execution_count": 14,
   "metadata": {},
   "outputs": [
    {
     "data": {
      "text/plain": [
       "(array([2., 3., 4., 8., 6., 4., 4., 0., 0., 1.]),\n",
       " array([14.5 , 15.34, 16.18, 17.02, 17.86, 18.7 , 19.54, 20.38, 21.22,\n",
       "        22.06, 22.9 ]),\n",
       " <a list of 10 Patch objects>)"
      ]
     },
     "execution_count": 14,
     "metadata": {},
     "output_type": "execute_result"
    },
    {
     "data": {
      "image/png": "[encoded data removed]",
      "text/plain": [
       "<Figure size 432x288 with 1 Axes>"
      ]
     },
     "metadata": {
      "needs_background": "light"
     },
     "output_type": "display_data"
    }
   ],
   "source": [
    "plt.hist(df.qsec)"
   ]
  },
  {
   "cell_type": "code",
   "execution_count": 15,
   "metadata": {},
   "outputs": [
    {
     "data": {
      "text/plain": [
       "(array([19.,  0.,  0.,  0.,  0.,  0.,  0.,  0.,  0., 13.]),\n",
       " array([0. , 0.1, 0.2, 0.3, 0.4, 0.5, 0.6, 0.7, 0.8, 0.9, 1. ]),\n",
       " <a list of 10 Patch objects>)"
      ]
     },
     "execution_count": 15,
     "metadata": {},
     "output_type": "execute_result"
    },
    {
     "data": {
      "image/png": "[encoded data removed]",
      "text/plain": [
       "<Figure size 432x288 with 1 Axes>"
      ]
     },
     "metadata": {
      "needs_background": "light"
     },
     "output_type": "display_data"
    }
   ],
   "source": [
    "plt.hist(df.am)"
   ]
  },
  {
   "cell_type": "code",
   "execution_count": 16,
   "metadata": {},
   "outputs": [
    {
     "data": {
      "text/plain": [
       "(array([11.,  0.,  0.,  0.,  0.,  7.,  0.,  0.,  0., 14.]),\n",
       " array([4. , 4.4, 4.8, 5.2, 5.6, 6. , 6.4, 6.8, 7.2, 7.6, 8. ]),\n",
       " <a list of 10 Patch objects>)"
      ]
     },
     "execution_count": 16,
     "metadata": {},
     "output_type": "execute_result"
    },
    {
     "data": {
      "image/png": "[encoded data removed]",
      "text/plain": [
       "<Figure size 432x288 with 1 Axes>"
      ]
     },
     "metadata": {
      "needs_background": "light"
     },
     "output_type": "display_data"
    }
   ],
   "source": [
    "plt.hist(df.cyl)"
   ]
  },
  {
   "cell_type": "code",
   "execution_count": 17,
   "metadata": {},
   "outputs": [
    {
     "data": {
      "text/plain": [
       "(array([18.,  0.,  0.,  0.,  0.,  0.,  0.,  0.,  0., 14.]),\n",
       " array([0. , 0.1, 0.2, 0.3, 0.4, 0.5, 0.6, 0.7, 0.8, 0.9, 1. ]),\n",
       " <a list of 10 Patch objects>)"
      ]
     },
     "execution_count": 17,
     "metadata": {},
     "output_type": "execute_result"
    },
    {
     "data": {
      "image/png": "[encoded data removed]",
      "text/plain": [
       "<Figure size 432x288 with 1 Axes>"
      ]
     },
     "metadata": {
      "needs_background": "light"
     },
     "output_type": "display_data"
    }
   ],
   "source": [
    "plt.hist(df.vs)"
   ]
  },
  {
   "cell_type": "code",
   "execution_count": 18,
   "metadata": {},
   "outputs": [
    {
     "data": {
      "text/plain": [
       "(array([ 7., 10.,  3.,  0., 10.,  0.,  0.,  1.,  0.,  1.]),\n",
       " array([1. , 1.7, 2.4, 3.1, 3.8, 4.5, 5.2, 5.9, 6.6, 7.3, 8. ]),\n",
       " <a list of 10 Patch objects>)"
      ]
     },
     "execution_count": 18,
     "metadata": {},
     "output_type": "execute_result"
    },
    {
     "data": {
      "image/png": "[encoded data removed]",
      "text/plain": [
       "<Figure size 432x288 with 1 Axes>"
      ]
     },
     "metadata": {
      "needs_background": "light"
     },
     "output_type": "display_data"
    }
   ],
   "source": [
    "plt.hist(df.carb)"
   ]
  },
  {
   "cell_type": "code",
   "execution_count": 19,
   "metadata": {},
   "outputs": [
    {
     "data": {
      "text/html": [
       "<div>\n",
       "<style scoped>\n",
       "    .dataframe tbody tr th:only-of-type {\n",
       "        vertical-align: middle;\n",
       "    }\n",
       "\n",
       "    .dataframe tbody tr th {\n",
       "        vertical-align: top;\n",
       "    }\n",
       "\n",
       "    .dataframe thead th {\n",
       "        text-align: right;\n",
       "    }\n",
       "</style>\n",
       "<table border=\"1\" class=\"dataframe\">\n",
       "  <thead>\n",
       "    <tr style=\"text-align: right;\">\n",
       "      <th></th>\n",
       "      <th>mpg</th>\n",
       "      <th>cyl</th>\n",
       "      <th>disp</th>\n",
       "      <th>hp</th>\n",
       "      <th>drat</th>\n",
       "      <th>wt</th>\n",
       "      <th>qsec</th>\n",
       "      <th>vs</th>\n",
       "      <th>am</th>\n",
       "      <th>gear</th>\n",
       "      <th>carb</th>\n",
       "    </tr>\n",
       "  </thead>\n",
       "  <tbody>\n",
       "    <tr>\n",
       "      <th>count</th>\n",
       "      <td>32.000000</td>\n",
       "      <td>32.000000</td>\n",
       "      <td>32.000000</td>\n",
       "      <td>32.000000</td>\n",
       "      <td>32.000000</td>\n",
       "      <td>32.000000</td>\n",
       "      <td>32.000000</td>\n",
       "      <td>32.000000</td>\n",
       "      <td>32.000000</td>\n",
       "      <td>32.000000</td>\n",
       "      <td>32.0000</td>\n",
       "    </tr>\n",
       "    <tr>\n",
       "      <th>mean</th>\n",
       "      <td>20.090625</td>\n",
       "      <td>6.187500</td>\n",
       "      <td>230.721875</td>\n",
       "      <td>146.687500</td>\n",
       "      <td>3.596563</td>\n",
       "      <td>3.217250</td>\n",
       "      <td>17.848750</td>\n",
       "      <td>0.437500</td>\n",
       "      <td>0.406250</td>\n",
       "      <td>3.687500</td>\n",
       "      <td>2.8125</td>\n",
       "    </tr>\n",
       "    <tr>\n",
       "      <th>std</th>\n",
       "      <td>6.026948</td>\n",
       "      <td>1.785922</td>\n",
       "      <td>123.938694</td>\n",
       "      <td>68.562868</td>\n",
       "      <td>0.534679</td>\n",
       "      <td>0.978457</td>\n",
       "      <td>1.786943</td>\n",
       "      <td>0.504016</td>\n",
       "      <td>0.498991</td>\n",
       "      <td>0.737804</td>\n",
       "      <td>1.6152</td>\n",
       "    </tr>\n",
       "    <tr>\n",
       "      <th>min</th>\n",
       "      <td>10.400000</td>\n",
       "      <td>4.000000</td>\n",
       "      <td>71.100000</td>\n",
       "      <td>52.000000</td>\n",
       "      <td>2.760000</td>\n",
       "      <td>1.513000</td>\n",
       "      <td>14.500000</td>\n",
       "      <td>0.000000</td>\n",
       "      <td>0.000000</td>\n",
       "      <td>3.000000</td>\n",
       "      <td>1.0000</td>\n",
       "    </tr>\n",
       "    <tr>\n",
       "      <th>25%</th>\n",
       "      <td>15.425000</td>\n",
       "      <td>4.000000</td>\n",
       "      <td>120.825000</td>\n",
       "      <td>96.500000</td>\n",
       "      <td>3.080000</td>\n",
       "      <td>2.581250</td>\n",
       "      <td>16.892500</td>\n",
       "      <td>0.000000</td>\n",
       "      <td>0.000000</td>\n",
       "      <td>3.000000</td>\n",
       "      <td>2.0000</td>\n",
       "    </tr>\n",
       "    <tr>\n",
       "      <th>50%</th>\n",
       "      <td>19.200000</td>\n",
       "      <td>6.000000</td>\n",
       "      <td>196.300000</td>\n",
       "      <td>123.000000</td>\n",
       "      <td>3.695000</td>\n",
       "      <td>3.325000</td>\n",
       "      <td>17.710000</td>\n",
       "      <td>0.000000</td>\n",
       "      <td>0.000000</td>\n",
       "      <td>4.000000</td>\n",
       "      <td>2.0000</td>\n",
       "    </tr>\n",
       "    <tr>\n",
       "      <th>75%</th>\n",
       "      <td>22.800000</td>\n",
       "      <td>8.000000</td>\n",
       "      <td>326.000000</td>\n",
       "      <td>180.000000</td>\n",
       "      <td>3.920000</td>\n",
       "      <td>3.610000</td>\n",
       "      <td>18.900000</td>\n",
       "      <td>1.000000</td>\n",
       "      <td>1.000000</td>\n",
       "      <td>4.000000</td>\n",
       "      <td>4.0000</td>\n",
       "    </tr>\n",
       "    <tr>\n",
       "      <th>max</th>\n",
       "      <td>33.900000</td>\n",
       "      <td>8.000000</td>\n",
       "      <td>472.000000</td>\n",
       "      <td>335.000000</td>\n",
       "      <td>4.930000</td>\n",
       "      <td>5.424000</td>\n",
       "      <td>22.900000</td>\n",
       "      <td>1.000000</td>\n",
       "      <td>1.000000</td>\n",
       "      <td>5.000000</td>\n",
       "      <td>8.0000</td>\n",
       "    </tr>\n",
       "  </tbody>\n",
       "</table>\n",
       "</div>"
      ],
      "text/plain": [
       "             mpg        cyl        disp          hp       drat         wt  \\\n",
       "count  32.000000  32.000000   32.000000   32.000000  32.000000  32.000000   \n",
       "mean   20.090625   6.187500  230.721875  146.687500   3.596563   3.217250   \n",
       "std     6.026948   1.785922  123.938694   68.562868   0.534679   0.978457   \n",
       "min    10.400000   4.000000   71.100000   52.000000   2.760000   1.513000   \n",
       "25%    15.425000   4.000000  120.825000   96.500000   3.080000   2.581250   \n",
       "50%    19.200000   6.000000  196.300000  123.000000   3.695000   3.325000   \n",
       "75%    22.800000   8.000000  326.000000  180.000000   3.920000   3.610000   \n",
       "max    33.900000   8.000000  472.000000  335.000000   4.930000   5.424000   \n",
       "\n",
       "            qsec         vs         am       gear     carb  \n",
       "count  32.000000  32.000000  32.000000  32.000000  32.0000  \n",
       "mean   17.848750   0.437500   0.406250   3.687500   2.8125  \n",
       "std     1.786943   0.504016   0.498991   0.737804   1.6152  \n",
       "min    14.500000   0.000000   0.000000   3.000000   1.0000  \n",
       "25%    16.892500   0.000000   0.000000   3.000000   2.0000  \n",
       "50%    17.710000   0.000000   0.000000   4.000000   2.0000  \n",
       "75%    18.900000   1.000000   1.000000   4.000000   4.0000  \n",
       "max    22.900000   1.000000   1.000000   5.000000   8.0000  "
      ]
     },
     "execution_count": 19,
     "metadata": {},
     "output_type": "execute_result"
    }
   ],
   "source": [
    "df.describe()"
   ]
  },
  {
   "cell_type": "code",
   "execution_count": 20,
   "metadata": {},
   "outputs": [
    {
     "data": {
      "text/plain": [
       "<matplotlib.axes._subplots.AxesSubplot at 0x13a90b8d1d0>"
      ]
     },
     "execution_count": 20,
     "metadata": {},
     "output_type": "execute_result"
    },
    {
     "data": {
      "image/png": "[encoded data removed]",
      "text/plain": [
       "<Figure size 432x288 with 1 Axes>"
      ]
     },
     "metadata": {
      "needs_background": "light"
     },
     "output_type": "display_data"
    }
   ],
   "source": [
    "sns.scatterplot(x=df.disp,y=df.mpg,data=df)"
   ]
  },
  {
   "cell_type": "code",
   "execution_count": 21,
   "metadata": {},
   "outputs": [
    {
     "data": {
      "text/plain": [
       "<matplotlib.axes._subplots.AxesSubplot at 0x13a90c52c88>"
      ]
     },
     "execution_count": 21,
     "metadata": {},
     "output_type": "execute_result"
    },
    {
     "data": {
      "image/png": "[encoded data removed]",
      "text/plain": [
       "<Figure size 432x288 with 1 Axes>"
      ]
     },
     "metadata": {
      "needs_background": "light"
     },
     "output_type": "display_data"
    }
   ],
   "source": [
    "sns.scatterplot(x=df.vs,y=df.mpg,data=df)"
   ]
  },
  {
   "cell_type": "code",
   "execution_count": 22,
   "metadata": {},
   "outputs": [
    {
     "data": {
      "text/plain": [
       "<matplotlib.axes._subplots.AxesSubplot at 0x13a90cb63c8>"
      ]
     },
     "execution_count": 22,
     "metadata": {},
     "output_type": "execute_result"
    },
    {
     "data": {
      "image/png": "[encoded data removed]",
      "text/plain": [
       "<Figure size 432x288 with 1 Axes>"
      ]
     },
     "metadata": {
      "needs_background": "light"
     },
     "output_type": "display_data"
    }
   ],
   "source": [
    "sns.scatterplot(x=df.cyl,y=df.mpg,data=df)"
   ]
  },
  {
   "cell_type": "code",
   "execution_count": 23,
   "metadata": {},
   "outputs": [
    {
     "data": {
      "text/plain": [
       "<matplotlib.axes._subplots.AxesSubplot at 0x13a90d1cd30>"
      ]
     },
     "execution_count": 23,
     "metadata": {},
     "output_type": "execute_result"
    },
    {
     "data": {
      "image/png": "[encoded data removed]",
      "text/plain": [
       "<Figure size 432x288 with 1 Axes>"
      ]
     },
     "metadata": {
      "needs_background": "light"
     },
     "output_type": "display_data"
    }
   ],
   "source": [
    "\n",
    "sns.scatterplot(x=df.hp,y=df.mpg,data=df)"
   ]
  },
  {
   "cell_type": "code",
   "execution_count": 60,
   "metadata": {},
   "outputs": [
    {
     "data": {
      "text/html": [
       "<div>\n",
       "<style scoped>\n",
       "    .dataframe tbody tr th:only-of-type {\n",
       "        vertical-align: middle;\n",
       "    }\n",
       "\n",
       "    .dataframe tbody tr th {\n",
       "        vertical-align: top;\n",
       "    }\n",
       "\n",
       "    .dataframe thead th {\n",
       "        text-align: right;\n",
       "    }\n",
       "</style>\n",
       "<table border=\"1\" class=\"dataframe\">\n",
       "  <thead>\n",
       "    <tr style=\"text-align: right;\">\n",
       "      <th></th>\n",
       "      <th>mpg</th>\n",
       "      <th>disp</th>\n",
       "      <th>hp</th>\n",
       "      <th>drat</th>\n",
       "      <th>wt</th>\n",
       "      <th>qsec</th>\n",
       "    </tr>\n",
       "  </thead>\n",
       "  <tbody>\n",
       "    <tr>\n",
       "      <th>mpg</th>\n",
       "      <td>1.000000</td>\n",
       "      <td>-0.847551</td>\n",
       "      <td>-0.776168</td>\n",
       "      <td>0.681172</td>\n",
       "      <td>-0.867659</td>\n",
       "      <td>0.418684</td>\n",
       "    </tr>\n",
       "    <tr>\n",
       "      <th>disp</th>\n",
       "      <td>-0.847551</td>\n",
       "      <td>1.000000</td>\n",
       "      <td>0.790949</td>\n",
       "      <td>-0.710214</td>\n",
       "      <td>0.887980</td>\n",
       "      <td>-0.433698</td>\n",
       "    </tr>\n",
       "    <tr>\n",
       "      <th>hp</th>\n",
       "      <td>-0.776168</td>\n",
       "      <td>0.790949</td>\n",
       "      <td>1.000000</td>\n",
       "      <td>-0.448759</td>\n",
       "      <td>0.658748</td>\n",
       "      <td>-0.708223</td>\n",
       "    </tr>\n",
       "    <tr>\n",
       "      <th>drat</th>\n",
       "      <td>0.681172</td>\n",
       "      <td>-0.710214</td>\n",
       "      <td>-0.448759</td>\n",
       "      <td>1.000000</td>\n",
       "      <td>-0.712441</td>\n",
       "      <td>0.091205</td>\n",
       "    </tr>\n",
       "    <tr>\n",
       "      <th>wt</th>\n",
       "      <td>-0.867659</td>\n",
       "      <td>0.887980</td>\n",
       "      <td>0.658748</td>\n",
       "      <td>-0.712441</td>\n",
       "      <td>1.000000</td>\n",
       "      <td>-0.174716</td>\n",
       "    </tr>\n",
       "    <tr>\n",
       "      <th>qsec</th>\n",
       "      <td>0.418684</td>\n",
       "      <td>-0.433698</td>\n",
       "      <td>-0.708223</td>\n",
       "      <td>0.091205</td>\n",
       "      <td>-0.174716</td>\n",
       "      <td>1.000000</td>\n",
       "    </tr>\n",
       "  </tbody>\n",
       "</table>\n",
       "</div>"
      ],
      "text/plain": [
       "           mpg      disp        hp      drat        wt      qsec\n",
       "mpg   1.000000 -0.847551 -0.776168  0.681172 -0.867659  0.418684\n",
       "disp -0.847551  1.000000  0.790949 -0.710214  0.887980 -0.433698\n",
       "hp   -0.776168  0.790949  1.000000 -0.448759  0.658748 -0.708223\n",
       "drat  0.681172 -0.710214 -0.448759  1.000000 -0.712441  0.091205\n",
       "wt   -0.867659  0.887980  0.658748 -0.712441  1.000000 -0.174716\n",
       "qsec  0.418684 -0.433698 -0.708223  0.091205 -0.174716  1.000000"
      ]
     },
     "execution_count": 60,
     "metadata": {},
     "output_type": "execute_result"
    },
    {
     "data": {
      "image/png": "[encoded data removed]",
      "text/plain": [
       "<Figure size 432x288 with 1 Axes>"
      ]
     },
     "metadata": {
      "needs_background": "light"
     },
     "output_type": "display_data"
    }
   ],
   "source": [
    "sns.distplot(df.hp)\n",
    "df[['mpg',\"disp\",'hp','drat','wt','qsec']].corr()"
   ]
  },
  {
   "cell_type": "code",
   "execution_count": 61,
   "metadata": {},
   "outputs": [
    {
     "data": {
      "text/plain": [
       "<matplotlib.axes._subplots.AxesSubplot at 0x13a922eee48>"
      ]
     },
     "execution_count": 61,
     "metadata": {},
     "output_type": "execute_result"
    },
    {
     "data": {
      "image/png": "[encoded data removed]",
      "text/plain": [
       "<Figure size 432x288 with 2 Axes>"
      ]
     },
     "metadata": {
      "needs_background": "light"
     },
     "output_type": "display_data"
    }
   ],
   "source": [
    "sns.heatmap(df[['mpg',\"disp\",'hp','drat','wt','qsec']].corr(),annot=True)"
   ]
  },
  {
   "cell_type": "code",
   "execution_count": 62,
   "metadata": {},
   "outputs": [
    {
     "data": {
      "text/plain": [
       "<matplotlib.axes._subplots.AxesSubplot at 0x13a9231ec18>"
      ]
     },
     "execution_count": 62,
     "metadata": {},
     "output_type": "execute_result"
    },
    {
     "data": {
      "image/png": "[encoded data removed]",
      "text/plain": [
       "<Figure size 432x288 with 1 Axes>"
      ]
     },
     "metadata": {
      "needs_background": "light"
     },
     "output_type": "display_data"
    }
   ],
   "source": [
    "df.qsec.plot(kind='box')"
   ]
  },
  {
   "cell_type": "markdown",
   "metadata": {},
   "source": [
    "# find quartiles"
   ]
  },
  {
   "cell_type": "code",
   "execution_count": 63,
   "metadata": {},
   "outputs": [],
   "source": [
    "# method 1 to treat out layier\n",
    "q1,q2,q3=np.quantile(df.hp,q=[0.25,.5,.75])"
   ]
  },
  {
   "cell_type": "code",
   "execution_count": 64,
   "metadata": {},
   "outputs": [
    {
     "data": {
      "text/plain": [
       "83.5"
      ]
     },
     "execution_count": 64,
     "metadata": {},
     "output_type": "execute_result"
    }
   ],
   "source": [
    "iql=q3-q1\n",
    "iql"
   ]
  },
  {
   "cell_type": "code",
   "execution_count": 65,
   "metadata": {},
   "outputs": [
    {
     "data": {
      "text/plain": [
       "221.75"
      ]
     },
     "execution_count": 65,
     "metadata": {},
     "output_type": "execute_result"
    }
   ],
   "source": [
    "lower=q1+1.5*iql\n",
    "higher=q3+1.5*iql\n",
    "lower"
   ]
  },
  {
   "cell_type": "code",
   "execution_count": 66,
   "metadata": {},
   "outputs": [
    {
     "data": {
      "text/html": [
       "<div>\n",
       "<style scoped>\n",
       "    .dataframe tbody tr th:only-of-type {\n",
       "        vertical-align: middle;\n",
       "    }\n",
       "\n",
       "    .dataframe tbody tr th {\n",
       "        vertical-align: top;\n",
       "    }\n",
       "\n",
       "    .dataframe thead th {\n",
       "        text-align: right;\n",
       "    }\n",
       "</style>\n",
       "<table border=\"1\" class=\"dataframe\">\n",
       "  <thead>\n",
       "    <tr style=\"text-align: right;\">\n",
       "      <th></th>\n",
       "      <th>model</th>\n",
       "      <th>mpg</th>\n",
       "      <th>cyl</th>\n",
       "      <th>disp</th>\n",
       "      <th>hp</th>\n",
       "      <th>drat</th>\n",
       "      <th>wt</th>\n",
       "      <th>qsec</th>\n",
       "      <th>vs</th>\n",
       "      <th>am</th>\n",
       "      <th>gear</th>\n",
       "      <th>carb</th>\n",
       "    </tr>\n",
       "  </thead>\n",
       "  <tbody>\n",
       "    <tr>\n",
       "      <th>30</th>\n",
       "      <td>Maserati Bora</td>\n",
       "      <td>15.0</td>\n",
       "      <td>8</td>\n",
       "      <td>301.0</td>\n",
       "      <td>335</td>\n",
       "      <td>3.54</td>\n",
       "      <td>3.57</td>\n",
       "      <td>14.6</td>\n",
       "      <td>0</td>\n",
       "      <td>1</td>\n",
       "      <td>5</td>\n",
       "      <td>8</td>\n",
       "    </tr>\n",
       "  </tbody>\n",
       "</table>\n",
       "</div>"
      ],
      "text/plain": [
       "            model   mpg  cyl   disp   hp  drat    wt  qsec  vs  am  gear  carb\n",
       "30  Maserati Bora  15.0    8  301.0  335  3.54  3.57  14.6   0   1     5     8"
      ]
     },
     "execution_count": 66,
     "metadata": {},
     "output_type": "execute_result"
    }
   ],
   "source": [
    "df[df.hp>higher]\n"
   ]
  },
  {
   "cell_type": "code",
   "execution_count": 67,
   "metadata": {},
   "outputs": [
    {
     "data": {
      "text/plain": [
       "(array([5., 5., 7., 2., 6., 2., 3., 1., 0., 1.]),\n",
       " array([ 52. ,  80.3, 108.6, 136.9, 165.2, 193.5, 221.8, 250.1, 278.4,\n",
       "        306.7, 335. ]),\n",
       " <a list of 10 Patch objects>)"
      ]
     },
     "execution_count": 67,
     "metadata": {},
     "output_type": "execute_result"
    },
    {
     "data": {
      "image/png": "[encoded data removed]",
      "text/plain": [
       "<Figure size 432x288 with 1 Axes>"
      ]
     },
     "metadata": {
      "needs_background": "light"
     },
     "output_type": "display_data"
    }
   ],
   "source": [
    "plt.hist(df.hp)"
   ]
  },
  {
   "cell_type": "code",
   "execution_count": 68,
   "metadata": {},
   "outputs": [
    {
     "data": {
      "text/html": [
       "<div>\n",
       "<style scoped>\n",
       "    .dataframe tbody tr th:only-of-type {\n",
       "        vertical-align: middle;\n",
       "    }\n",
       "\n",
       "    .dataframe tbody tr th {\n",
       "        vertical-align: top;\n",
       "    }\n",
       "\n",
       "    .dataframe thead th {\n",
       "        text-align: right;\n",
       "    }\n",
       "</style>\n",
       "<table border=\"1\" class=\"dataframe\">\n",
       "  <thead>\n",
       "    <tr style=\"text-align: right;\">\n",
       "      <th></th>\n",
       "      <th>model</th>\n",
       "      <th>mpg</th>\n",
       "      <th>cyl</th>\n",
       "      <th>disp</th>\n",
       "      <th>hp</th>\n",
       "      <th>drat</th>\n",
       "      <th>wt</th>\n",
       "      <th>qsec</th>\n",
       "      <th>vs</th>\n",
       "      <th>am</th>\n",
       "      <th>gear</th>\n",
       "      <th>carb</th>\n",
       "    </tr>\n",
       "  </thead>\n",
       "  <tbody>\n",
       "    <tr>\n",
       "      <th>0</th>\n",
       "      <td>Mazda RX4</td>\n",
       "      <td>21.0</td>\n",
       "      <td>6</td>\n",
       "      <td>160.0</td>\n",
       "      <td>110</td>\n",
       "      <td>3.90</td>\n",
       "      <td>2.620</td>\n",
       "      <td>16.46</td>\n",
       "      <td>0</td>\n",
       "      <td>1</td>\n",
       "      <td>4</td>\n",
       "      <td>4</td>\n",
       "    </tr>\n",
       "    <tr>\n",
       "      <th>1</th>\n",
       "      <td>Mazda RX4 Wag</td>\n",
       "      <td>21.0</td>\n",
       "      <td>6</td>\n",
       "      <td>160.0</td>\n",
       "      <td>110</td>\n",
       "      <td>3.90</td>\n",
       "      <td>2.875</td>\n",
       "      <td>17.02</td>\n",
       "      <td>0</td>\n",
       "      <td>1</td>\n",
       "      <td>4</td>\n",
       "      <td>4</td>\n",
       "    </tr>\n",
       "    <tr>\n",
       "      <th>2</th>\n",
       "      <td>Datsun 710</td>\n",
       "      <td>22.8</td>\n",
       "      <td>4</td>\n",
       "      <td>108.0</td>\n",
       "      <td>93</td>\n",
       "      <td>3.85</td>\n",
       "      <td>2.320</td>\n",
       "      <td>18.61</td>\n",
       "      <td>1</td>\n",
       "      <td>1</td>\n",
       "      <td>4</td>\n",
       "      <td>1</td>\n",
       "    </tr>\n",
       "    <tr>\n",
       "      <th>3</th>\n",
       "      <td>Hornet 4 Drive</td>\n",
       "      <td>21.4</td>\n",
       "      <td>6</td>\n",
       "      <td>258.0</td>\n",
       "      <td>110</td>\n",
       "      <td>3.08</td>\n",
       "      <td>3.215</td>\n",
       "      <td>19.44</td>\n",
       "      <td>1</td>\n",
       "      <td>0</td>\n",
       "      <td>3</td>\n",
       "      <td>1</td>\n",
       "    </tr>\n",
       "    <tr>\n",
       "      <th>4</th>\n",
       "      <td>Hornet Sportabout</td>\n",
       "      <td>18.7</td>\n",
       "      <td>8</td>\n",
       "      <td>360.0</td>\n",
       "      <td>175</td>\n",
       "      <td>3.15</td>\n",
       "      <td>3.440</td>\n",
       "      <td>17.02</td>\n",
       "      <td>0</td>\n",
       "      <td>0</td>\n",
       "      <td>3</td>\n",
       "      <td>2</td>\n",
       "    </tr>\n",
       "    <tr>\n",
       "      <th>5</th>\n",
       "      <td>Valiant</td>\n",
       "      <td>18.1</td>\n",
       "      <td>6</td>\n",
       "      <td>225.0</td>\n",
       "      <td>105</td>\n",
       "      <td>2.76</td>\n",
       "      <td>3.460</td>\n",
       "      <td>20.22</td>\n",
       "      <td>1</td>\n",
       "      <td>0</td>\n",
       "      <td>3</td>\n",
       "      <td>1</td>\n",
       "    </tr>\n",
       "    <tr>\n",
       "      <th>7</th>\n",
       "      <td>Merc 240D</td>\n",
       "      <td>24.4</td>\n",
       "      <td>4</td>\n",
       "      <td>146.7</td>\n",
       "      <td>62</td>\n",
       "      <td>3.69</td>\n",
       "      <td>3.190</td>\n",
       "      <td>20.00</td>\n",
       "      <td>1</td>\n",
       "      <td>0</td>\n",
       "      <td>4</td>\n",
       "      <td>2</td>\n",
       "    </tr>\n",
       "    <tr>\n",
       "      <th>8</th>\n",
       "      <td>Merc 230</td>\n",
       "      <td>22.8</td>\n",
       "      <td>4</td>\n",
       "      <td>140.8</td>\n",
       "      <td>95</td>\n",
       "      <td>3.92</td>\n",
       "      <td>3.150</td>\n",
       "      <td>22.90</td>\n",
       "      <td>1</td>\n",
       "      <td>0</td>\n",
       "      <td>4</td>\n",
       "      <td>2</td>\n",
       "    </tr>\n",
       "    <tr>\n",
       "      <th>9</th>\n",
       "      <td>Merc 280</td>\n",
       "      <td>19.2</td>\n",
       "      <td>6</td>\n",
       "      <td>167.6</td>\n",
       "      <td>123</td>\n",
       "      <td>3.92</td>\n",
       "      <td>3.440</td>\n",
       "      <td>18.30</td>\n",
       "      <td>1</td>\n",
       "      <td>0</td>\n",
       "      <td>4</td>\n",
       "      <td>4</td>\n",
       "    </tr>\n",
       "    <tr>\n",
       "      <th>10</th>\n",
       "      <td>Merc 280C</td>\n",
       "      <td>17.8</td>\n",
       "      <td>6</td>\n",
       "      <td>167.6</td>\n",
       "      <td>123</td>\n",
       "      <td>3.92</td>\n",
       "      <td>3.440</td>\n",
       "      <td>18.90</td>\n",
       "      <td>1</td>\n",
       "      <td>0</td>\n",
       "      <td>4</td>\n",
       "      <td>4</td>\n",
       "    </tr>\n",
       "    <tr>\n",
       "      <th>11</th>\n",
       "      <td>Merc 450SE</td>\n",
       "      <td>16.4</td>\n",
       "      <td>8</td>\n",
       "      <td>275.8</td>\n",
       "      <td>180</td>\n",
       "      <td>3.07</td>\n",
       "      <td>4.070</td>\n",
       "      <td>17.40</td>\n",
       "      <td>0</td>\n",
       "      <td>0</td>\n",
       "      <td>3</td>\n",
       "      <td>3</td>\n",
       "    </tr>\n",
       "    <tr>\n",
       "      <th>12</th>\n",
       "      <td>Merc 450SL</td>\n",
       "      <td>17.3</td>\n",
       "      <td>8</td>\n",
       "      <td>275.8</td>\n",
       "      <td>180</td>\n",
       "      <td>3.07</td>\n",
       "      <td>3.730</td>\n",
       "      <td>17.60</td>\n",
       "      <td>0</td>\n",
       "      <td>0</td>\n",
       "      <td>3</td>\n",
       "      <td>3</td>\n",
       "    </tr>\n",
       "    <tr>\n",
       "      <th>13</th>\n",
       "      <td>Merc 450SLC</td>\n",
       "      <td>15.2</td>\n",
       "      <td>8</td>\n",
       "      <td>275.8</td>\n",
       "      <td>180</td>\n",
       "      <td>3.07</td>\n",
       "      <td>3.780</td>\n",
       "      <td>18.00</td>\n",
       "      <td>0</td>\n",
       "      <td>0</td>\n",
       "      <td>3</td>\n",
       "      <td>3</td>\n",
       "    </tr>\n",
       "    <tr>\n",
       "      <th>14</th>\n",
       "      <td>Cadillac Fleetwood</td>\n",
       "      <td>10.4</td>\n",
       "      <td>8</td>\n",
       "      <td>472.0</td>\n",
       "      <td>205</td>\n",
       "      <td>2.93</td>\n",
       "      <td>5.250</td>\n",
       "      <td>17.98</td>\n",
       "      <td>0</td>\n",
       "      <td>0</td>\n",
       "      <td>3</td>\n",
       "      <td>4</td>\n",
       "    </tr>\n",
       "    <tr>\n",
       "      <th>15</th>\n",
       "      <td>Lincoln Continental</td>\n",
       "      <td>10.4</td>\n",
       "      <td>8</td>\n",
       "      <td>460.0</td>\n",
       "      <td>215</td>\n",
       "      <td>3.00</td>\n",
       "      <td>5.424</td>\n",
       "      <td>17.82</td>\n",
       "      <td>0</td>\n",
       "      <td>0</td>\n",
       "      <td>3</td>\n",
       "      <td>4</td>\n",
       "    </tr>\n",
       "    <tr>\n",
       "      <th>17</th>\n",
       "      <td>Fiat 128</td>\n",
       "      <td>32.4</td>\n",
       "      <td>4</td>\n",
       "      <td>78.7</td>\n",
       "      <td>66</td>\n",
       "      <td>4.08</td>\n",
       "      <td>2.200</td>\n",
       "      <td>19.47</td>\n",
       "      <td>1</td>\n",
       "      <td>1</td>\n",
       "      <td>4</td>\n",
       "      <td>1</td>\n",
       "    </tr>\n",
       "    <tr>\n",
       "      <th>18</th>\n",
       "      <td>Honda Civic</td>\n",
       "      <td>30.4</td>\n",
       "      <td>4</td>\n",
       "      <td>75.7</td>\n",
       "      <td>52</td>\n",
       "      <td>4.93</td>\n",
       "      <td>1.615</td>\n",
       "      <td>18.52</td>\n",
       "      <td>1</td>\n",
       "      <td>1</td>\n",
       "      <td>4</td>\n",
       "      <td>2</td>\n",
       "    </tr>\n",
       "    <tr>\n",
       "      <th>19</th>\n",
       "      <td>Toyota Corolla</td>\n",
       "      <td>33.9</td>\n",
       "      <td>4</td>\n",
       "      <td>71.1</td>\n",
       "      <td>65</td>\n",
       "      <td>4.22</td>\n",
       "      <td>1.835</td>\n",
       "      <td>19.90</td>\n",
       "      <td>1</td>\n",
       "      <td>1</td>\n",
       "      <td>4</td>\n",
       "      <td>1</td>\n",
       "    </tr>\n",
       "    <tr>\n",
       "      <th>20</th>\n",
       "      <td>Toyota Corona</td>\n",
       "      <td>21.5</td>\n",
       "      <td>4</td>\n",
       "      <td>120.1</td>\n",
       "      <td>97</td>\n",
       "      <td>3.70</td>\n",
       "      <td>2.465</td>\n",
       "      <td>20.01</td>\n",
       "      <td>1</td>\n",
       "      <td>0</td>\n",
       "      <td>3</td>\n",
       "      <td>1</td>\n",
       "    </tr>\n",
       "    <tr>\n",
       "      <th>21</th>\n",
       "      <td>Dodge Challenger</td>\n",
       "      <td>15.5</td>\n",
       "      <td>8</td>\n",
       "      <td>318.0</td>\n",
       "      <td>150</td>\n",
       "      <td>2.76</td>\n",
       "      <td>3.520</td>\n",
       "      <td>16.87</td>\n",
       "      <td>0</td>\n",
       "      <td>0</td>\n",
       "      <td>3</td>\n",
       "      <td>2</td>\n",
       "    </tr>\n",
       "    <tr>\n",
       "      <th>22</th>\n",
       "      <td>AMC Javelin</td>\n",
       "      <td>15.2</td>\n",
       "      <td>8</td>\n",
       "      <td>304.0</td>\n",
       "      <td>150</td>\n",
       "      <td>3.15</td>\n",
       "      <td>3.435</td>\n",
       "      <td>17.30</td>\n",
       "      <td>0</td>\n",
       "      <td>0</td>\n",
       "      <td>3</td>\n",
       "      <td>2</td>\n",
       "    </tr>\n",
       "    <tr>\n",
       "      <th>24</th>\n",
       "      <td>Pontiac Firebird</td>\n",
       "      <td>19.2</td>\n",
       "      <td>8</td>\n",
       "      <td>400.0</td>\n",
       "      <td>175</td>\n",
       "      <td>3.08</td>\n",
       "      <td>3.845</td>\n",
       "      <td>17.05</td>\n",
       "      <td>0</td>\n",
       "      <td>0</td>\n",
       "      <td>3</td>\n",
       "      <td>2</td>\n",
       "    </tr>\n",
       "    <tr>\n",
       "      <th>25</th>\n",
       "      <td>Fiat X1-9</td>\n",
       "      <td>27.3</td>\n",
       "      <td>4</td>\n",
       "      <td>79.0</td>\n",
       "      <td>66</td>\n",
       "      <td>4.08</td>\n",
       "      <td>1.935</td>\n",
       "      <td>18.90</td>\n",
       "      <td>1</td>\n",
       "      <td>1</td>\n",
       "      <td>4</td>\n",
       "      <td>1</td>\n",
       "    </tr>\n",
       "    <tr>\n",
       "      <th>26</th>\n",
       "      <td>Porsche 914-2</td>\n",
       "      <td>26.0</td>\n",
       "      <td>4</td>\n",
       "      <td>120.3</td>\n",
       "      <td>91</td>\n",
       "      <td>4.43</td>\n",
       "      <td>2.140</td>\n",
       "      <td>16.70</td>\n",
       "      <td>0</td>\n",
       "      <td>1</td>\n",
       "      <td>5</td>\n",
       "      <td>2</td>\n",
       "    </tr>\n",
       "    <tr>\n",
       "      <th>27</th>\n",
       "      <td>Lotus Europa</td>\n",
       "      <td>30.4</td>\n",
       "      <td>4</td>\n",
       "      <td>95.1</td>\n",
       "      <td>113</td>\n",
       "      <td>3.77</td>\n",
       "      <td>1.513</td>\n",
       "      <td>16.90</td>\n",
       "      <td>1</td>\n",
       "      <td>1</td>\n",
       "      <td>5</td>\n",
       "      <td>2</td>\n",
       "    </tr>\n",
       "    <tr>\n",
       "      <th>29</th>\n",
       "      <td>Ferrari Dino</td>\n",
       "      <td>19.7</td>\n",
       "      <td>6</td>\n",
       "      <td>145.0</td>\n",
       "      <td>175</td>\n",
       "      <td>3.62</td>\n",
       "      <td>2.770</td>\n",
       "      <td>15.50</td>\n",
       "      <td>0</td>\n",
       "      <td>1</td>\n",
       "      <td>5</td>\n",
       "      <td>6</td>\n",
       "    </tr>\n",
       "    <tr>\n",
       "      <th>31</th>\n",
       "      <td>Volvo 142E</td>\n",
       "      <td>21.4</td>\n",
       "      <td>4</td>\n",
       "      <td>121.0</td>\n",
       "      <td>109</td>\n",
       "      <td>4.11</td>\n",
       "      <td>2.780</td>\n",
       "      <td>18.60</td>\n",
       "      <td>1</td>\n",
       "      <td>1</td>\n",
       "      <td>4</td>\n",
       "      <td>2</td>\n",
       "    </tr>\n",
       "  </tbody>\n",
       "</table>\n",
       "</div>"
      ],
      "text/plain": [
       "                  model   mpg  cyl   disp   hp  drat     wt   qsec  vs  am  \\\n",
       "0             Mazda RX4  21.0    6  160.0  110  3.90  2.620  16.46   0   1   \n",
       "1         Mazda RX4 Wag  21.0    6  160.0  110  3.90  2.875  17.02   0   1   \n",
       "2            Datsun 710  22.8    4  108.0   93  3.85  2.320  18.61   1   1   \n",
       "3        Hornet 4 Drive  21.4    6  258.0  110  3.08  3.215  19.44   1   0   \n",
       "4     Hornet Sportabout  18.7    8  360.0  175  3.15  3.440  17.02   0   0   \n",
       "5               Valiant  18.1    6  225.0  105  2.76  3.460  20.22   1   0   \n",
       "7             Merc 240D  24.4    4  146.7   62  3.69  3.190  20.00   1   0   \n",
       "8              Merc 230  22.8    4  140.8   95  3.92  3.150  22.90   1   0   \n",
       "9              Merc 280  19.2    6  167.6  123  3.92  3.440  18.30   1   0   \n",
       "10            Merc 280C  17.8    6  167.6  123  3.92  3.440  18.90   1   0   \n",
       "11           Merc 450SE  16.4    8  275.8  180  3.07  4.070  17.40   0   0   \n",
       "12           Merc 450SL  17.3    8  275.8  180  3.07  3.730  17.60   0   0   \n",
       "13          Merc 450SLC  15.2    8  275.8  180  3.07  3.780  18.00   0   0   \n",
       "14   Cadillac Fleetwood  10.4    8  472.0  205  2.93  5.250  17.98   0   0   \n",
       "15  Lincoln Continental  10.4    8  460.0  215  3.00  5.424  17.82   0   0   \n",
       "17             Fiat 128  32.4    4   78.7   66  4.08  2.200  19.47   1   1   \n",
       "18          Honda Civic  30.4    4   75.7   52  4.93  1.615  18.52   1   1   \n",
       "19       Toyota Corolla  33.9    4   71.1   65  4.22  1.835  19.90   1   1   \n",
       "20        Toyota Corona  21.5    4  120.1   97  3.70  2.465  20.01   1   0   \n",
       "21     Dodge Challenger  15.5    8  318.0  150  2.76  3.520  16.87   0   0   \n",
       "22          AMC Javelin  15.2    8  304.0  150  3.15  3.435  17.30   0   0   \n",
       "24     Pontiac Firebird  19.2    8  400.0  175  3.08  3.845  17.05   0   0   \n",
       "25            Fiat X1-9  27.3    4   79.0   66  4.08  1.935  18.90   1   1   \n",
       "26        Porsche 914-2  26.0    4  120.3   91  4.43  2.140  16.70   0   1   \n",
       "27         Lotus Europa  30.4    4   95.1  113  3.77  1.513  16.90   1   1   \n",
       "29         Ferrari Dino  19.7    6  145.0  175  3.62  2.770  15.50   0   1   \n",
       "31           Volvo 142E  21.4    4  121.0  109  4.11  2.780  18.60   1   1   \n",
       "\n",
       "    gear  carb  \n",
       "0      4     4  \n",
       "1      4     4  \n",
       "2      4     1  \n",
       "3      3     1  \n",
       "4      3     2  \n",
       "5      3     1  \n",
       "7      4     2  \n",
       "8      4     2  \n",
       "9      4     4  \n",
       "10     4     4  \n",
       "11     3     3  \n",
       "12     3     3  \n",
       "13     3     3  \n",
       "14     3     4  \n",
       "15     3     4  \n",
       "17     4     1  \n",
       "18     4     2  \n",
       "19     4     1  \n",
       "20     3     1  \n",
       "21     3     2  \n",
       "22     3     2  \n",
       "24     3     2  \n",
       "25     4     1  \n",
       "26     5     2  \n",
       "27     5     2  \n",
       "29     5     6  \n",
       "31     4     2  "
      ]
     },
     "execution_count": 68,
     "metadata": {},
     "output_type": "execute_result"
    }
   ],
   "source": [
    "df[df.hp<lower]"
   ]
  },
  {
   "cell_type": "code",
   "execution_count": null,
   "metadata": {},
   "outputs": [],
   "source": []
  },
  {
   "cell_type": "code",
   "execution_count": 69,
   "metadata": {},
   "outputs": [],
   "source": [
    "#method 2 to treat out layier"
   ]
  },
  {
   "cell_type": "code",
   "execution_count": 70,
   "metadata": {},
   "outputs": [
    {
     "data": {
      "text/html": [
       "<div>\n",
       "<style scoped>\n",
       "    .dataframe tbody tr th:only-of-type {\n",
       "        vertical-align: middle;\n",
       "    }\n",
       "\n",
       "    .dataframe tbody tr th {\n",
       "        vertical-align: top;\n",
       "    }\n",
       "\n",
       "    .dataframe thead th {\n",
       "        text-align: right;\n",
       "    }\n",
       "</style>\n",
       "<table border=\"1\" class=\"dataframe\">\n",
       "  <thead>\n",
       "    <tr style=\"text-align: right;\">\n",
       "      <th></th>\n",
       "      <th>model</th>\n",
       "      <th>mpg</th>\n",
       "      <th>cyl</th>\n",
       "      <th>disp</th>\n",
       "      <th>hp</th>\n",
       "      <th>drat</th>\n",
       "      <th>wt</th>\n",
       "      <th>qsec</th>\n",
       "      <th>vs</th>\n",
       "      <th>am</th>\n",
       "      <th>gear</th>\n",
       "      <th>carb</th>\n",
       "    </tr>\n",
       "  </thead>\n",
       "  <tbody>\n",
       "    <tr>\n",
       "      <th>30</th>\n",
       "      <td>Maserati Bora</td>\n",
       "      <td>15.0</td>\n",
       "      <td>8</td>\n",
       "      <td>301.0</td>\n",
       "      <td>335</td>\n",
       "      <td>3.54</td>\n",
       "      <td>3.57</td>\n",
       "      <td>14.6</td>\n",
       "      <td>0</td>\n",
       "      <td>1</td>\n",
       "      <td>5</td>\n",
       "      <td>8</td>\n",
       "    </tr>\n",
       "  </tbody>\n",
       "</table>\n",
       "</div>"
      ],
      "text/plain": [
       "            model   mpg  cyl   disp   hp  drat    wt  qsec  vs  am  gear  carb\n",
       "30  Maserati Bora  15.0    8  301.0  335  3.54  3.57  14.6   0   1     5     8"
      ]
     },
     "execution_count": 70,
     "metadata": {},
     "output_type": "execute_result"
    }
   ],
   "source": [
    "df[df.hp>df.hp.max()*0.8]"
   ]
  },
  {
   "cell_type": "code",
   "execution_count": 71,
   "metadata": {},
   "outputs": [
    {
     "data": {
      "text/plain": [
       "268.0"
      ]
     },
     "execution_count": 71,
     "metadata": {},
     "output_type": "execute_result"
    }
   ],
   "source": [
    "uv=df.hp.max()*0.80\n",
    "uv"
   ]
  },
  {
   "cell_type": "code",
   "execution_count": 72,
   "metadata": {},
   "outputs": [
    {
     "data": {
      "text/html": [
       "<div>\n",
       "<style scoped>\n",
       "    .dataframe tbody tr th:only-of-type {\n",
       "        vertical-align: middle;\n",
       "    }\n",
       "\n",
       "    .dataframe tbody tr th {\n",
       "        vertical-align: top;\n",
       "    }\n",
       "\n",
       "    .dataframe thead th {\n",
       "        text-align: right;\n",
       "    }\n",
       "</style>\n",
       "<table border=\"1\" class=\"dataframe\">\n",
       "  <thead>\n",
       "    <tr style=\"text-align: right;\">\n",
       "      <th></th>\n",
       "      <th>model</th>\n",
       "      <th>mpg</th>\n",
       "      <th>cyl</th>\n",
       "      <th>disp</th>\n",
       "      <th>hp</th>\n",
       "      <th>drat</th>\n",
       "      <th>wt</th>\n",
       "      <th>qsec</th>\n",
       "      <th>vs</th>\n",
       "      <th>am</th>\n",
       "      <th>gear</th>\n",
       "      <th>carb</th>\n",
       "    </tr>\n",
       "  </thead>\n",
       "  <tbody>\n",
       "    <tr>\n",
       "      <th>30</th>\n",
       "      <td>Maserati Bora</td>\n",
       "      <td>15.0</td>\n",
       "      <td>8</td>\n",
       "      <td>301.0</td>\n",
       "      <td>335</td>\n",
       "      <td>3.54</td>\n",
       "      <td>3.57</td>\n",
       "      <td>14.6</td>\n",
       "      <td>0</td>\n",
       "      <td>1</td>\n",
       "      <td>5</td>\n",
       "      <td>8</td>\n",
       "    </tr>\n",
       "  </tbody>\n",
       "</table>\n",
       "</div>"
      ],
      "text/plain": [
       "            model   mpg  cyl   disp   hp  drat    wt  qsec  vs  am  gear  carb\n",
       "30  Maserati Bora  15.0    8  301.0  335  3.54  3.57  14.6   0   1     5     8"
      ]
     },
     "execution_count": 72,
     "metadata": {},
     "output_type": "execute_result"
    }
   ],
   "source": [
    "df[df.hp>uv]"
   ]
  },
  {
   "cell_type": "code",
   "execution_count": 73,
   "metadata": {},
   "outputs": [
    {
     "data": {
      "text/plain": [
       "(10.4, 221.75)"
      ]
     },
     "execution_count": 73,
     "metadata": {},
     "output_type": "execute_result"
    }
   ],
   "source": [
    "lv=df.hp.min()*0.2\n",
    "lv,lower"
   ]
  },
  {
   "cell_type": "code",
   "execution_count": 74,
   "metadata": {},
   "outputs": [
    {
     "data": {
      "text/html": [
       "<div>\n",
       "<style scoped>\n",
       "    .dataframe tbody tr th:only-of-type {\n",
       "        vertical-align: middle;\n",
       "    }\n",
       "\n",
       "    .dataframe tbody tr th {\n",
       "        vertical-align: top;\n",
       "    }\n",
       "\n",
       "    .dataframe thead th {\n",
       "        text-align: right;\n",
       "    }\n",
       "</style>\n",
       "<table border=\"1\" class=\"dataframe\">\n",
       "  <thead>\n",
       "    <tr style=\"text-align: right;\">\n",
       "      <th></th>\n",
       "      <th>model</th>\n",
       "      <th>mpg</th>\n",
       "      <th>cyl</th>\n",
       "      <th>disp</th>\n",
       "      <th>hp</th>\n",
       "      <th>drat</th>\n",
       "      <th>wt</th>\n",
       "      <th>qsec</th>\n",
       "      <th>vs</th>\n",
       "      <th>am</th>\n",
       "      <th>gear</th>\n",
       "      <th>carb</th>\n",
       "    </tr>\n",
       "  </thead>\n",
       "  <tbody>\n",
       "  </tbody>\n",
       "</table>\n",
       "</div>"
      ],
      "text/plain": [
       "Empty DataFrame\n",
       "Columns: [model, mpg, cyl, disp, hp, drat, wt, qsec, vs, am, gear, carb]\n",
       "Index: []"
      ]
     },
     "execution_count": 74,
     "metadata": {},
     "output_type": "execute_result"
    }
   ],
   "source": [
    "df[df.hp<lv]"
   ]
  },
  {
   "cell_type": "code",
   "execution_count": 75,
   "metadata": {},
   "outputs": [
    {
     "data": {
      "text/plain": [
       "array([312.99])"
      ]
     },
     "execution_count": 75,
     "metadata": {},
     "output_type": "execute_result"
    }
   ],
   "source": [
    "#method 3 to treat out laier\n",
    "np.percentile(df.hp,[99])"
   ]
  },
  {
   "cell_type": "code",
   "execution_count": 76,
   "metadata": {},
   "outputs": [
    {
     "data": {
      "text/html": [
       "<div>\n",
       "<style scoped>\n",
       "    .dataframe tbody tr th:only-of-type {\n",
       "        vertical-align: middle;\n",
       "    }\n",
       "\n",
       "    .dataframe tbody tr th {\n",
       "        vertical-align: top;\n",
       "    }\n",
       "\n",
       "    .dataframe thead th {\n",
       "        text-align: right;\n",
       "    }\n",
       "</style>\n",
       "<table border=\"1\" class=\"dataframe\">\n",
       "  <thead>\n",
       "    <tr style=\"text-align: right;\">\n",
       "      <th></th>\n",
       "      <th>model</th>\n",
       "      <th>mpg</th>\n",
       "      <th>cyl</th>\n",
       "      <th>disp</th>\n",
       "      <th>hp</th>\n",
       "      <th>drat</th>\n",
       "      <th>wt</th>\n",
       "      <th>qsec</th>\n",
       "      <th>vs</th>\n",
       "      <th>am</th>\n",
       "      <th>gear</th>\n",
       "      <th>carb</th>\n",
       "    </tr>\n",
       "  </thead>\n",
       "  <tbody>\n",
       "    <tr>\n",
       "      <th>30</th>\n",
       "      <td>Maserati Bora</td>\n",
       "      <td>15.0</td>\n",
       "      <td>8</td>\n",
       "      <td>301.0</td>\n",
       "      <td>335</td>\n",
       "      <td>3.54</td>\n",
       "      <td>3.57</td>\n",
       "      <td>14.6</td>\n",
       "      <td>0</td>\n",
       "      <td>1</td>\n",
       "      <td>5</td>\n",
       "      <td>8</td>\n",
       "    </tr>\n",
       "  </tbody>\n",
       "</table>\n",
       "</div>"
      ],
      "text/plain": [
       "            model   mpg  cyl   disp   hp  drat    wt  qsec  vs  am  gear  carb\n",
       "30  Maserati Bora  15.0    8  301.0  335  3.54  3.57  14.6   0   1     5     8"
      ]
     },
     "execution_count": 76,
     "metadata": {},
     "output_type": "execute_result"
    }
   ],
   "source": [
    "np.percentile(df.hp,[99])[0]\n",
    "uv = np.percentile(df.hp,[99])[0]\n",
    "df[(df.hp>uv)]\n"
   ]
  },
  {
   "cell_type": "code",
   "execution_count": 77,
   "metadata": {},
   "outputs": [
    {
     "name": "stderr",
     "output_type": "stream",
     "text": [
      "C:\\Users\\ravik\\Anaconda3\\lib\\site-packages\\ipykernel_launcher.py:4: SettingWithCopyWarning: \n",
      "A value is trying to be set on a copy of a slice from a DataFrame\n",
      "\n",
      "See the caveats in the documentation: https://pandas.pydata.org/pandas-docs/stable/user_guide/indexing.html#returning-a-view-versus-a-copy\n",
      "  after removing the cwd from sys.path.\n"
     ]
    }
   ],
   "source": [
    "np.percentile(df.hp,[1])[0]\n",
    "lv = np.percentile(df.hp,[1])[0]\n",
    "df[(df.hp< lv)]\n",
    "df.hp[(df.hp <0.3*lv)] = 0.3*lv"
   ]
  },
  {
   "cell_type": "code",
   "execution_count": 78,
   "metadata": {},
   "outputs": [
    {
     "data": {
      "text/plain": [
       "(array([5., 5., 7., 2., 6., 2., 3., 1., 0., 1.]),\n",
       " array([ 52. ,  80.3, 108.6, 136.9, 165.2, 193.5, 221.8, 250.1, 278.4,\n",
       "        306.7, 335. ]),\n",
       " <a list of 10 Patch objects>)"
      ]
     },
     "execution_count": 78,
     "metadata": {},
     "output_type": "execute_result"
    },
    {
     "data": {
      "image/png": "[encoded data removed]",
      "text/plain": [
       "<Figure size 432x288 with 1 Axes>"
      ]
     },
     "metadata": {
      "needs_background": "light"
     },
     "output_type": "display_data"
    }
   ],
   "source": [
    "plt.hist(df.hp)"
   ]
  },
  {
   "cell_type": "markdown",
   "metadata": {},
   "source": [
    "# base model"
   ]
  },
  {
   "cell_type": "code",
   "execution_count": 79,
   "metadata": {},
   "outputs": [
    {
     "data": {
      "text/plain": [
       "20.090624999999996"
      ]
     },
     "execution_count": 79,
     "metadata": {},
     "output_type": "execute_result"
    }
   ],
   "source": [
    "df.mpg.mean()"
   ]
  },
  {
   "cell_type": "code",
   "execution_count": 110,
   "metadata": {},
   "outputs": [
    {
     "data": {
      "text/plain": [
       "<matplotlib.axes._subplots.AxesSubplot at 0x13a92913a90>"
      ]
     },
     "execution_count": 110,
     "metadata": {},
     "output_type": "execute_result"
    },
    {
     "data": {
      "image/png": "[encoded data removed]",
      "text/plain": [
       "<Figure size 432x288 with 1 Axes>"
      ]
     },
     "metadata": {
      "needs_background": "light"
     },
     "output_type": "display_data"
    }
   ],
   "source": [
    "baseresd=df.mpg-df.mpg.mean()\n",
    "baseresd.plot(kind=\"bar\")"
   ]
  },
  {
   "cell_type": "code",
   "execution_count": 121,
   "metadata": {},
   "outputs": [
    {
     "data": {
      "text/plain": [
       "LinearRegression()"
      ]
     },
     "execution_count": 121,
     "metadata": {},
     "output_type": "execute_result"
    }
   ],
   "source": [
    "model\n",
    "del df['model']"
   ]
  },
  {
   "cell_type": "code",
   "execution_count": 138,
   "metadata": {},
   "outputs": [],
   "source": [
    "model=LinearRegression()"
   ]
  },
  {
   "cell_type": "code",
   "execution_count": 141,
   "metadata": {},
   "outputs": [],
   "source": [
    "\n",
    "x=df.iloc[:,df.columns!='mpg']\n",
    "y=df['mpg']\n"
   ]
  },
  {
   "cell_type": "code",
   "execution_count": 142,
   "metadata": {},
   "outputs": [
    {
     "data": {
      "text/plain": [
       "LinearRegression()"
      ]
     },
     "execution_count": 142,
     "metadata": {},
     "output_type": "execute_result"
    }
   ],
   "source": [
    "model.fit(x,y)"
   ]
  },
  {
   "cell_type": "code",
   "execution_count": 147,
   "metadata": {},
   "outputs": [
    {
     "data": {
      "text/plain": [
       "(12.303374155996293,\n",
       " array([-0.11144048,  0.01333524, -0.02148212,  0.78711097, -3.71530393,\n",
       "         0.82104075,  0.31776281,  2.52022689,  0.65541302, -0.19941925]))"
      ]
     },
     "execution_count": 147,
     "metadata": {},
     "output_type": "execute_result"
    }
   ],
   "source": [
    "model.intercept_,model.coef_"
   ]
  },
  {
   "cell_type": "code",
   "execution_count": 144,
   "metadata": {},
   "outputs": [
    {
     "data": {
      "text/plain": [
       "0.8690157644777647"
      ]
     },
     "execution_count": 144,
     "metadata": {},
     "output_type": "execute_result"
    },
    {
     "data": {
      "image/png": "[encoded data removed]",
      "text/plain": [
       "<Figure size 432x288 with 1 Axes>"
      ]
     },
     "metadata": {
      "needs_background": "light"
     },
     "output_type": "display_data"
    }
   ],
   "source": [
    "sns.scatterplot(x=df.disp,y=df.mpg,data=df)\n",
    "r2_score(y,ypred)"
   ]
  },
  {
   "cell_type": "code",
   "execution_count": 132,
   "metadata": {},
   "outputs": [],
   "source": [
    "ypred=model.predict(x)"
   ]
  },
  {
   "cell_type": "code",
   "execution_count": 133,
   "metadata": {},
   "outputs": [],
   "source": [
    "lasso=Lasso()\n",
    "ridge=Ridge()"
   ]
  },
  {
   "cell_type": "code",
   "execution_count": 150,
   "metadata": {},
   "outputs": [
    {
     "data": {
      "text/plain": [
       "array([0.12996473, 0.47380936, 0.72478191, 0.69104693, 0.54898879])"
      ]
     },
     "execution_count": 150,
     "metadata": {},
     "output_type": "execute_result"
    }
   ],
   "source": [
    "cross_val_score(ridge,x,y)"
   ]
  },
  {
   "cell_type": "code",
   "execution_count": 151,
   "metadata": {},
   "outputs": [
    {
     "data": {
      "text/plain": [
       "(0.8690157644777647, 4.609200938020333, 1.7227401628911443)"
      ]
     },
     "execution_count": 151,
     "metadata": {},
     "output_type": "execute_result"
    }
   ],
   "source": [
    "r2_score(y,ypred), mean_squared_error(y,ypred), mean_absolute_error(y,ypred)"
   ]
  },
  {
   "cell_type": "code",
   "execution_count": 152,
   "metadata": {},
   "outputs": [
    {
     "data": {
      "text/plain": [
       "0.8690157644777647"
      ]
     },
     "execution_count": 152,
     "metadata": {},
     "output_type": "execute_result"
    }
   ],
   "source": [
    "r2_score(y,ypred)"
   ]
  },
  {
   "cell_type": "code",
   "execution_count": 153,
   "metadata": {},
   "outputs": [
    {
     "data": {
      "text/plain": [
       "array([0.12996473, 0.47380936, 0.72478191, 0.69104693, 0.54898879])"
      ]
     },
     "execution_count": 153,
     "metadata": {},
     "output_type": "execute_result"
    }
   ],
   "source": [
    "cross_val_score(ridge,x,y)"
   ]
  },
  {
   "cell_type": "code",
   "execution_count": null,
   "metadata": {},
   "outputs": [],
   "source": []
  },
  {
   "cell_type": "code",
   "execution_count": null,
   "metadata": {},
   "outputs": [],
   "source": []
  },
  {
   "cell_type": "code",
   "execution_count": null,
   "metadata": {},
   "outputs": [],
   "source": []
  },
  {
   "cell_type": "code",
   "execution_count": null,
   "metadata": {},
   "outputs": [],
   "source": []
  },
  {
   "cell_type": "code",
   "execution_count": 324,
   "metadata": {},
   "outputs": [],
   "source": [
    "file=r\"C:\\Users\\ravik\\Downloads\\weather.csv\""
   ]
  },
  {
   "cell_type": "code",
   "execution_count": 325,
   "metadata": {},
   "outputs": [],
   "source": [
    "df=pd.read_csv(file)"
   ]
  },
  {
   "cell_type": "code",
   "execution_count": 326,
   "metadata": {},
   "outputs": [
    {
     "data": {
      "text/plain": [
       "(366, 22)"
      ]
     },
     "execution_count": 326,
     "metadata": {},
     "output_type": "execute_result"
    }
   ],
   "source": [
    "df.shape"
   ]
  },
  {
   "cell_type": "code",
   "execution_count": 327,
   "metadata": {},
   "outputs": [
    {
     "data": {
      "text/plain": [
       "8052"
      ]
     },
     "execution_count": 327,
     "metadata": {},
     "output_type": "execute_result"
    }
   ],
   "source": [
    "df.size"
   ]
  },
  {
   "cell_type": "code",
   "execution_count": 328,
   "metadata": {},
   "outputs": [
    {
     "name": "stdout",
     "output_type": "stream",
     "text": [
      "<class 'pandas.core.frame.DataFrame'>\n",
      "RangeIndex: 366 entries, 0 to 365\n",
      "Data columns (total 22 columns):\n",
      " #   Column         Non-Null Count  Dtype  \n",
      "---  ------         --------------  -----  \n",
      " 0   MinTemp        366 non-null    float64\n",
      " 1   MaxTemp        366 non-null    float64\n",
      " 2   Rainfall       366 non-null    float64\n",
      " 3   Evaporation    366 non-null    float64\n",
      " 4   Sunshine       363 non-null    float64\n",
      " 5   WindGustDir    363 non-null    object \n",
      " 6   WindGustSpeed  364 non-null    float64\n",
      " 7   WindDir9am     335 non-null    object \n",
      " 8   WindDir3pm     365 non-null    object \n",
      " 9   WindSpeed9am   359 non-null    float64\n",
      " 10  WindSpeed3pm   366 non-null    int64  \n",
      " 11  Humidity9am    366 non-null    int64  \n",
      " 12  Humidity3pm    366 non-null    int64  \n",
      " 13  Pressure9am    366 non-null    float64\n",
      " 14  Pressure3pm    366 non-null    float64\n",
      " 15  Cloud9am       366 non-null    int64  \n",
      " 16  Cloud3pm       366 non-null    int64  \n",
      " 17  Temp9am        366 non-null    float64\n",
      " 18  Temp3pm        366 non-null    float64\n",
      " 19  RainToday      366 non-null    object \n",
      " 20  RISK_MM        366 non-null    float64\n",
      " 21  RainTomorrow   366 non-null    object \n",
      "dtypes: float64(12), int64(5), object(5)\n",
      "memory usage: 63.0+ KB\n"
     ]
    }
   ],
   "source": [
    "df.info()"
   ]
  },
  {
   "cell_type": "code",
   "execution_count": 329,
   "metadata": {},
   "outputs": [
    {
     "data": {
      "text/plain": [
       "MinTemp           0\n",
       "MaxTemp           0\n",
       "Rainfall          0\n",
       "Evaporation       0\n",
       "Sunshine          3\n",
       "WindGustDir       3\n",
       "WindGustSpeed     2\n",
       "WindDir9am       31\n",
       "WindDir3pm        1\n",
       "WindSpeed9am      7\n",
       "WindSpeed3pm      0\n",
       "Humidity9am       0\n",
       "Humidity3pm       0\n",
       "Pressure9am       0\n",
       "Pressure3pm       0\n",
       "Cloud9am          0\n",
       "Cloud3pm          0\n",
       "Temp9am           0\n",
       "Temp3pm           0\n",
       "RainToday         0\n",
       "RISK_MM           0\n",
       "RainTomorrow      0\n",
       "dtype: int64"
      ]
     },
     "execution_count": 329,
     "metadata": {},
     "output_type": "execute_result"
    }
   ],
   "source": [
    "df.isnull().sum()"
   ]
  },
  {
   "cell_type": "code",
   "execution_count": 330,
   "metadata": {},
   "outputs": [
    {
     "data": {
      "text/plain": [
       "count    363.000000\n",
       "mean       7.909366\n",
       "std        3.481517\n",
       "min        0.000000\n",
       "25%        5.950000\n",
       "50%        8.600000\n",
       "75%       10.500000\n",
       "max       13.600000\n",
       "Name: Sunshine, dtype: float64"
      ]
     },
     "execution_count": 330,
     "metadata": {},
     "output_type": "execute_result"
    }
   ],
   "source": [
    "df.Sunshine.describe()"
   ]
  },
  {
   "cell_type": "code",
   "execution_count": null,
   "metadata": {},
   "outputs": [],
   "source": []
  },
  {
   "cell_type": "code",
   "execution_count": 331,
   "metadata": {},
   "outputs": [
    {
     "data": {
      "text/plain": [
       "3"
      ]
     },
     "execution_count": 331,
     "metadata": {},
     "output_type": "execute_result"
    }
   ],
   "source": [
    "df.Sunshine.isnull().sum()"
   ]
  },
  {
   "cell_type": "code",
   "execution_count": 332,
   "metadata": {},
   "outputs": [],
   "source": [
    "df.fillna(df.mean(),inplace=True)"
   ]
  },
  {
   "cell_type": "code",
   "execution_count": 333,
   "metadata": {},
   "outputs": [
    {
     "name": "stdout",
     "output_type": "stream",
     "text": [
      "<class 'pandas.core.frame.DataFrame'>\n",
      "RangeIndex: 366 entries, 0 to 365\n",
      "Data columns (total 22 columns):\n",
      " #   Column         Non-Null Count  Dtype  \n",
      "---  ------         --------------  -----  \n",
      " 0   MinTemp        366 non-null    float64\n",
      " 1   MaxTemp        366 non-null    float64\n",
      " 2   Rainfall       366 non-null    float64\n",
      " 3   Evaporation    366 non-null    float64\n",
      " 4   Sunshine       366 non-null    float64\n",
      " 5   WindGustDir    363 non-null    object \n",
      " 6   WindGustSpeed  366 non-null    float64\n",
      " 7   WindDir9am     335 non-null    object \n",
      " 8   WindDir3pm     365 non-null    object \n",
      " 9   WindSpeed9am   366 non-null    float64\n",
      " 10  WindSpeed3pm   366 non-null    int64  \n",
      " 11  Humidity9am    366 non-null    int64  \n",
      " 12  Humidity3pm    366 non-null    int64  \n",
      " 13  Pressure9am    366 non-null    float64\n",
      " 14  Pressure3pm    366 non-null    float64\n",
      " 15  Cloud9am       366 non-null    int64  \n",
      " 16  Cloud3pm       366 non-null    int64  \n",
      " 17  Temp9am        366 non-null    float64\n",
      " 18  Temp3pm        366 non-null    float64\n",
      " 19  RainToday      366 non-null    object \n",
      " 20  RISK_MM        366 non-null    float64\n",
      " 21  RainTomorrow   366 non-null    object \n",
      "dtypes: float64(12), int64(5), object(5)\n",
      "memory usage: 63.0+ KB\n"
     ]
    }
   ],
   "source": [
    "df.info()"
   ]
  },
  {
   "cell_type": "code",
   "execution_count": 334,
   "metadata": {},
   "outputs": [
    {
     "data": {
      "text/html": [
       "<div>\n",
       "<style scoped>\n",
       "    .dataframe tbody tr th:only-of-type {\n",
       "        vertical-align: middle;\n",
       "    }\n",
       "\n",
       "    .dataframe tbody tr th {\n",
       "        vertical-align: top;\n",
       "    }\n",
       "\n",
       "    .dataframe thead th {\n",
       "        text-align: right;\n",
       "    }\n",
       "</style>\n",
       "<table border=\"1\" class=\"dataframe\">\n",
       "  <thead>\n",
       "    <tr style=\"text-align: right;\">\n",
       "      <th></th>\n",
       "      <th>MinTemp</th>\n",
       "      <th>MaxTemp</th>\n",
       "      <th>Rainfall</th>\n",
       "      <th>Evaporation</th>\n",
       "      <th>Sunshine</th>\n",
       "      <th>WindGustSpeed</th>\n",
       "      <th>WindSpeed9am</th>\n",
       "      <th>WindSpeed3pm</th>\n",
       "      <th>Humidity9am</th>\n",
       "      <th>Humidity3pm</th>\n",
       "      <th>Pressure9am</th>\n",
       "      <th>Pressure3pm</th>\n",
       "      <th>Cloud9am</th>\n",
       "      <th>Cloud3pm</th>\n",
       "      <th>Temp9am</th>\n",
       "      <th>Temp3pm</th>\n",
       "      <th>RISK_MM</th>\n",
       "    </tr>\n",
       "  </thead>\n",
       "  <tbody>\n",
       "    <tr>\n",
       "      <th>count</th>\n",
       "      <td>366.000000</td>\n",
       "      <td>366.000000</td>\n",
       "      <td>366.000000</td>\n",
       "      <td>366.000000</td>\n",
       "      <td>366.000000</td>\n",
       "      <td>366.000000</td>\n",
       "      <td>366.000000</td>\n",
       "      <td>366.000000</td>\n",
       "      <td>366.000000</td>\n",
       "      <td>366.000000</td>\n",
       "      <td>366.000000</td>\n",
       "      <td>366.000000</td>\n",
       "      <td>366.000000</td>\n",
       "      <td>366.000000</td>\n",
       "      <td>366.000000</td>\n",
       "      <td>366.000000</td>\n",
       "      <td>366.000000</td>\n",
       "    </tr>\n",
       "    <tr>\n",
       "      <th>mean</th>\n",
       "      <td>7.265574</td>\n",
       "      <td>20.550273</td>\n",
       "      <td>1.428415</td>\n",
       "      <td>4.521858</td>\n",
       "      <td>7.909366</td>\n",
       "      <td>39.840659</td>\n",
       "      <td>9.651811</td>\n",
       "      <td>17.986339</td>\n",
       "      <td>72.035519</td>\n",
       "      <td>44.519126</td>\n",
       "      <td>1019.709016</td>\n",
       "      <td>1016.810383</td>\n",
       "      <td>3.890710</td>\n",
       "      <td>4.024590</td>\n",
       "      <td>12.358470</td>\n",
       "      <td>19.230874</td>\n",
       "      <td>1.428415</td>\n",
       "    </tr>\n",
       "    <tr>\n",
       "      <th>std</th>\n",
       "      <td>6.025800</td>\n",
       "      <td>6.690516</td>\n",
       "      <td>4.225800</td>\n",
       "      <td>2.669383</td>\n",
       "      <td>3.467180</td>\n",
       "      <td>13.023978</td>\n",
       "      <td>7.875308</td>\n",
       "      <td>8.856997</td>\n",
       "      <td>13.137058</td>\n",
       "      <td>16.850947</td>\n",
       "      <td>6.686212</td>\n",
       "      <td>6.469422</td>\n",
       "      <td>2.956131</td>\n",
       "      <td>2.666268</td>\n",
       "      <td>5.630832</td>\n",
       "      <td>6.640346</td>\n",
       "      <td>4.225800</td>\n",
       "    </tr>\n",
       "    <tr>\n",
       "      <th>min</th>\n",
       "      <td>-5.300000</td>\n",
       "      <td>7.600000</td>\n",
       "      <td>0.000000</td>\n",
       "      <td>0.200000</td>\n",
       "      <td>0.000000</td>\n",
       "      <td>13.000000</td>\n",
       "      <td>0.000000</td>\n",
       "      <td>0.000000</td>\n",
       "      <td>36.000000</td>\n",
       "      <td>13.000000</td>\n",
       "      <td>996.500000</td>\n",
       "      <td>996.800000</td>\n",
       "      <td>0.000000</td>\n",
       "      <td>0.000000</td>\n",
       "      <td>0.100000</td>\n",
       "      <td>5.100000</td>\n",
       "      <td>0.000000</td>\n",
       "    </tr>\n",
       "    <tr>\n",
       "      <th>25%</th>\n",
       "      <td>2.300000</td>\n",
       "      <td>15.025000</td>\n",
       "      <td>0.000000</td>\n",
       "      <td>2.200000</td>\n",
       "      <td>6.000000</td>\n",
       "      <td>31.000000</td>\n",
       "      <td>6.000000</td>\n",
       "      <td>11.000000</td>\n",
       "      <td>64.000000</td>\n",
       "      <td>32.250000</td>\n",
       "      <td>1015.350000</td>\n",
       "      <td>1012.800000</td>\n",
       "      <td>1.000000</td>\n",
       "      <td>1.000000</td>\n",
       "      <td>7.625000</td>\n",
       "      <td>14.150000</td>\n",
       "      <td>0.000000</td>\n",
       "    </tr>\n",
       "    <tr>\n",
       "      <th>50%</th>\n",
       "      <td>7.450000</td>\n",
       "      <td>19.650000</td>\n",
       "      <td>0.000000</td>\n",
       "      <td>4.200000</td>\n",
       "      <td>8.600000</td>\n",
       "      <td>39.000000</td>\n",
       "      <td>7.000000</td>\n",
       "      <td>17.000000</td>\n",
       "      <td>72.000000</td>\n",
       "      <td>43.000000</td>\n",
       "      <td>1020.150000</td>\n",
       "      <td>1017.400000</td>\n",
       "      <td>3.500000</td>\n",
       "      <td>4.000000</td>\n",
       "      <td>12.550000</td>\n",
       "      <td>18.550000</td>\n",
       "      <td>0.000000</td>\n",
       "    </tr>\n",
       "    <tr>\n",
       "      <th>75%</th>\n",
       "      <td>12.500000</td>\n",
       "      <td>25.500000</td>\n",
       "      <td>0.200000</td>\n",
       "      <td>6.400000</td>\n",
       "      <td>10.500000</td>\n",
       "      <td>46.000000</td>\n",
       "      <td>13.000000</td>\n",
       "      <td>24.000000</td>\n",
       "      <td>81.000000</td>\n",
       "      <td>55.000000</td>\n",
       "      <td>1024.475000</td>\n",
       "      <td>1021.475000</td>\n",
       "      <td>7.000000</td>\n",
       "      <td>7.000000</td>\n",
       "      <td>17.000000</td>\n",
       "      <td>24.000000</td>\n",
       "      <td>0.200000</td>\n",
       "    </tr>\n",
       "    <tr>\n",
       "      <th>max</th>\n",
       "      <td>20.900000</td>\n",
       "      <td>35.800000</td>\n",
       "      <td>39.800000</td>\n",
       "      <td>13.800000</td>\n",
       "      <td>13.600000</td>\n",
       "      <td>98.000000</td>\n",
       "      <td>41.000000</td>\n",
       "      <td>52.000000</td>\n",
       "      <td>99.000000</td>\n",
       "      <td>96.000000</td>\n",
       "      <td>1035.700000</td>\n",
       "      <td>1033.200000</td>\n",
       "      <td>8.000000</td>\n",
       "      <td>8.000000</td>\n",
       "      <td>24.700000</td>\n",
       "      <td>34.500000</td>\n",
       "      <td>39.800000</td>\n",
       "    </tr>\n",
       "  </tbody>\n",
       "</table>\n",
       "</div>"
      ],
      "text/plain": [
       "          MinTemp     MaxTemp    Rainfall  Evaporation    Sunshine  \\\n",
       "count  366.000000  366.000000  366.000000   366.000000  366.000000   \n",
       "mean     7.265574   20.550273    1.428415     4.521858    7.909366   \n",
       "std      6.025800    6.690516    4.225800     2.669383    3.467180   \n",
       "min     -5.300000    7.600000    0.000000     0.200000    0.000000   \n",
       "25%      2.300000   15.025000    0.000000     2.200000    6.000000   \n",
       "50%      7.450000   19.650000    0.000000     4.200000    8.600000   \n",
       "75%     12.500000   25.500000    0.200000     6.400000   10.500000   \n",
       "max     20.900000   35.800000   39.800000    13.800000   13.600000   \n",
       "\n",
       "       WindGustSpeed  WindSpeed9am  WindSpeed3pm  Humidity9am  Humidity3pm  \\\n",
       "count     366.000000    366.000000    366.000000   366.000000   366.000000   \n",
       "mean       39.840659      9.651811     17.986339    72.035519    44.519126   \n",
       "std        13.023978      7.875308      8.856997    13.137058    16.850947   \n",
       "min        13.000000      0.000000      0.000000    36.000000    13.000000   \n",
       "25%        31.000000      6.000000     11.000000    64.000000    32.250000   \n",
       "50%        39.000000      7.000000     17.000000    72.000000    43.000000   \n",
       "75%        46.000000     13.000000     24.000000    81.000000    55.000000   \n",
       "max        98.000000     41.000000     52.000000    99.000000    96.000000   \n",
       "\n",
       "       Pressure9am  Pressure3pm    Cloud9am    Cloud3pm     Temp9am  \\\n",
       "count   366.000000   366.000000  366.000000  366.000000  366.000000   \n",
       "mean   1019.709016  1016.810383    3.890710    4.024590   12.358470   \n",
       "std       6.686212     6.469422    2.956131    2.666268    5.630832   \n",
       "min     996.500000   996.800000    0.000000    0.000000    0.100000   \n",
       "25%    1015.350000  1012.800000    1.000000    1.000000    7.625000   \n",
       "50%    1020.150000  1017.400000    3.500000    4.000000   12.550000   \n",
       "75%    1024.475000  1021.475000    7.000000    7.000000   17.000000   \n",
       "max    1035.700000  1033.200000    8.000000    8.000000   24.700000   \n",
       "\n",
       "          Temp3pm     RISK_MM  \n",
       "count  366.000000  366.000000  \n",
       "mean    19.230874    1.428415  \n",
       "std      6.640346    4.225800  \n",
       "min      5.100000    0.000000  \n",
       "25%     14.150000    0.000000  \n",
       "50%     18.550000    0.000000  \n",
       "75%     24.000000    0.200000  \n",
       "max     34.500000   39.800000  "
      ]
     },
     "execution_count": 334,
     "metadata": {},
     "output_type": "execute_result"
    }
   ],
   "source": [
    "df.describe()"
   ]
  },
  {
   "cell_type": "code",
   "execution_count": 335,
   "metadata": {},
   "outputs": [
    {
     "data": {
      "text/html": [
       "<div>\n",
       "<style scoped>\n",
       "    .dataframe tbody tr th:only-of-type {\n",
       "        vertical-align: middle;\n",
       "    }\n",
       "\n",
       "    .dataframe tbody tr th {\n",
       "        vertical-align: top;\n",
       "    }\n",
       "\n",
       "    .dataframe thead th {\n",
       "        text-align: right;\n",
       "    }\n",
       "</style>\n",
       "<table border=\"1\" class=\"dataframe\">\n",
       "  <thead>\n",
       "    <tr style=\"text-align: right;\">\n",
       "      <th></th>\n",
       "      <th>MinTemp</th>\n",
       "      <th>MaxTemp</th>\n",
       "      <th>Rainfall</th>\n",
       "      <th>Evaporation</th>\n",
       "      <th>Sunshine</th>\n",
       "      <th>WindGustSpeed</th>\n",
       "      <th>WindSpeed9am</th>\n",
       "      <th>WindSpeed3pm</th>\n",
       "      <th>Humidity9am</th>\n",
       "      <th>Humidity3pm</th>\n",
       "      <th>Pressure9am</th>\n",
       "      <th>Pressure3pm</th>\n",
       "      <th>Cloud9am</th>\n",
       "      <th>Cloud3pm</th>\n",
       "      <th>Temp9am</th>\n",
       "      <th>Temp3pm</th>\n",
       "      <th>RISK_MM</th>\n",
       "    </tr>\n",
       "  </thead>\n",
       "  <tbody>\n",
       "    <tr>\n",
       "      <th>MinTemp</th>\n",
       "      <td>1.000000</td>\n",
       "      <td>0.752471</td>\n",
       "      <td>0.201939</td>\n",
       "      <td>0.649930</td>\n",
       "      <td>0.035531</td>\n",
       "      <td>0.217224</td>\n",
       "      <td>0.126251</td>\n",
       "      <td>-0.065922</td>\n",
       "      <td>-0.207897</td>\n",
       "      <td>-0.040709</td>\n",
       "      <td>-0.501707</td>\n",
       "      <td>-0.498007</td>\n",
       "      <td>0.215776</td>\n",
       "      <td>0.118397</td>\n",
       "      <td>0.916745</td>\n",
       "      <td>0.722730</td>\n",
       "      <td>0.218551</td>\n",
       "    </tr>\n",
       "    <tr>\n",
       "      <th>MaxTemp</th>\n",
       "      <td>0.752471</td>\n",
       "      <td>1.000000</td>\n",
       "      <td>-0.073560</td>\n",
       "      <td>0.690026</td>\n",
       "      <td>0.451395</td>\n",
       "      <td>0.109415</td>\n",
       "      <td>-0.214649</td>\n",
       "      <td>-0.167873</td>\n",
       "      <td>-0.359602</td>\n",
       "      <td>-0.533327</td>\n",
       "      <td>-0.290883</td>\n",
       "      <td>-0.379394</td>\n",
       "      <td>-0.175730</td>\n",
       "      <td>-0.135991</td>\n",
       "      <td>0.870604</td>\n",
       "      <td>0.989261</td>\n",
       "      <td>0.027557</td>\n",
       "    </tr>\n",
       "    <tr>\n",
       "      <th>Rainfall</th>\n",
       "      <td>0.201939</td>\n",
       "      <td>-0.073560</td>\n",
       "      <td>1.000000</td>\n",
       "      <td>-0.007293</td>\n",
       "      <td>-0.149326</td>\n",
       "      <td>0.096160</td>\n",
       "      <td>0.218979</td>\n",
       "      <td>0.056008</td>\n",
       "      <td>0.150109</td>\n",
       "      <td>0.289013</td>\n",
       "      <td>-0.331581</td>\n",
       "      <td>-0.250218</td>\n",
       "      <td>0.180046</td>\n",
       "      <td>0.127792</td>\n",
       "      <td>0.077299</td>\n",
       "      <td>-0.087493</td>\n",
       "      <td>0.089860</td>\n",
       "    </tr>\n",
       "    <tr>\n",
       "      <th>Evaporation</th>\n",
       "      <td>0.649930</td>\n",
       "      <td>0.690026</td>\n",
       "      <td>-0.007293</td>\n",
       "      <td>1.000000</td>\n",
       "      <td>0.316942</td>\n",
       "      <td>0.287709</td>\n",
       "      <td>0.068176</td>\n",
       "      <td>0.048601</td>\n",
       "      <td>-0.519587</td>\n",
       "      <td>-0.391780</td>\n",
       "      <td>-0.381906</td>\n",
       "      <td>-0.391093</td>\n",
       "      <td>-0.106007</td>\n",
       "      <td>-0.100045</td>\n",
       "      <td>0.707676</td>\n",
       "      <td>0.671632</td>\n",
       "      <td>0.076762</td>\n",
       "    </tr>\n",
       "    <tr>\n",
       "      <th>Sunshine</th>\n",
       "      <td>0.035531</td>\n",
       "      <td>0.451395</td>\n",
       "      <td>-0.149326</td>\n",
       "      <td>0.316942</td>\n",
       "      <td>1.000000</td>\n",
       "      <td>0.095676</td>\n",
       "      <td>-0.064200</td>\n",
       "      <td>0.072494</td>\n",
       "      <td>-0.497692</td>\n",
       "      <td>-0.755186</td>\n",
       "      <td>0.006238</td>\n",
       "      <td>-0.035964</td>\n",
       "      <td>-0.678125</td>\n",
       "      <td>-0.658699</td>\n",
       "      <td>0.219276</td>\n",
       "      <td>0.469774</td>\n",
       "      <td>-0.378081</td>\n",
       "    </tr>\n",
       "    <tr>\n",
       "      <th>WindGustSpeed</th>\n",
       "      <td>0.217224</td>\n",
       "      <td>0.109415</td>\n",
       "      <td>0.096160</td>\n",
       "      <td>0.287709</td>\n",
       "      <td>0.095676</td>\n",
       "      <td>1.000000</td>\n",
       "      <td>0.518508</td>\n",
       "      <td>0.693641</td>\n",
       "      <td>-0.349433</td>\n",
       "      <td>-0.069432</td>\n",
       "      <td>-0.537126</td>\n",
       "      <td>-0.524435</td>\n",
       "      <td>-0.012648</td>\n",
       "      <td>0.050051</td>\n",
       "      <td>0.255331</td>\n",
       "      <td>0.072348</td>\n",
       "      <td>0.251912</td>\n",
       "    </tr>\n",
       "    <tr>\n",
       "      <th>WindSpeed9am</th>\n",
       "      <td>0.126251</td>\n",
       "      <td>-0.214649</td>\n",
       "      <td>0.218979</td>\n",
       "      <td>0.068176</td>\n",
       "      <td>-0.064200</td>\n",
       "      <td>0.518508</td>\n",
       "      <td>1.000000</td>\n",
       "      <td>0.467090</td>\n",
       "      <td>-0.267654</td>\n",
       "      <td>0.145866</td>\n",
       "      <td>-0.350416</td>\n",
       "      <td>-0.243102</td>\n",
       "      <td>0.100961</td>\n",
       "      <td>-0.022312</td>\n",
       "      <td>0.063303</td>\n",
       "      <td>-0.232944</td>\n",
       "      <td>0.039048</td>\n",
       "    </tr>\n",
       "    <tr>\n",
       "      <th>WindSpeed3pm</th>\n",
       "      <td>-0.065922</td>\n",
       "      <td>-0.167873</td>\n",
       "      <td>0.056008</td>\n",
       "      <td>0.048601</td>\n",
       "      <td>0.072494</td>\n",
       "      <td>0.693641</td>\n",
       "      <td>0.467090</td>\n",
       "      <td>1.000000</td>\n",
       "      <td>-0.266092</td>\n",
       "      <td>-0.026368</td>\n",
       "      <td>-0.359800</td>\n",
       "      <td>-0.337325</td>\n",
       "      <td>-0.026426</td>\n",
       "      <td>0.007207</td>\n",
       "      <td>-0.017766</td>\n",
       "      <td>-0.187570</td>\n",
       "      <td>-0.009447</td>\n",
       "    </tr>\n",
       "    <tr>\n",
       "      <th>Humidity9am</th>\n",
       "      <td>-0.207897</td>\n",
       "      <td>-0.359602</td>\n",
       "      <td>0.150109</td>\n",
       "      <td>-0.519587</td>\n",
       "      <td>-0.497692</td>\n",
       "      <td>-0.349433</td>\n",
       "      <td>-0.267654</td>\n",
       "      <td>-0.266092</td>\n",
       "      <td>1.000000</td>\n",
       "      <td>0.546718</td>\n",
       "      <td>0.135727</td>\n",
       "      <td>0.134420</td>\n",
       "      <td>0.392842</td>\n",
       "      <td>0.271938</td>\n",
       "      <td>-0.436551</td>\n",
       "      <td>-0.355119</td>\n",
       "      <td>0.165931</td>\n",
       "    </tr>\n",
       "    <tr>\n",
       "      <th>Humidity3pm</th>\n",
       "      <td>-0.040709</td>\n",
       "      <td>-0.533327</td>\n",
       "      <td>0.289013</td>\n",
       "      <td>-0.391780</td>\n",
       "      <td>-0.755186</td>\n",
       "      <td>-0.069432</td>\n",
       "      <td>0.145866</td>\n",
       "      <td>-0.026368</td>\n",
       "      <td>0.546718</td>\n",
       "      <td>1.000000</td>\n",
       "      <td>-0.087946</td>\n",
       "      <td>-0.010052</td>\n",
       "      <td>0.551633</td>\n",
       "      <td>0.510108</td>\n",
       "      <td>-0.255681</td>\n",
       "      <td>-0.581676</td>\n",
       "      <td>0.358752</td>\n",
       "    </tr>\n",
       "    <tr>\n",
       "      <th>Pressure9am</th>\n",
       "      <td>-0.501707</td>\n",
       "      <td>-0.290883</td>\n",
       "      <td>-0.331581</td>\n",
       "      <td>-0.381906</td>\n",
       "      <td>0.006238</td>\n",
       "      <td>-0.537126</td>\n",
       "      <td>-0.350416</td>\n",
       "      <td>-0.359800</td>\n",
       "      <td>0.135727</td>\n",
       "      <td>-0.087946</td>\n",
       "      <td>1.000000</td>\n",
       "      <td>0.967895</td>\n",
       "      <td>-0.157553</td>\n",
       "      <td>-0.141000</td>\n",
       "      <td>-0.460418</td>\n",
       "      <td>-0.253674</td>\n",
       "      <td>-0.290584</td>\n",
       "    </tr>\n",
       "    <tr>\n",
       "      <th>Pressure3pm</th>\n",
       "      <td>-0.498007</td>\n",
       "      <td>-0.379394</td>\n",
       "      <td>-0.250218</td>\n",
       "      <td>-0.391093</td>\n",
       "      <td>-0.035964</td>\n",
       "      <td>-0.524435</td>\n",
       "      <td>-0.243102</td>\n",
       "      <td>-0.337325</td>\n",
       "      <td>0.134420</td>\n",
       "      <td>-0.010052</td>\n",
       "      <td>0.967895</td>\n",
       "      <td>1.000000</td>\n",
       "      <td>-0.128944</td>\n",
       "      <td>-0.143837</td>\n",
       "      <td>-0.492636</td>\n",
       "      <td>-0.345485</td>\n",
       "      <td>-0.311421</td>\n",
       "    </tr>\n",
       "    <tr>\n",
       "      <th>Cloud9am</th>\n",
       "      <td>0.215776</td>\n",
       "      <td>-0.175730</td>\n",
       "      <td>0.180046</td>\n",
       "      <td>-0.106007</td>\n",
       "      <td>-0.678125</td>\n",
       "      <td>-0.012648</td>\n",
       "      <td>0.100961</td>\n",
       "      <td>-0.026426</td>\n",
       "      <td>0.392842</td>\n",
       "      <td>0.551633</td>\n",
       "      <td>-0.157553</td>\n",
       "      <td>-0.128944</td>\n",
       "      <td>1.000000</td>\n",
       "      <td>0.525218</td>\n",
       "      <td>0.021041</td>\n",
       "      <td>-0.202344</td>\n",
       "      <td>0.273914</td>\n",
       "    </tr>\n",
       "    <tr>\n",
       "      <th>Cloud3pm</th>\n",
       "      <td>0.118397</td>\n",
       "      <td>-0.135991</td>\n",
       "      <td>0.127792</td>\n",
       "      <td>-0.100045</td>\n",
       "      <td>-0.658699</td>\n",
       "      <td>0.050051</td>\n",
       "      <td>-0.022312</td>\n",
       "      <td>0.007207</td>\n",
       "      <td>0.271938</td>\n",
       "      <td>0.510108</td>\n",
       "      <td>-0.141000</td>\n",
       "      <td>-0.143837</td>\n",
       "      <td>0.525218</td>\n",
       "      <td>1.000000</td>\n",
       "      <td>0.040945</td>\n",
       "      <td>-0.172814</td>\n",
       "      <td>0.326455</td>\n",
       "    </tr>\n",
       "    <tr>\n",
       "      <th>Temp9am</th>\n",
       "      <td>0.916745</td>\n",
       "      <td>0.870604</td>\n",
       "      <td>0.077299</td>\n",
       "      <td>0.707676</td>\n",
       "      <td>0.219276</td>\n",
       "      <td>0.255331</td>\n",
       "      <td>0.063303</td>\n",
       "      <td>-0.017766</td>\n",
       "      <td>-0.436551</td>\n",
       "      <td>-0.255681</td>\n",
       "      <td>-0.460418</td>\n",
       "      <td>-0.492636</td>\n",
       "      <td>0.021041</td>\n",
       "      <td>0.040945</td>\n",
       "      <td>1.000000</td>\n",
       "      <td>0.844406</td>\n",
       "      <td>0.164842</td>\n",
       "    </tr>\n",
       "    <tr>\n",
       "      <th>Temp3pm</th>\n",
       "      <td>0.722730</td>\n",
       "      <td>0.989261</td>\n",
       "      <td>-0.087493</td>\n",
       "      <td>0.671632</td>\n",
       "      <td>0.469774</td>\n",
       "      <td>0.072348</td>\n",
       "      <td>-0.232944</td>\n",
       "      <td>-0.187570</td>\n",
       "      <td>-0.355119</td>\n",
       "      <td>-0.581676</td>\n",
       "      <td>-0.253674</td>\n",
       "      <td>-0.345485</td>\n",
       "      <td>-0.202344</td>\n",
       "      <td>-0.172814</td>\n",
       "      <td>0.844406</td>\n",
       "      <td>1.000000</td>\n",
       "      <td>-0.005825</td>\n",
       "    </tr>\n",
       "    <tr>\n",
       "      <th>RISK_MM</th>\n",
       "      <td>0.218551</td>\n",
       "      <td>0.027557</td>\n",
       "      <td>0.089860</td>\n",
       "      <td>0.076762</td>\n",
       "      <td>-0.378081</td>\n",
       "      <td>0.251912</td>\n",
       "      <td>0.039048</td>\n",
       "      <td>-0.009447</td>\n",
       "      <td>0.165931</td>\n",
       "      <td>0.358752</td>\n",
       "      <td>-0.290584</td>\n",
       "      <td>-0.311421</td>\n",
       "      <td>0.273914</td>\n",
       "      <td>0.326455</td>\n",
       "      <td>0.164842</td>\n",
       "      <td>-0.005825</td>\n",
       "      <td>1.000000</td>\n",
       "    </tr>\n",
       "  </tbody>\n",
       "</table>\n",
       "</div>"
      ],
      "text/plain": [
       "                MinTemp   MaxTemp  Rainfall  Evaporation  Sunshine  \\\n",
       "MinTemp        1.000000  0.752471  0.201939     0.649930  0.035531   \n",
       "MaxTemp        0.752471  1.000000 -0.073560     0.690026  0.451395   \n",
       "Rainfall       0.201939 -0.073560  1.000000    -0.007293 -0.149326   \n",
       "Evaporation    0.649930  0.690026 -0.007293     1.000000  0.316942   \n",
       "Sunshine       0.035531  0.451395 -0.149326     0.316942  1.000000   \n",
       "WindGustSpeed  0.217224  0.109415  0.096160     0.287709  0.095676   \n",
       "WindSpeed9am   0.126251 -0.214649  0.218979     0.068176 -0.064200   \n",
       "WindSpeed3pm  -0.065922 -0.167873  0.056008     0.048601  0.072494   \n",
       "Humidity9am   -0.207897 -0.359602  0.150109    -0.519587 -0.497692   \n",
       "Humidity3pm   -0.040709 -0.533327  0.289013    -0.391780 -0.755186   \n",
       "Pressure9am   -0.501707 -0.290883 -0.331581    -0.381906  0.006238   \n",
       "Pressure3pm   -0.498007 -0.379394 -0.250218    -0.391093 -0.035964   \n",
       "Cloud9am       0.215776 -0.175730  0.180046    -0.106007 -0.678125   \n",
       "Cloud3pm       0.118397 -0.135991  0.127792    -0.100045 -0.658699   \n",
       "Temp9am        0.916745  0.870604  0.077299     0.707676  0.219276   \n",
       "Temp3pm        0.722730  0.989261 -0.087493     0.671632  0.469774   \n",
       "RISK_MM        0.218551  0.027557  0.089860     0.076762 -0.378081   \n",
       "\n",
       "               WindGustSpeed  WindSpeed9am  WindSpeed3pm  Humidity9am  \\\n",
       "MinTemp             0.217224      0.126251     -0.065922    -0.207897   \n",
       "MaxTemp             0.109415     -0.214649     -0.167873    -0.359602   \n",
       "Rainfall            0.096160      0.218979      0.056008     0.150109   \n",
       "Evaporation         0.287709      0.068176      0.048601    -0.519587   \n",
       "Sunshine            0.095676     -0.064200      0.072494    -0.497692   \n",
       "WindGustSpeed       1.000000      0.518508      0.693641    -0.349433   \n",
       "WindSpeed9am        0.518508      1.000000      0.467090    -0.267654   \n",
       "WindSpeed3pm        0.693641      0.467090      1.000000    -0.266092   \n",
       "Humidity9am        -0.349433     -0.267654     -0.266092     1.000000   \n",
       "Humidity3pm        -0.069432      0.145866     -0.026368     0.546718   \n",
       "Pressure9am        -0.537126     -0.350416     -0.359800     0.135727   \n",
       "Pressure3pm        -0.524435     -0.243102     -0.337325     0.134420   \n",
       "Cloud9am           -0.012648      0.100961     -0.026426     0.392842   \n",
       "Cloud3pm            0.050051     -0.022312      0.007207     0.271938   \n",
       "Temp9am             0.255331      0.063303     -0.017766    -0.436551   \n",
       "Temp3pm             0.072348     -0.232944     -0.187570    -0.355119   \n",
       "RISK_MM             0.251912      0.039048     -0.009447     0.165931   \n",
       "\n",
       "               Humidity3pm  Pressure9am  Pressure3pm  Cloud9am  Cloud3pm  \\\n",
       "MinTemp          -0.040709    -0.501707    -0.498007  0.215776  0.118397   \n",
       "MaxTemp          -0.533327    -0.290883    -0.379394 -0.175730 -0.135991   \n",
       "Rainfall          0.289013    -0.331581    -0.250218  0.180046  0.127792   \n",
       "Evaporation      -0.391780    -0.381906    -0.391093 -0.106007 -0.100045   \n",
       "Sunshine         -0.755186     0.006238    -0.035964 -0.678125 -0.658699   \n",
       "WindGustSpeed    -0.069432    -0.537126    -0.524435 -0.012648  0.050051   \n",
       "WindSpeed9am      0.145866    -0.350416    -0.243102  0.100961 -0.022312   \n",
       "WindSpeed3pm     -0.026368    -0.359800    -0.337325 -0.026426  0.007207   \n",
       "Humidity9am       0.546718     0.135727     0.134420  0.392842  0.271938   \n",
       "Humidity3pm       1.000000    -0.087946    -0.010052  0.551633  0.510108   \n",
       "Pressure9am      -0.087946     1.000000     0.967895 -0.157553 -0.141000   \n",
       "Pressure3pm      -0.010052     0.967895     1.000000 -0.128944 -0.143837   \n",
       "Cloud9am          0.551633    -0.157553    -0.128944  1.000000  0.525218   \n",
       "Cloud3pm          0.510108    -0.141000    -0.143837  0.525218  1.000000   \n",
       "Temp9am          -0.255681    -0.460418    -0.492636  0.021041  0.040945   \n",
       "Temp3pm          -0.581676    -0.253674    -0.345485 -0.202344 -0.172814   \n",
       "RISK_MM           0.358752    -0.290584    -0.311421  0.273914  0.326455   \n",
       "\n",
       "                Temp9am   Temp3pm   RISK_MM  \n",
       "MinTemp        0.916745  0.722730  0.218551  \n",
       "MaxTemp        0.870604  0.989261  0.027557  \n",
       "Rainfall       0.077299 -0.087493  0.089860  \n",
       "Evaporation    0.707676  0.671632  0.076762  \n",
       "Sunshine       0.219276  0.469774 -0.378081  \n",
       "WindGustSpeed  0.255331  0.072348  0.251912  \n",
       "WindSpeed9am   0.063303 -0.232944  0.039048  \n",
       "WindSpeed3pm  -0.017766 -0.187570 -0.009447  \n",
       "Humidity9am   -0.436551 -0.355119  0.165931  \n",
       "Humidity3pm   -0.255681 -0.581676  0.358752  \n",
       "Pressure9am   -0.460418 -0.253674 -0.290584  \n",
       "Pressure3pm   -0.492636 -0.345485 -0.311421  \n",
       "Cloud9am       0.021041 -0.202344  0.273914  \n",
       "Cloud3pm       0.040945 -0.172814  0.326455  \n",
       "Temp9am        1.000000  0.844406  0.164842  \n",
       "Temp3pm        0.844406  1.000000 -0.005825  \n",
       "RISK_MM        0.164842 -0.005825  1.000000  "
      ]
     },
     "execution_count": 335,
     "metadata": {},
     "output_type": "execute_result"
    }
   ],
   "source": [
    "df.corr()"
   ]
  },
  {
   "cell_type": "code",
   "execution_count": 336,
   "metadata": {},
   "outputs": [
    {
     "name": "stdout",
     "output_type": "stream",
     "text": [
      "<class 'pandas.core.frame.DataFrame'>\n",
      "RangeIndex: 366 entries, 0 to 365\n",
      "Data columns (total 22 columns):\n",
      " #   Column         Non-Null Count  Dtype  \n",
      "---  ------         --------------  -----  \n",
      " 0   MinTemp        366 non-null    float64\n",
      " 1   MaxTemp        366 non-null    float64\n",
      " 2   Rainfall       366 non-null    float64\n",
      " 3   Evaporation    366 non-null    float64\n",
      " 4   Sunshine       366 non-null    float64\n",
      " 5   WindGustDir    366 non-null    int32  \n",
      " 6   WindGustSpeed  366 non-null    float64\n",
      " 7   WindDir9am     366 non-null    int32  \n",
      " 8   WindDir3pm     366 non-null    int32  \n",
      " 9   WindSpeed9am   366 non-null    float64\n",
      " 10  WindSpeed3pm   366 non-null    int64  \n",
      " 11  Humidity9am    366 non-null    int64  \n",
      " 12  Humidity3pm    366 non-null    int64  \n",
      " 13  Pressure9am    366 non-null    float64\n",
      " 14  Pressure3pm    366 non-null    float64\n",
      " 15  Cloud9am       366 non-null    int64  \n",
      " 16  Cloud3pm       366 non-null    int64  \n",
      " 17  Temp9am        366 non-null    float64\n",
      " 18  Temp3pm        366 non-null    float64\n",
      " 19  RainToday      366 non-null    int32  \n",
      " 20  RISK_MM        366 non-null    float64\n",
      " 21  RainTomorrow   366 non-null    int32  \n",
      "dtypes: float64(12), int32(5), int64(5)\n",
      "memory usage: 55.9 KB\n"
     ]
    }
   ],
   "source": [
    "from sklearn.preprocessing import LabelEncoder\n",
    "enc=LabelEncoder()\n",
    "df.WindGustDir=enc.fit_transform(df.WindGustDir)\n",
    "\n",
    "df.WindDir9am=enc.fit_transform(df.WindDir9am)\n",
    "\n",
    "df.WindDir3pm=enc.fit_transform(df.WindDir3pm)\n",
    "\n",
    "df.RainToday=enc.fit_transform(df.RainToday)\n",
    "\n",
    "df.RainTomorrow=enc.fit_transform(df.RainTomorrow)\n",
    "df.info()"
   ]
  },
  {
   "cell_type": "code",
   "execution_count": 337,
   "metadata": {},
   "outputs": [],
   "source": [
    "del df[\"RISK_MM\"]"
   ]
  },
  {
   "cell_type": "code",
   "execution_count": 357,
   "metadata": {},
   "outputs": [],
   "source": [
    "X=df.iloc[:,df.columns!='RainTomorrow']\n",
    "y=df.RainTomorrow"
   ]
  },
  {
   "cell_type": "code",
   "execution_count": 358,
   "metadata": {},
   "outputs": [],
   "source": [
    "X_train,X_test,y_train,y_test=train_test_split(X,y,test_size=.2,random_state=10)"
   ]
  },
  {
   "cell_type": "code",
   "execution_count": 373,
   "metadata": {},
   "outputs": [
    {
     "data": {
      "text/html": [
       "<div>\n",
       "<style scoped>\n",
       "    .dataframe tbody tr th:only-of-type {\n",
       "        vertical-align: middle;\n",
       "    }\n",
       "\n",
       "    .dataframe tbody tr th {\n",
       "        vertical-align: top;\n",
       "    }\n",
       "\n",
       "    .dataframe thead th {\n",
       "        text-align: right;\n",
       "    }\n",
       "</style>\n",
       "<table border=\"1\" class=\"dataframe\">\n",
       "  <thead>\n",
       "    <tr style=\"text-align: right;\">\n",
       "      <th></th>\n",
       "      <th>MinTemp</th>\n",
       "      <th>MaxTemp</th>\n",
       "      <th>Rainfall</th>\n",
       "      <th>Evaporation</th>\n",
       "      <th>Sunshine</th>\n",
       "      <th>WindGustDir</th>\n",
       "      <th>WindGustSpeed</th>\n",
       "      <th>WindDir9am</th>\n",
       "      <th>WindDir3pm</th>\n",
       "      <th>WindSpeed9am</th>\n",
       "      <th>...</th>\n",
       "      <th>Humidity9am</th>\n",
       "      <th>Humidity3pm</th>\n",
       "      <th>Pressure9am</th>\n",
       "      <th>Pressure3pm</th>\n",
       "      <th>Cloud9am</th>\n",
       "      <th>Cloud3pm</th>\n",
       "      <th>Temp9am</th>\n",
       "      <th>Temp3pm</th>\n",
       "      <th>RainToday</th>\n",
       "      <th>RainTomorrow</th>\n",
       "    </tr>\n",
       "  </thead>\n",
       "  <tbody>\n",
       "    <tr>\n",
       "      <th>MinTemp</th>\n",
       "      <td>1.000000</td>\n",
       "      <td>0.752471</td>\n",
       "      <td>0.201939</td>\n",
       "      <td>0.649930</td>\n",
       "      <td>0.035531</td>\n",
       "      <td>-0.207415</td>\n",
       "      <td>0.217224</td>\n",
       "      <td>-0.247843</td>\n",
       "      <td>-0.063849</td>\n",
       "      <td>0.126251</td>\n",
       "      <td>...</td>\n",
       "      <td>-0.207897</td>\n",
       "      <td>-0.040709</td>\n",
       "      <td>-0.501707</td>\n",
       "      <td>-0.498007</td>\n",
       "      <td>0.215776</td>\n",
       "      <td>0.118397</td>\n",
       "      <td>0.916745</td>\n",
       "      <td>0.722730</td>\n",
       "      <td>0.230733</td>\n",
       "      <td>0.233213</td>\n",
       "    </tr>\n",
       "    <tr>\n",
       "      <th>MaxTemp</th>\n",
       "      <td>0.752471</td>\n",
       "      <td>1.000000</td>\n",
       "      <td>-0.073560</td>\n",
       "      <td>0.690026</td>\n",
       "      <td>0.451395</td>\n",
       "      <td>-0.225633</td>\n",
       "      <td>0.109415</td>\n",
       "      <td>-0.177313</td>\n",
       "      <td>0.013260</td>\n",
       "      <td>-0.214649</td>\n",
       "      <td>...</td>\n",
       "      <td>-0.359602</td>\n",
       "      <td>-0.533327</td>\n",
       "      <td>-0.290883</td>\n",
       "      <td>-0.379394</td>\n",
       "      <td>-0.175730</td>\n",
       "      <td>-0.135991</td>\n",
       "      <td>0.870604</td>\n",
       "      <td>0.989261</td>\n",
       "      <td>-0.065860</td>\n",
       "      <td>0.049228</td>\n",
       "    </tr>\n",
       "    <tr>\n",
       "      <th>Rainfall</th>\n",
       "      <td>0.201939</td>\n",
       "      <td>-0.073560</td>\n",
       "      <td>1.000000</td>\n",
       "      <td>-0.007293</td>\n",
       "      <td>-0.149326</td>\n",
       "      <td>0.011417</td>\n",
       "      <td>0.096160</td>\n",
       "      <td>-0.011467</td>\n",
       "      <td>0.065003</td>\n",
       "      <td>0.218979</td>\n",
       "      <td>...</td>\n",
       "      <td>0.150109</td>\n",
       "      <td>0.289013</td>\n",
       "      <td>-0.331581</td>\n",
       "      <td>-0.250218</td>\n",
       "      <td>0.180046</td>\n",
       "      <td>0.127792</td>\n",
       "      <td>0.077299</td>\n",
       "      <td>-0.087493</td>\n",
       "      <td>0.693024</td>\n",
       "      <td>0.133586</td>\n",
       "    </tr>\n",
       "    <tr>\n",
       "      <th>Evaporation</th>\n",
       "      <td>0.649930</td>\n",
       "      <td>0.690026</td>\n",
       "      <td>-0.007293</td>\n",
       "      <td>1.000000</td>\n",
       "      <td>0.316942</td>\n",
       "      <td>-0.189593</td>\n",
       "      <td>0.287709</td>\n",
       "      <td>-0.236797</td>\n",
       "      <td>-0.074369</td>\n",
       "      <td>0.068176</td>\n",
       "      <td>...</td>\n",
       "      <td>-0.519587</td>\n",
       "      <td>-0.391780</td>\n",
       "      <td>-0.381906</td>\n",
       "      <td>-0.391093</td>\n",
       "      <td>-0.106007</td>\n",
       "      <td>-0.100045</td>\n",
       "      <td>0.707676</td>\n",
       "      <td>0.671632</td>\n",
       "      <td>-0.032638</td>\n",
       "      <td>0.090528</td>\n",
       "    </tr>\n",
       "    <tr>\n",
       "      <th>Sunshine</th>\n",
       "      <td>0.035531</td>\n",
       "      <td>0.451395</td>\n",
       "      <td>-0.149326</td>\n",
       "      <td>0.316942</td>\n",
       "      <td>1.000000</td>\n",
       "      <td>-0.038679</td>\n",
       "      <td>0.095676</td>\n",
       "      <td>-0.061249</td>\n",
       "      <td>0.135211</td>\n",
       "      <td>-0.064200</td>\n",
       "      <td>...</td>\n",
       "      <td>-0.497692</td>\n",
       "      <td>-0.755186</td>\n",
       "      <td>0.006238</td>\n",
       "      <td>-0.035964</td>\n",
       "      <td>-0.678125</td>\n",
       "      <td>-0.658699</td>\n",
       "      <td>0.219276</td>\n",
       "      <td>0.469774</td>\n",
       "      <td>-0.166477</td>\n",
       "      <td>-0.386095</td>\n",
       "    </tr>\n",
       "    <tr>\n",
       "      <th>WindGustDir</th>\n",
       "      <td>-0.207415</td>\n",
       "      <td>-0.225633</td>\n",
       "      <td>0.011417</td>\n",
       "      <td>-0.189593</td>\n",
       "      <td>-0.038679</td>\n",
       "      <td>1.000000</td>\n",
       "      <td>0.218289</td>\n",
       "      <td>0.115565</td>\n",
       "      <td>0.354051</td>\n",
       "      <td>0.164012</td>\n",
       "      <td>...</td>\n",
       "      <td>0.055546</td>\n",
       "      <td>0.072419</td>\n",
       "      <td>-0.140887</td>\n",
       "      <td>-0.139452</td>\n",
       "      <td>0.000601</td>\n",
       "      <td>-0.017459</td>\n",
       "      <td>-0.215087</td>\n",
       "      <td>-0.229800</td>\n",
       "      <td>0.046787</td>\n",
       "      <td>0.041922</td>\n",
       "    </tr>\n",
       "    <tr>\n",
       "      <th>WindGustSpeed</th>\n",
       "      <td>0.217224</td>\n",
       "      <td>0.109415</td>\n",
       "      <td>0.096160</td>\n",
       "      <td>0.287709</td>\n",
       "      <td>0.095676</td>\n",
       "      <td>0.218289</td>\n",
       "      <td>1.000000</td>\n",
       "      <td>-0.100781</td>\n",
       "      <td>0.167105</td>\n",
       "      <td>0.518508</td>\n",
       "      <td>...</td>\n",
       "      <td>-0.349433</td>\n",
       "      <td>-0.069432</td>\n",
       "      <td>-0.537126</td>\n",
       "      <td>-0.524435</td>\n",
       "      <td>-0.012648</td>\n",
       "      <td>0.050051</td>\n",
       "      <td>0.255331</td>\n",
       "      <td>0.072348</td>\n",
       "      <td>0.189886</td>\n",
       "      <td>0.249445</td>\n",
       "    </tr>\n",
       "    <tr>\n",
       "      <th>WindDir9am</th>\n",
       "      <td>-0.247843</td>\n",
       "      <td>-0.177313</td>\n",
       "      <td>-0.011467</td>\n",
       "      <td>-0.236797</td>\n",
       "      <td>-0.061249</td>\n",
       "      <td>0.115565</td>\n",
       "      <td>-0.100781</td>\n",
       "      <td>1.000000</td>\n",
       "      <td>0.054961</td>\n",
       "      <td>-0.113786</td>\n",
       "      <td>...</td>\n",
       "      <td>0.113084</td>\n",
       "      <td>0.016604</td>\n",
       "      <td>0.113071</td>\n",
       "      <td>0.104286</td>\n",
       "      <td>-0.037391</td>\n",
       "      <td>0.063241</td>\n",
       "      <td>-0.226023</td>\n",
       "      <td>-0.156527</td>\n",
       "      <td>-0.034692</td>\n",
       "      <td>-0.064743</td>\n",
       "    </tr>\n",
       "    <tr>\n",
       "      <th>WindDir3pm</th>\n",
       "      <td>-0.063849</td>\n",
       "      <td>0.013260</td>\n",
       "      <td>0.065003</td>\n",
       "      <td>-0.074369</td>\n",
       "      <td>0.135211</td>\n",
       "      <td>0.354051</td>\n",
       "      <td>0.167105</td>\n",
       "      <td>0.054961</td>\n",
       "      <td>1.000000</td>\n",
       "      <td>0.071247</td>\n",
       "      <td>...</td>\n",
       "      <td>0.017569</td>\n",
       "      <td>-0.147176</td>\n",
       "      <td>-0.242707</td>\n",
       "      <td>-0.237190</td>\n",
       "      <td>-0.153096</td>\n",
       "      <td>-0.116438</td>\n",
       "      <td>-0.060438</td>\n",
       "      <td>0.017418</td>\n",
       "      <td>0.057614</td>\n",
       "      <td>0.018634</td>\n",
       "    </tr>\n",
       "    <tr>\n",
       "      <th>WindSpeed9am</th>\n",
       "      <td>0.126251</td>\n",
       "      <td>-0.214649</td>\n",
       "      <td>0.218979</td>\n",
       "      <td>0.068176</td>\n",
       "      <td>-0.064200</td>\n",
       "      <td>0.164012</td>\n",
       "      <td>0.518508</td>\n",
       "      <td>-0.113786</td>\n",
       "      <td>0.071247</td>\n",
       "      <td>1.000000</td>\n",
       "      <td>...</td>\n",
       "      <td>-0.267654</td>\n",
       "      <td>0.145866</td>\n",
       "      <td>-0.350416</td>\n",
       "      <td>-0.243102</td>\n",
       "      <td>0.100961</td>\n",
       "      <td>-0.022312</td>\n",
       "      <td>0.063303</td>\n",
       "      <td>-0.232944</td>\n",
       "      <td>0.262626</td>\n",
       "      <td>0.088224</td>\n",
       "    </tr>\n",
       "    <tr>\n",
       "      <th>WindSpeed3pm</th>\n",
       "      <td>-0.065922</td>\n",
       "      <td>-0.167873</td>\n",
       "      <td>0.056008</td>\n",
       "      <td>0.048601</td>\n",
       "      <td>0.072494</td>\n",
       "      <td>0.305344</td>\n",
       "      <td>0.693641</td>\n",
       "      <td>-0.012448</td>\n",
       "      <td>0.132152</td>\n",
       "      <td>0.467090</td>\n",
       "      <td>...</td>\n",
       "      <td>-0.266092</td>\n",
       "      <td>-0.026368</td>\n",
       "      <td>-0.359800</td>\n",
       "      <td>-0.337325</td>\n",
       "      <td>-0.026426</td>\n",
       "      <td>0.007207</td>\n",
       "      <td>-0.017766</td>\n",
       "      <td>-0.187570</td>\n",
       "      <td>0.083483</td>\n",
       "      <td>0.042505</td>\n",
       "    </tr>\n",
       "    <tr>\n",
       "      <th>Humidity9am</th>\n",
       "      <td>-0.207897</td>\n",
       "      <td>-0.359602</td>\n",
       "      <td>0.150109</td>\n",
       "      <td>-0.519587</td>\n",
       "      <td>-0.497692</td>\n",
       "      <td>0.055546</td>\n",
       "      <td>-0.349433</td>\n",
       "      <td>0.113084</td>\n",
       "      <td>0.017569</td>\n",
       "      <td>-0.267654</td>\n",
       "      <td>...</td>\n",
       "      <td>1.000000</td>\n",
       "      <td>0.546718</td>\n",
       "      <td>0.135727</td>\n",
       "      <td>0.134420</td>\n",
       "      <td>0.392842</td>\n",
       "      <td>0.271938</td>\n",
       "      <td>-0.436551</td>\n",
       "      <td>-0.355119</td>\n",
       "      <td>0.203495</td>\n",
       "      <td>0.185077</td>\n",
       "    </tr>\n",
       "    <tr>\n",
       "      <th>Humidity3pm</th>\n",
       "      <td>-0.040709</td>\n",
       "      <td>-0.533327</td>\n",
       "      <td>0.289013</td>\n",
       "      <td>-0.391780</td>\n",
       "      <td>-0.755186</td>\n",
       "      <td>0.072419</td>\n",
       "      <td>-0.069432</td>\n",
       "      <td>0.016604</td>\n",
       "      <td>-0.147176</td>\n",
       "      <td>0.145866</td>\n",
       "      <td>...</td>\n",
       "      <td>0.546718</td>\n",
       "      <td>1.000000</td>\n",
       "      <td>-0.087946</td>\n",
       "      <td>-0.010052</td>\n",
       "      <td>0.551633</td>\n",
       "      <td>0.510108</td>\n",
       "      <td>-0.255681</td>\n",
       "      <td>-0.581676</td>\n",
       "      <td>0.319582</td>\n",
       "      <td>0.366882</td>\n",
       "    </tr>\n",
       "    <tr>\n",
       "      <th>Pressure9am</th>\n",
       "      <td>-0.501707</td>\n",
       "      <td>-0.290883</td>\n",
       "      <td>-0.331581</td>\n",
       "      <td>-0.381906</td>\n",
       "      <td>0.006238</td>\n",
       "      <td>-0.140887</td>\n",
       "      <td>-0.537126</td>\n",
       "      <td>0.113071</td>\n",
       "      <td>-0.242707</td>\n",
       "      <td>-0.350416</td>\n",
       "      <td>...</td>\n",
       "      <td>0.135727</td>\n",
       "      <td>-0.087946</td>\n",
       "      <td>1.000000</td>\n",
       "      <td>0.967895</td>\n",
       "      <td>-0.157553</td>\n",
       "      <td>-0.141000</td>\n",
       "      <td>-0.460418</td>\n",
       "      <td>-0.253674</td>\n",
       "      <td>-0.352186</td>\n",
       "      <td>-0.330047</td>\n",
       "    </tr>\n",
       "    <tr>\n",
       "      <th>Pressure3pm</th>\n",
       "      <td>-0.498007</td>\n",
       "      <td>-0.379394</td>\n",
       "      <td>-0.250218</td>\n",
       "      <td>-0.391093</td>\n",
       "      <td>-0.035964</td>\n",
       "      <td>-0.139452</td>\n",
       "      <td>-0.524435</td>\n",
       "      <td>0.104286</td>\n",
       "      <td>-0.237190</td>\n",
       "      <td>-0.243102</td>\n",
       "      <td>...</td>\n",
       "      <td>0.134420</td>\n",
       "      <td>-0.010052</td>\n",
       "      <td>0.967895</td>\n",
       "      <td>1.000000</td>\n",
       "      <td>-0.128944</td>\n",
       "      <td>-0.143837</td>\n",
       "      <td>-0.492636</td>\n",
       "      <td>-0.345485</td>\n",
       "      <td>-0.279936</td>\n",
       "      <td>-0.370247</td>\n",
       "    </tr>\n",
       "    <tr>\n",
       "      <th>Cloud9am</th>\n",
       "      <td>0.215776</td>\n",
       "      <td>-0.175730</td>\n",
       "      <td>0.180046</td>\n",
       "      <td>-0.106007</td>\n",
       "      <td>-0.678125</td>\n",
       "      <td>0.000601</td>\n",
       "      <td>-0.012648</td>\n",
       "      <td>-0.037391</td>\n",
       "      <td>-0.153096</td>\n",
       "      <td>0.100961</td>\n",
       "      <td>...</td>\n",
       "      <td>0.392842</td>\n",
       "      <td>0.551633</td>\n",
       "      <td>-0.157553</td>\n",
       "      <td>-0.128944</td>\n",
       "      <td>1.000000</td>\n",
       "      <td>0.525218</td>\n",
       "      <td>0.021041</td>\n",
       "      <td>-0.202344</td>\n",
       "      <td>0.214767</td>\n",
       "      <td>0.284579</td>\n",
       "    </tr>\n",
       "    <tr>\n",
       "      <th>Cloud3pm</th>\n",
       "      <td>0.118397</td>\n",
       "      <td>-0.135991</td>\n",
       "      <td>0.127792</td>\n",
       "      <td>-0.100045</td>\n",
       "      <td>-0.658699</td>\n",
       "      <td>-0.017459</td>\n",
       "      <td>0.050051</td>\n",
       "      <td>0.063241</td>\n",
       "      <td>-0.116438</td>\n",
       "      <td>-0.022312</td>\n",
       "      <td>...</td>\n",
       "      <td>0.271938</td>\n",
       "      <td>0.510108</td>\n",
       "      <td>-0.141000</td>\n",
       "      <td>-0.143837</td>\n",
       "      <td>0.525218</td>\n",
       "      <td>1.000000</td>\n",
       "      <td>0.040945</td>\n",
       "      <td>-0.172814</td>\n",
       "      <td>0.094423</td>\n",
       "      <td>0.388020</td>\n",
       "    </tr>\n",
       "    <tr>\n",
       "      <th>Temp9am</th>\n",
       "      <td>0.916745</td>\n",
       "      <td>0.870604</td>\n",
       "      <td>0.077299</td>\n",
       "      <td>0.707676</td>\n",
       "      <td>0.219276</td>\n",
       "      <td>-0.215087</td>\n",
       "      <td>0.255331</td>\n",
       "      <td>-0.226023</td>\n",
       "      <td>-0.060438</td>\n",
       "      <td>0.063303</td>\n",
       "      <td>...</td>\n",
       "      <td>-0.436551</td>\n",
       "      <td>-0.255681</td>\n",
       "      <td>-0.460418</td>\n",
       "      <td>-0.492636</td>\n",
       "      <td>0.021041</td>\n",
       "      <td>0.040945</td>\n",
       "      <td>1.000000</td>\n",
       "      <td>0.844406</td>\n",
       "      <td>0.088014</td>\n",
       "      <td>0.182170</td>\n",
       "    </tr>\n",
       "    <tr>\n",
       "      <th>Temp3pm</th>\n",
       "      <td>0.722730</td>\n",
       "      <td>0.989261</td>\n",
       "      <td>-0.087493</td>\n",
       "      <td>0.671632</td>\n",
       "      <td>0.469774</td>\n",
       "      <td>-0.229800</td>\n",
       "      <td>0.072348</td>\n",
       "      <td>-0.156527</td>\n",
       "      <td>0.017418</td>\n",
       "      <td>-0.232944</td>\n",
       "      <td>...</td>\n",
       "      <td>-0.355119</td>\n",
       "      <td>-0.581676</td>\n",
       "      <td>-0.253674</td>\n",
       "      <td>-0.345485</td>\n",
       "      <td>-0.202344</td>\n",
       "      <td>-0.172814</td>\n",
       "      <td>0.844406</td>\n",
       "      <td>1.000000</td>\n",
       "      <td>-0.072380</td>\n",
       "      <td>0.011105</td>\n",
       "    </tr>\n",
       "    <tr>\n",
       "      <th>RainToday</th>\n",
       "      <td>0.230733</td>\n",
       "      <td>-0.065860</td>\n",
       "      <td>0.693024</td>\n",
       "      <td>-0.032638</td>\n",
       "      <td>-0.166477</td>\n",
       "      <td>0.046787</td>\n",
       "      <td>0.189886</td>\n",
       "      <td>-0.034692</td>\n",
       "      <td>0.057614</td>\n",
       "      <td>0.262626</td>\n",
       "      <td>...</td>\n",
       "      <td>0.203495</td>\n",
       "      <td>0.319582</td>\n",
       "      <td>-0.352186</td>\n",
       "      <td>-0.279936</td>\n",
       "      <td>0.214767</td>\n",
       "      <td>0.094423</td>\n",
       "      <td>0.088014</td>\n",
       "      <td>-0.072380</td>\n",
       "      <td>1.000000</td>\n",
       "      <td>0.168182</td>\n",
       "    </tr>\n",
       "    <tr>\n",
       "      <th>RainTomorrow</th>\n",
       "      <td>0.233213</td>\n",
       "      <td>0.049228</td>\n",
       "      <td>0.133586</td>\n",
       "      <td>0.090528</td>\n",
       "      <td>-0.386095</td>\n",
       "      <td>0.041922</td>\n",
       "      <td>0.249445</td>\n",
       "      <td>-0.064743</td>\n",
       "      <td>0.018634</td>\n",
       "      <td>0.088224</td>\n",
       "      <td>...</td>\n",
       "      <td>0.185077</td>\n",
       "      <td>0.366882</td>\n",
       "      <td>-0.330047</td>\n",
       "      <td>-0.370247</td>\n",
       "      <td>0.284579</td>\n",
       "      <td>0.388020</td>\n",
       "      <td>0.182170</td>\n",
       "      <td>0.011105</td>\n",
       "      <td>0.168182</td>\n",
       "      <td>1.000000</td>\n",
       "    </tr>\n",
       "  </tbody>\n",
       "</table>\n",
       "<p>21 rows × 21 columns</p>\n",
       "</div>"
      ],
      "text/plain": [
       "                MinTemp   MaxTemp  Rainfall  Evaporation  Sunshine  \\\n",
       "MinTemp        1.000000  0.752471  0.201939     0.649930  0.035531   \n",
       "MaxTemp        0.752471  1.000000 -0.073560     0.690026  0.451395   \n",
       "Rainfall       0.201939 -0.073560  1.000000    -0.007293 -0.149326   \n",
       "Evaporation    0.649930  0.690026 -0.007293     1.000000  0.316942   \n",
       "Sunshine       0.035531  0.451395 -0.149326     0.316942  1.000000   \n",
       "WindGustDir   -0.207415 -0.225633  0.011417    -0.189593 -0.038679   \n",
       "WindGustSpeed  0.217224  0.109415  0.096160     0.287709  0.095676   \n",
       "WindDir9am    -0.247843 -0.177313 -0.011467    -0.236797 -0.061249   \n",
       "WindDir3pm    -0.063849  0.013260  0.065003    -0.074369  0.135211   \n",
       "WindSpeed9am   0.126251 -0.214649  0.218979     0.068176 -0.064200   \n",
       "WindSpeed3pm  -0.065922 -0.167873  0.056008     0.048601  0.072494   \n",
       "Humidity9am   -0.207897 -0.359602  0.150109    -0.519587 -0.497692   \n",
       "Humidity3pm   -0.040709 -0.533327  0.289013    -0.391780 -0.755186   \n",
       "Pressure9am   -0.501707 -0.290883 -0.331581    -0.381906  0.006238   \n",
       "Pressure3pm   -0.498007 -0.379394 -0.250218    -0.391093 -0.035964   \n",
       "Cloud9am       0.215776 -0.175730  0.180046    -0.106007 -0.678125   \n",
       "Cloud3pm       0.118397 -0.135991  0.127792    -0.100045 -0.658699   \n",
       "Temp9am        0.916745  0.870604  0.077299     0.707676  0.219276   \n",
       "Temp3pm        0.722730  0.989261 -0.087493     0.671632  0.469774   \n",
       "RainToday      0.230733 -0.065860  0.693024    -0.032638 -0.166477   \n",
       "RainTomorrow   0.233213  0.049228  0.133586     0.090528 -0.386095   \n",
       "\n",
       "               WindGustDir  WindGustSpeed  WindDir9am  WindDir3pm  \\\n",
       "MinTemp          -0.207415       0.217224   -0.247843   -0.063849   \n",
       "MaxTemp          -0.225633       0.109415   -0.177313    0.013260   \n",
       "Rainfall          0.011417       0.096160   -0.011467    0.065003   \n",
       "Evaporation      -0.189593       0.287709   -0.236797   -0.074369   \n",
       "Sunshine         -0.038679       0.095676   -0.061249    0.135211   \n",
       "WindGustDir       1.000000       0.218289    0.115565    0.354051   \n",
       "WindGustSpeed     0.218289       1.000000   -0.100781    0.167105   \n",
       "WindDir9am        0.115565      -0.100781    1.000000    0.054961   \n",
       "WindDir3pm        0.354051       0.167105    0.054961    1.000000   \n",
       "WindSpeed9am      0.164012       0.518508   -0.113786    0.071247   \n",
       "WindSpeed3pm      0.305344       0.693641   -0.012448    0.132152   \n",
       "Humidity9am       0.055546      -0.349433    0.113084    0.017569   \n",
       "Humidity3pm       0.072419      -0.069432    0.016604   -0.147176   \n",
       "Pressure9am      -0.140887      -0.537126    0.113071   -0.242707   \n",
       "Pressure3pm      -0.139452      -0.524435    0.104286   -0.237190   \n",
       "Cloud9am          0.000601      -0.012648   -0.037391   -0.153096   \n",
       "Cloud3pm         -0.017459       0.050051    0.063241   -0.116438   \n",
       "Temp9am          -0.215087       0.255331   -0.226023   -0.060438   \n",
       "Temp3pm          -0.229800       0.072348   -0.156527    0.017418   \n",
       "RainToday         0.046787       0.189886   -0.034692    0.057614   \n",
       "RainTomorrow      0.041922       0.249445   -0.064743    0.018634   \n",
       "\n",
       "               WindSpeed9am  ...  Humidity9am  Humidity3pm  Pressure9am  \\\n",
       "MinTemp            0.126251  ...    -0.207897    -0.040709    -0.501707   \n",
       "MaxTemp           -0.214649  ...    -0.359602    -0.533327    -0.290883   \n",
       "Rainfall           0.218979  ...     0.150109     0.289013    -0.331581   \n",
       "Evaporation        0.068176  ...    -0.519587    -0.391780    -0.381906   \n",
       "Sunshine          -0.064200  ...    -0.497692    -0.755186     0.006238   \n",
       "WindGustDir        0.164012  ...     0.055546     0.072419    -0.140887   \n",
       "WindGustSpeed      0.518508  ...    -0.349433    -0.069432    -0.537126   \n",
       "WindDir9am        -0.113786  ...     0.113084     0.016604     0.113071   \n",
       "WindDir3pm         0.071247  ...     0.017569    -0.147176    -0.242707   \n",
       "WindSpeed9am       1.000000  ...    -0.267654     0.145866    -0.350416   \n",
       "WindSpeed3pm       0.467090  ...    -0.266092    -0.026368    -0.359800   \n",
       "Humidity9am       -0.267654  ...     1.000000     0.546718     0.135727   \n",
       "Humidity3pm        0.145866  ...     0.546718     1.000000    -0.087946   \n",
       "Pressure9am       -0.350416  ...     0.135727    -0.087946     1.000000   \n",
       "Pressure3pm       -0.243102  ...     0.134420    -0.010052     0.967895   \n",
       "Cloud9am           0.100961  ...     0.392842     0.551633    -0.157553   \n",
       "Cloud3pm          -0.022312  ...     0.271938     0.510108    -0.141000   \n",
       "Temp9am            0.063303  ...    -0.436551    -0.255681    -0.460418   \n",
       "Temp3pm           -0.232944  ...    -0.355119    -0.581676    -0.253674   \n",
       "RainToday          0.262626  ...     0.203495     0.319582    -0.352186   \n",
       "RainTomorrow       0.088224  ...     0.185077     0.366882    -0.330047   \n",
       "\n",
       "               Pressure3pm  Cloud9am  Cloud3pm   Temp9am   Temp3pm  RainToday  \\\n",
       "MinTemp          -0.498007  0.215776  0.118397  0.916745  0.722730   0.230733   \n",
       "MaxTemp          -0.379394 -0.175730 -0.135991  0.870604  0.989261  -0.065860   \n",
       "Rainfall         -0.250218  0.180046  0.127792  0.077299 -0.087493   0.693024   \n",
       "Evaporation      -0.391093 -0.106007 -0.100045  0.707676  0.671632  -0.032638   \n",
       "Sunshine         -0.035964 -0.678125 -0.658699  0.219276  0.469774  -0.166477   \n",
       "WindGustDir      -0.139452  0.000601 -0.017459 -0.215087 -0.229800   0.046787   \n",
       "WindGustSpeed    -0.524435 -0.012648  0.050051  0.255331  0.072348   0.189886   \n",
       "WindDir9am        0.104286 -0.037391  0.063241 -0.226023 -0.156527  -0.034692   \n",
       "WindDir3pm       -0.237190 -0.153096 -0.116438 -0.060438  0.017418   0.057614   \n",
       "WindSpeed9am     -0.243102  0.100961 -0.022312  0.063303 -0.232944   0.262626   \n",
       "WindSpeed3pm     -0.337325 -0.026426  0.007207 -0.017766 -0.187570   0.083483   \n",
       "Humidity9am       0.134420  0.392842  0.271938 -0.436551 -0.355119   0.203495   \n",
       "Humidity3pm      -0.010052  0.551633  0.510108 -0.255681 -0.581676   0.319582   \n",
       "Pressure9am       0.967895 -0.157553 -0.141000 -0.460418 -0.253674  -0.352186   \n",
       "Pressure3pm       1.000000 -0.128944 -0.143837 -0.492636 -0.345485  -0.279936   \n",
       "Cloud9am         -0.128944  1.000000  0.525218  0.021041 -0.202344   0.214767   \n",
       "Cloud3pm         -0.143837  0.525218  1.000000  0.040945 -0.172814   0.094423   \n",
       "Temp9am          -0.492636  0.021041  0.040945  1.000000  0.844406   0.088014   \n",
       "Temp3pm          -0.345485 -0.202344 -0.172814  0.844406  1.000000  -0.072380   \n",
       "RainToday        -0.279936  0.214767  0.094423  0.088014 -0.072380   1.000000   \n",
       "RainTomorrow     -0.370247  0.284579  0.388020  0.182170  0.011105   0.168182   \n",
       "\n",
       "               RainTomorrow  \n",
       "MinTemp            0.233213  \n",
       "MaxTemp            0.049228  \n",
       "Rainfall           0.133586  \n",
       "Evaporation        0.090528  \n",
       "Sunshine          -0.386095  \n",
       "WindGustDir        0.041922  \n",
       "WindGustSpeed      0.249445  \n",
       "WindDir9am        -0.064743  \n",
       "WindDir3pm         0.018634  \n",
       "WindSpeed9am       0.088224  \n",
       "WindSpeed3pm       0.042505  \n",
       "Humidity9am        0.185077  \n",
       "Humidity3pm        0.366882  \n",
       "Pressure9am       -0.330047  \n",
       "Pressure3pm       -0.370247  \n",
       "Cloud9am           0.284579  \n",
       "Cloud3pm           0.388020  \n",
       "Temp9am            0.182170  \n",
       "Temp3pm            0.011105  \n",
       "RainToday          0.168182  \n",
       "RainTomorrow       1.000000  \n",
       "\n",
       "[21 rows x 21 columns]"
      ]
     },
     "execution_count": 373,
     "metadata": {},
     "output_type": "execute_result"
    }
   ],
   "source": [
    "df.corr()"
   ]
  },
  {
   "cell_type": "code",
   "execution_count": 374,
   "metadata": {},
   "outputs": [],
   "source": [
    "model=LinearRegression()\n",
    "model=DecisionTreeClassifier()"
   ]
  },
  {
   "cell_type": "code",
   "execution_count": 375,
   "metadata": {},
   "outputs": [
    {
     "data": {
      "text/plain": [
       "DecisionTreeClassifier()"
      ]
     },
     "execution_count": 375,
     "metadata": {},
     "output_type": "execute_result"
    }
   ],
   "source": [
    "model.fit(X_train,y_train)"
   ]
  },
  {
   "cell_type": "code",
   "execution_count": 376,
   "metadata": {},
   "outputs": [
    {
     "data": {
      "text/plain": [
       "{'ccp_alpha': 0.0,\n",
       " 'class_weight': None,\n",
       " 'criterion': 'gini',\n",
       " 'max_depth': None,\n",
       " 'max_features': None,\n",
       " 'max_leaf_nodes': None,\n",
       " 'min_impurity_decrease': 0.0,\n",
       " 'min_samples_leaf': 1,\n",
       " 'min_samples_split': 2,\n",
       " 'min_weight_fraction_leaf': 0.0,\n",
       " 'random_state': None,\n",
       " 'splitter': 'best'}"
      ]
     },
     "execution_count": 376,
     "metadata": {},
     "output_type": "execute_result"
    }
   ],
   "source": [
    "ypred=model.predict(X_train)\n",
    "model.get_params()"
   ]
  },
  {
   "cell_type": "code",
   "execution_count": 380,
   "metadata": {},
   "outputs": [
    {
     "name": "stdout",
     "output_type": "stream",
     "text": [
      "accuracy_score 1.0\n"
     ]
    }
   ],
   "source": [
    "print('accuracy_score',accuracy_score(y_train,ypred))"
   ]
  },
  {
   "cell_type": "code",
   "execution_count": 388,
   "metadata": {},
   "outputs": [
    {
     "name": "stdout",
     "output_type": "stream",
     "text": [
      "              precision    recall  f1-score   support\n",
      "\n",
      "           0       1.00      1.00      1.00       240\n",
      "           1       1.00      1.00      1.00        52\n",
      "\n",
      "    accuracy                           1.00       292\n",
      "   macro avg       1.00      1.00      1.00       292\n",
      "weighted avg       1.00      1.00      1.00       292\n",
      "\n",
      "typeI,typeII error=0\n"
     ]
    },
    {
     "data": {
      "text/plain": [
       "array([[240,   0],\n",
       "       [  0,  52]], dtype=int64)"
      ]
     },
     "execution_count": 388,
     "metadata": {},
     "output_type": "execute_result"
    }
   ],
   "source": [
    "model.fit(X_test,y_test)\n",
    "print(classification_report(ypred,y_train))\n",
    "print('typeI,typeII error=0')\n",
    "confusion_matrix(ypred,y_train)"
   ]
  },
  {
   "cell_type": "code",
   "execution_count": 365,
   "metadata": {},
   "outputs": [
    {
     "data": {
      "text/plain": [
       "{'ccp_alpha': 0.0,\n",
       " 'class_weight': None,\n",
       " 'criterion': 'gini',\n",
       " 'max_depth': None,\n",
       " 'max_features': None,\n",
       " 'max_leaf_nodes': None,\n",
       " 'min_impurity_decrease': 0.0,\n",
       " 'min_samples_leaf': 1,\n",
       " 'min_samples_split': 2,\n",
       " 'min_weight_fraction_leaf': 0.0,\n",
       " 'random_state': None,\n",
       " 'splitter': 'best'}"
      ]
     },
     "execution_count": 365,
     "metadata": {},
     "output_type": "execute_result"
    }
   ],
   "source": [
    "ypred=model.predict(X_test)\n",
    "model.get_params()"
   ]
  },
  {
   "cell_type": "code",
   "execution_count": 366,
   "metadata": {
    "scrolled": true
   },
   "outputs": [
    {
     "data": {
      "text/plain": [
       "['__abstractmethods__',\n",
       " '__class__',\n",
       " '__delattr__',\n",
       " '__dict__',\n",
       " '__dir__',\n",
       " '__doc__',\n",
       " '__eq__',\n",
       " '__format__',\n",
       " '__ge__',\n",
       " '__getattribute__',\n",
       " '__getstate__',\n",
       " '__gt__',\n",
       " '__hash__',\n",
       " '__init__',\n",
       " '__init_subclass__',\n",
       " '__le__',\n",
       " '__lt__',\n",
       " '__module__',\n",
       " '__ne__',\n",
       " '__new__',\n",
       " '__reduce__',\n",
       " '__reduce_ex__',\n",
       " '__repr__',\n",
       " '__setattr__',\n",
       " '__setstate__',\n",
       " '__sizeof__',\n",
       " '__str__',\n",
       " '__subclasshook__',\n",
       " '__weakref__',\n",
       " '_abc_impl',\n",
       " '_check_feature_names',\n",
       " '_check_n_features',\n",
       " '_estimator_type',\n",
       " '_get_param_names',\n",
       " '_get_tags',\n",
       " '_more_tags',\n",
       " '_prune_tree',\n",
       " '_repr_html_',\n",
       " '_repr_html_inner',\n",
       " '_repr_mimebundle_',\n",
       " '_validate_X_predict',\n",
       " '_validate_data',\n",
       " 'apply',\n",
       " 'ccp_alpha',\n",
       " 'class_weight',\n",
       " 'classes_',\n",
       " 'cost_complexity_pruning_path',\n",
       " 'criterion',\n",
       " 'decision_path',\n",
       " 'feature_importances_',\n",
       " 'feature_names_in_',\n",
       " 'fit',\n",
       " 'get_depth',\n",
       " 'get_n_leaves',\n",
       " 'get_params',\n",
       " 'max_depth',\n",
       " 'max_features',\n",
       " 'max_features_',\n",
       " 'max_leaf_nodes',\n",
       " 'min_impurity_decrease',\n",
       " 'min_samples_leaf',\n",
       " 'min_samples_split',\n",
       " 'min_weight_fraction_leaf',\n",
       " 'n_classes_',\n",
       " 'n_features_',\n",
       " 'n_features_in_',\n",
       " 'n_outputs_',\n",
       " 'predict',\n",
       " 'predict_log_proba',\n",
       " 'predict_proba',\n",
       " 'random_state',\n",
       " 'score',\n",
       " 'set_params',\n",
       " 'splitter',\n",
       " 'tree_']"
      ]
     },
     "execution_count": 366,
     "metadata": {},
     "output_type": "execute_result"
    }
   ],
   "source": [
    "dir(model)"
   ]
  },
  {
   "cell_type": "code",
   "execution_count": 367,
   "metadata": {},
   "outputs": [
    {
     "data": {
      "text/plain": [
       "Index(['MinTemp', 'MaxTemp', 'Rainfall', 'Evaporation', 'Sunshine',\n",
       "       'WindGustDir', 'WindGustSpeed', 'WindDir9am', 'WindDir3pm',\n",
       "       'WindSpeed9am', 'WindSpeed3pm', 'Humidity9am', 'Humidity3pm',\n",
       "       'Pressure9am', 'Pressure3pm', 'Cloud9am', 'Cloud3pm', 'Temp9am',\n",
       "       'Temp3pm', 'RainToday'],\n",
       "      dtype='object')"
      ]
     },
     "execution_count": 367,
     "metadata": {},
     "output_type": "execute_result"
    }
   ],
   "source": [
    "accuracy_score(y_test,ypred)\n",
    "X_train.columns"
   ]
  },
  {
   "cell_type": "code",
   "execution_count": 368,
   "metadata": {},
   "outputs": [
    {
     "data": {
      "text/plain": [
       "<matplotlib.axes._subplots.AxesSubplot at 0x13a972805c0>"
      ]
     },
     "execution_count": 368,
     "metadata": {},
     "output_type": "execute_result"
    },
    {
     "data": {
      "image/png": "[encoded data removed]",
      "text/plain": [
       "<Figure size 432x288 with 1 Axes>"
      ]
     },
     "metadata": {
      "needs_background": "light"
     },
     "output_type": "display_data"
    }
   ],
   "source": [
    "impfut=model.feature_importances_\n",
    "f=pd.DataFrame(impfut,columns=[\"impfut\"],index=X_train.columns)\n",
    "f.plot(kind=\"bar\")"
   ]
  },
  {
   "cell_type": "code",
   "execution_count": 410,
   "metadata": {},
   "outputs": [
    {
     "data": {
      "text/html": [
       "<div>\n",
       "<style scoped>\n",
       "    .dataframe tbody tr th:only-of-type {\n",
       "        vertical-align: middle;\n",
       "    }\n",
       "\n",
       "    .dataframe tbody tr th {\n",
       "        vertical-align: top;\n",
       "    }\n",
       "\n",
       "    .dataframe thead th {\n",
       "        text-align: right;\n",
       "    }\n",
       "</style>\n",
       "<table border=\"1\" class=\"dataframe\">\n",
       "  <thead>\n",
       "    <tr style=\"text-align: right;\">\n",
       "      <th></th>\n",
       "      <th>impfut</th>\n",
       "    </tr>\n",
       "  </thead>\n",
       "  <tbody>\n",
       "    <tr>\n",
       "      <th>MinTemp</th>\n",
       "      <td>0.076236</td>\n",
       "    </tr>\n",
       "    <tr>\n",
       "      <th>MaxTemp</th>\n",
       "      <td>0.000000</td>\n",
       "    </tr>\n",
       "    <tr>\n",
       "      <th>Rainfall</th>\n",
       "      <td>0.000000</td>\n",
       "    </tr>\n",
       "    <tr>\n",
       "      <th>Evaporation</th>\n",
       "      <td>0.000000</td>\n",
       "    </tr>\n",
       "    <tr>\n",
       "      <th>Sunshine</th>\n",
       "      <td>0.078656</td>\n",
       "    </tr>\n",
       "    <tr>\n",
       "      <th>WindGustDir</th>\n",
       "      <td>0.000000</td>\n",
       "    </tr>\n",
       "    <tr>\n",
       "      <th>WindGustSpeed</th>\n",
       "      <td>0.310559</td>\n",
       "    </tr>\n",
       "    <tr>\n",
       "      <th>WindDir9am</th>\n",
       "      <td>0.000000</td>\n",
       "    </tr>\n",
       "    <tr>\n",
       "      <th>WindDir3pm</th>\n",
       "      <td>0.000000</td>\n",
       "    </tr>\n",
       "    <tr>\n",
       "      <th>WindSpeed9am</th>\n",
       "      <td>0.000000</td>\n",
       "    </tr>\n",
       "    <tr>\n",
       "      <th>WindSpeed3pm</th>\n",
       "      <td>0.000000</td>\n",
       "    </tr>\n",
       "    <tr>\n",
       "      <th>Humidity9am</th>\n",
       "      <td>0.073926</td>\n",
       "    </tr>\n",
       "    <tr>\n",
       "      <th>Humidity3pm</th>\n",
       "      <td>0.208922</td>\n",
       "    </tr>\n",
       "    <tr>\n",
       "      <th>Pressure9am</th>\n",
       "      <td>0.203297</td>\n",
       "    </tr>\n",
       "    <tr>\n",
       "      <th>Pressure3pm</th>\n",
       "      <td>0.048404</td>\n",
       "    </tr>\n",
       "    <tr>\n",
       "      <th>Cloud9am</th>\n",
       "      <td>0.000000</td>\n",
       "    </tr>\n",
       "    <tr>\n",
       "      <th>Cloud3pm</th>\n",
       "      <td>0.000000</td>\n",
       "    </tr>\n",
       "    <tr>\n",
       "      <th>Temp9am</th>\n",
       "      <td>0.000000</td>\n",
       "    </tr>\n",
       "    <tr>\n",
       "      <th>Temp3pm</th>\n",
       "      <td>0.000000</td>\n",
       "    </tr>\n",
       "    <tr>\n",
       "      <th>RainToday</th>\n",
       "      <td>0.000000</td>\n",
       "    </tr>\n",
       "  </tbody>\n",
       "</table>\n",
       "</div>"
      ],
      "text/plain": [
       "                 impfut\n",
       "MinTemp        0.076236\n",
       "MaxTemp        0.000000\n",
       "Rainfall       0.000000\n",
       "Evaporation    0.000000\n",
       "Sunshine       0.078656\n",
       "WindGustDir    0.000000\n",
       "WindGustSpeed  0.310559\n",
       "WindDir9am     0.000000\n",
       "WindDir3pm     0.000000\n",
       "WindSpeed9am   0.000000\n",
       "WindSpeed3pm   0.000000\n",
       "Humidity9am    0.073926\n",
       "Humidity3pm    0.208922\n",
       "Pressure9am    0.203297\n",
       "Pressure3pm    0.048404\n",
       "Cloud9am       0.000000\n",
       "Cloud3pm       0.000000\n",
       "Temp9am        0.000000\n",
       "Temp3pm        0.000000\n",
       "RainToday      0.000000"
      ]
     },
     "execution_count": 410,
     "metadata": {},
     "output_type": "execute_result"
    }
   ],
   "source": [
    "df.WindGustDir.fillna(df.WindGustDir.mode(),inplace=True)\n",
    "f"
   ]
  },
  {
   "cell_type": "code",
   "execution_count": 353,
   "metadata": {},
   "outputs": [],
   "source": [
    "df.fillna(df.mode(),inplace=True)"
   ]
  },
  {
   "cell_type": "code",
   "execution_count": 355,
   "metadata": {},
   "outputs": [
    {
     "data": {
      "text/plain": [
       "MinTemp          0\n",
       "MaxTemp          0\n",
       "Rainfall         0\n",
       "Evaporation      0\n",
       "Sunshine         0\n",
       "WindGustDir      0\n",
       "WindGustSpeed    0\n",
       "WindDir9am       0\n",
       "WindDir3pm       0\n",
       "WindSpeed9am     0\n",
       "WindSpeed3pm     0\n",
       "Humidity9am      0\n",
       "Humidity3pm      0\n",
       "Pressure9am      0\n",
       "Pressure3pm      0\n",
       "Cloud9am         0\n",
       "Cloud3pm         0\n",
       "Temp9am          0\n",
       "Temp3pm          0\n",
       "RainToday        0\n",
       "RainTomorrow     0\n",
       "dtype: int64"
      ]
     },
     "execution_count": 355,
     "metadata": {},
     "output_type": "execute_result"
    }
   ],
   "source": [
    "df.isnull().sum()"
   ]
  },
  {
   "cell_type": "code",
   "execution_count": 356,
   "metadata": {},
   "outputs": [],
   "source": [
    "df.WindDir9am.fillna(df.WindDir9am.mode(),inplace=True)"
   ]
  },
  {
   "cell_type": "code",
   "execution_count": 256,
   "metadata": {},
   "outputs": [
    {
     "data": {
      "text/plain": [
       "array([0.18404721, 0.55950291, 0.26645325, 0.51889884, 0.65879558])"
      ]
     },
     "execution_count": 256,
     "metadata": {},
     "output_type": "execute_result"
    }
   ],
   "source": [
    "lasso=Lasso()\n",
    "ridge=Ridge()\n",
    "cross_val_score(ridge,X,y)"
   ]
  },
  {
   "cell_type": "code",
   "execution_count": 257,
   "metadata": {},
   "outputs": [
    {
     "ename": "ValueError",
     "evalue": "Found input variables with inconsistent numbers of samples: [366, 74]",
     "output_type": "error",
     "traceback": [
      "\u001b[1;31m---------------------------------------------------------------------------\u001b[0m",
      "\u001b[1;31mValueError\u001b[0m                                Traceback (most recent call last)",
      "\u001b[1;32m<ipython-input-257-ffa080cca809>\u001b[0m in \u001b[0;36m<module>\u001b[1;34m()\u001b[0m\n\u001b[1;32m----> 1\u001b[1;33m \u001b[0mr2_score\u001b[0m\u001b[1;33m(\u001b[0m\u001b[0my\u001b[0m\u001b[1;33m,\u001b[0m\u001b[0mypred\u001b[0m\u001b[1;33m)\u001b[0m\u001b[1;33m,\u001b[0m \u001b[0mmean_squared_error\u001b[0m\u001b[1;33m(\u001b[0m\u001b[0my\u001b[0m\u001b[1;33m,\u001b[0m\u001b[0mypred\u001b[0m\u001b[1;33m)\u001b[0m\u001b[1;33m,\u001b[0m \u001b[0mmean_absolute_error\u001b[0m\u001b[1;33m(\u001b[0m\u001b[0my\u001b[0m\u001b[1;33m,\u001b[0m\u001b[0mypred\u001b[0m\u001b[1;33m)\u001b[0m\u001b[1;33m\u001b[0m\u001b[0m\n\u001b[0m",
      "\u001b[1;32m~\\Anaconda3\\lib\\site-packages\\sklearn\\metrics\\_regression.py\u001b[0m in \u001b[0;36mr2_score\u001b[1;34m(y_true, y_pred, sample_weight, multioutput)\u001b[0m\n\u001b[0;32m    788\u001b[0m     \"\"\"\n\u001b[0;32m    789\u001b[0m     y_type, y_true, y_pred, multioutput = _check_reg_targets(\n\u001b[1;32m--> 790\u001b[1;33m         \u001b[0my_true\u001b[0m\u001b[1;33m,\u001b[0m \u001b[0my_pred\u001b[0m\u001b[1;33m,\u001b[0m \u001b[0mmultioutput\u001b[0m\u001b[1;33m\u001b[0m\u001b[0m\n\u001b[0m\u001b[0;32m    791\u001b[0m     )\n\u001b[0;32m    792\u001b[0m     \u001b[0mcheck_consistent_length\u001b[0m\u001b[1;33m(\u001b[0m\u001b[0my_true\u001b[0m\u001b[1;33m,\u001b[0m \u001b[0my_pred\u001b[0m\u001b[1;33m,\u001b[0m \u001b[0msample_weight\u001b[0m\u001b[1;33m)\u001b[0m\u001b[1;33m\u001b[0m\u001b[0m\n",
      "\u001b[1;32m~\\Anaconda3\\lib\\site-packages\\sklearn\\metrics\\_regression.py\u001b[0m in \u001b[0;36m_check_reg_targets\u001b[1;34m(y_true, y_pred, multioutput, dtype)\u001b[0m\n\u001b[0;32m     92\u001b[0m         \u001b[0mthe\u001b[0m \u001b[0mdtype\u001b[0m \u001b[0margument\u001b[0m \u001b[0mpassed\u001b[0m \u001b[0mto\u001b[0m \u001b[0mcheck_array\u001b[0m\u001b[1;33m.\u001b[0m\u001b[1;33m\u001b[0m\u001b[0m\n\u001b[0;32m     93\u001b[0m     \"\"\"\n\u001b[1;32m---> 94\u001b[1;33m     \u001b[0mcheck_consistent_length\u001b[0m\u001b[1;33m(\u001b[0m\u001b[0my_true\u001b[0m\u001b[1;33m,\u001b[0m \u001b[0my_pred\u001b[0m\u001b[1;33m)\u001b[0m\u001b[1;33m\u001b[0m\u001b[0m\n\u001b[0m\u001b[0;32m     95\u001b[0m     \u001b[0my_true\u001b[0m \u001b[1;33m=\u001b[0m \u001b[0mcheck_array\u001b[0m\u001b[1;33m(\u001b[0m\u001b[0my_true\u001b[0m\u001b[1;33m,\u001b[0m \u001b[0mensure_2d\u001b[0m\u001b[1;33m=\u001b[0m\u001b[1;32mFalse\u001b[0m\u001b[1;33m,\u001b[0m \u001b[0mdtype\u001b[0m\u001b[1;33m=\u001b[0m\u001b[0mdtype\u001b[0m\u001b[1;33m)\u001b[0m\u001b[1;33m\u001b[0m\u001b[0m\n\u001b[0;32m     96\u001b[0m     \u001b[0my_pred\u001b[0m \u001b[1;33m=\u001b[0m \u001b[0mcheck_array\u001b[0m\u001b[1;33m(\u001b[0m\u001b[0my_pred\u001b[0m\u001b[1;33m,\u001b[0m \u001b[0mensure_2d\u001b[0m\u001b[1;33m=\u001b[0m\u001b[1;32mFalse\u001b[0m\u001b[1;33m,\u001b[0m \u001b[0mdtype\u001b[0m\u001b[1;33m=\u001b[0m\u001b[0mdtype\u001b[0m\u001b[1;33m)\u001b[0m\u001b[1;33m\u001b[0m\u001b[0m\n",
      "\u001b[1;32m~\\Anaconda3\\lib\\site-packages\\sklearn\\utils\\validation.py\u001b[0m in \u001b[0;36mcheck_consistent_length\u001b[1;34m(*arrays)\u001b[0m\n\u001b[0;32m    332\u001b[0m         raise ValueError(\n\u001b[0;32m    333\u001b[0m             \u001b[1;34m\"Found input variables with inconsistent numbers of samples: %r\"\u001b[0m\u001b[1;33m\u001b[0m\u001b[0m\n\u001b[1;32m--> 334\u001b[1;33m             \u001b[1;33m%\u001b[0m \u001b[1;33m[\u001b[0m\u001b[0mint\u001b[0m\u001b[1;33m(\u001b[0m\u001b[0ml\u001b[0m\u001b[1;33m)\u001b[0m \u001b[1;32mfor\u001b[0m \u001b[0ml\u001b[0m \u001b[1;32min\u001b[0m \u001b[0mlengths\u001b[0m\u001b[1;33m]\u001b[0m\u001b[1;33m\u001b[0m\u001b[0m\n\u001b[0m\u001b[0;32m    335\u001b[0m         )\n\u001b[0;32m    336\u001b[0m \u001b[1;33m\u001b[0m\u001b[0m\n",
      "\u001b[1;31mValueError\u001b[0m: Found input variables with inconsistent numbers of samples: [366, 74]"
     ]
    }
   ],
   "source": [
    "r2_score(y,ypred), mean_squared_error(y,ypred), mean_absolute_error(y,ypred)"
   ]
  },
  {
   "cell_type": "code",
   "execution_count": null,
   "metadata": {},
   "outputs": [],
   "source": []
  },
  {
   "cell_type": "code",
   "execution_count": null,
   "metadata": {},
   "outputs": [],
   "source": []
  }
 ],
 "metadata": {
  "kernelspec": {
   "display_name": "Python 3",
   "language": "python",
   "name": "python3"
  },
  "language_info": {
   "codemirror_mode": {
    "name": "ipython",
    "version": 3
   },
   "file_extension": ".py",
   "mimetype": "text/x-python",
   "name": "python",
   "nbconvert_exporter": "python",
   "pygments_lexer": "ipython3",
   "version": "3.7.0"
  }
 },
 "nbformat": 4,
 "nbformat_minor": 2
}

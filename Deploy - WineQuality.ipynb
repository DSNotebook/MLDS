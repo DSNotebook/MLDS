{
 "cells": [
  {
   "cell_type": "code",
   "execution_count": 1,
   "metadata": {},
   "outputs": [
    {
     "name": "stderr",
     "output_type": "stream",
     "text": [
      "C:\\Users\\ravik\\Anaconda3\\lib\\site-packages\\ipykernel\\parentpoller.py:116: UserWarning: Parent poll failed.  If the frontend dies,\n",
      "                the kernel may be left running.  Please let us know\n",
      "                about your system (bitness, Python, etc.) at\n",
      "                ipython-dev@scipy.org\n",
      "  ipython-dev@scipy.org\"\"\")\n",
      "[Parallel(n_jobs=1)]: Using backend SequentialBackend with 1 concurrent workers.\n",
      "[Parallel(n_jobs=1)]: Done   1 out of   1 | elapsed:    0.0s remaining:    0.0s\n"
     ]
    },
    {
     "name": "stdout",
     "output_type": "stream",
     "text": [
      "building tree 1 of 25\n",
      "building tree 2 of 25\n",
      "building tree 3 of 25\n",
      "building tree 4 of 25\n",
      "building tree 5 of 25\n",
      "building tree 6 of 25\n",
      "building tree 7 of 25\n",
      "building tree 8 of 25\n",
      "building tree 9 of 25\n",
      "building tree 10 of 25\n",
      "building tree 11 of 25\n",
      "building tree 12 of 25\n",
      "building tree 13 of 25\n",
      "building tree 14 of 25\n",
      "building tree 15 of 25\n",
      "building tree 16 of 25\n",
      "building tree 17 of 25\n",
      "building tree 18 of 25\n",
      "building tree 19 of 25\n",
      "building tree 20 of 25\n",
      "building tree 21 of 25\n",
      "building tree 22 of 25\n",
      "building tree 23 of 25\n",
      "building tree 24 of 25\n",
      "building tree 25 of 25\n"
     ]
    },
    {
     "name": "stderr",
     "output_type": "stream",
     "text": [
      "[Parallel(n_jobs=1)]: Done  25 out of  25 | elapsed:    0.8s finished\n",
      "[Parallel(n_jobs=1)]: Using backend SequentialBackend with 1 concurrent workers.\n",
      "[Parallel(n_jobs=1)]: Done   1 out of   1 | elapsed:    0.0s remaining:    0.0s\n",
      "[Parallel(n_jobs=1)]: Done  25 out of  25 | elapsed:    0.0s finished\n"
     ]
    },
    {
     "name": "stdout",
     "output_type": "stream",
     "text": [
      "              precision    recall  f1-score   support\n",
      "\n",
      "           3       1.00      1.00      1.00        23\n",
      "           4       1.00      1.00      1.00       161\n",
      "           5       1.00      1.00      1.00      1616\n",
      "           6       1.00      1.00      1.00      2137\n",
      "           7       1.00      1.00      1.00       796\n",
      "           8       1.00      1.00      1.00       136\n",
      "           9       1.00      1.00      1.00         3\n",
      "\n",
      "    accuracy                           1.00      4872\n",
      "   macro avg       1.00      1.00      1.00      4872\n",
      "weighted avg       1.00      1.00      1.00      4872\n",
      "\n"
     ]
    },
    {
     "data": {
      "text/plain": [
       "<matplotlib.axes._subplots.AxesSubplot at 0x208a080e978>"
      ]
     },
     "execution_count": 1,
     "metadata": {},
     "output_type": "execute_result"
    }
   ],
   "source": [
    "\n",
    "import pickle\n",
    "import flask\n",
    "import pandas as pd\n",
    "import matplotlib.pyplot as plt\n",
    "from matplotlib import rcParams\n",
    "import seaborn as sns\n",
    "from io import StringIO\n",
    "from IPython.display import Image\n",
    "from sklearn.linear_model import LinearRegression\n",
    "from sklearn.tree import DecisionTreeClassifier,DecisionTreeRegressor\n",
    "from   sklearn.ensemble        import RandomForestClassifier \n",
    "from sklearn.tree import export_graphviz\n",
    "from sklearn.model_selection import train_test_split\n",
    "from sklearn.metrics import r2_score,accuracy_score,confusion_matrix,plot_roc_curve,\\\n",
    "                            classification_report,roc_auc_score,roc_curve,precision_score\n",
    "from sklearn.datasets import load_iris\n",
    "\n",
    "from sklearn.preprocessing import LabelEncoder\n",
    "from sklearn.metrics import r2_score, mean_squared_error, mean_absolute_error\n",
    "from sklearn.model_selection import train_test_split\n",
    "from sklearn.preprocessing import scale\n",
    "from sklearn.model_selection import cross_val_score\n",
    "from collections import Counter\n",
    "from sklearn.preprocessing import MinMaxScaler,LabelEncoder\n",
    "\n",
    "\n",
    "file=r\"winequalityN.csv\"\n",
    "\n",
    "df=pd.read_csv(file)\n",
    "df.fillna(df.mean(),inplace=True)\n",
    "\n",
    "enc=LabelEncoder()\n",
    "df[\"type\"]=enc.fit_transform(df['type'])\n",
    "df\n",
    "\n",
    "X=df.iloc[:,:-1]\n",
    "y=df.quality\n",
    "X_train,X_test,y_train,y_test=train_test_split(X,y,test_size=0.25,random_state=10)\n",
    "\n",
    "from sklearn.neural_network import MLPRegressor\n",
    "from sklearn.ensemble import RandomForestRegressor\n",
    "\n",
    "\n",
    "minmax_scaler=MinMaxScaler()\n",
    "minmax_scaler.fit(X_train)\n",
    "X_train=minmax_scaler.transform(X_train)\n",
    "\n",
    "X_test=minmax_scaler.transform(X_test)\n",
    "\n",
    "\n",
    "\n",
    "#model=DecisionTreeClassifier(criterion='gini',max_depth=4)\n",
    "model=RandomForestClassifier(n_estimators=25, verbose=2, random_state = 10)\n",
    "#model=LinearRegression()\n",
    "model.fit(X_train,y_train)\n",
    "\n",
    "ypred=model.predict(X_train)\n",
    "\n",
    "\n",
    "pickle.dump(model,open(\"wineQualitypredict.pkl\",'wb'))\n",
    "pickle.dump(minmax_scaler,open(\"wineQuality_input.pkl\",'wb'))\n",
    "\n",
    "Adv_model=pickle.load(open(\"wineQualitypredict.pkl\",'rb'))\n",
    "input_scaler=pickle.load(open(\"wineQuality_input.pkl\",'rb'))\n",
    "\n",
    "\n",
    "pd.crosstab(y_train,ypred)\n",
    "\n",
    "accuracy_score(y_train,ypred)\n",
    "\n",
    "print(classification_report(y_train,ypred))\n",
    "\n",
    "\n",
    "feat=model.feature_importances_\n",
    "feat\n",
    "l=list(feat)\n",
    "l=pd.DataFrame(l,columns=['list'])\n",
    "name=X.columns\n",
    "plt.figure(figsize=(15,5))\n",
    "plt.grid()\n",
    "l['name']=list(X)\n",
    "#l.plot(kind='barh')\n",
    "sns.swarmplot(x=l.name,y=l.list,data=l,)\n",
    "sns.scatterplot(x=l.name,y=l.list,data=l,hue=l.name)#df.type\n",
    "\n",
    "\n",
    "#l=[]\n",
    "#for i in range(X.shape[1]):\n",
    " #   fe=input(X.columns[i])\n",
    "#    l.append(fe)\n",
    "\n",
    "#winequality=model.predict([l])\n",
    "#if(winequality>=7):\n",
    "#    print(winequality[0],'is','Quality is good')\n",
    "#else:\n",
    "#    print(winequality[0],'is','bad quality')\n",
    "    "
   ]
  },
  {
   "cell_type": "code",
   "execution_count": 6,
   "metadata": {},
   "outputs": [
    {
     "data": {
      "text/html": [
       "<div>\n",
       "<style scoped>\n",
       "    .dataframe tbody tr th:only-of-type {\n",
       "        vertical-align: middle;\n",
       "    }\n",
       "\n",
       "    .dataframe tbody tr th {\n",
       "        vertical-align: top;\n",
       "    }\n",
       "\n",
       "    .dataframe thead th {\n",
       "        text-align: right;\n",
       "    }\n",
       "</style>\n",
       "<table border=\"1\" class=\"dataframe\">\n",
       "  <thead>\n",
       "    <tr style=\"text-align: right;\">\n",
       "      <th></th>\n",
       "      <th>list</th>\n",
       "      <th>name</th>\n",
       "    </tr>\n",
       "  </thead>\n",
       "  <tbody>\n",
       "    <tr>\n",
       "      <th>11</th>\n",
       "      <td>0.12567</td>\n",
       "      <td>alcohol</td>\n",
       "    </tr>\n",
       "  </tbody>\n",
       "</table>\n",
       "</div>"
      ],
      "text/plain": [
       "       list     name\n",
       "11  0.12567  alcohol"
      ]
     },
     "execution_count": 6,
     "metadata": {},
     "output_type": "execute_result"
    }
   ],
   "source": [
    "bestfea=set(l.list)\n",
    "type(bestfea)\n",
    "bestfea=list(bestfea)\n",
    "bestfea=max(bestfea[:-1])#in top best #1 feature\n",
    "featurename=l[l.list==bestfea].iloc[:,1:]\n",
    "featurename=str(featurename)\n",
    "len(featurename[:-7])\n",
    "featurename=featurename[16:]\n",
    "featurename[:]\n",
    "\n",
    "feat=model.feature_importances_\n",
    "feat.max()\n",
    "feat=model.feature_importances_\n",
    "feat\n",
    "l=list(feat)\n",
    "\n",
    "l=pd.DataFrame(l,columns=['list'])\n",
    "l['name']=list(X)\n",
    "bestfea=set(l.list)\n",
    "featurename=l[l.list==feat.max()]\n",
    "featurename\n"
   ]
  },
  {
   "cell_type": "markdown",
   "metadata": {},
   "source": [
    "import matplotlib.pyplot as plt   # To plot a graph\n",
    "from matplotlib import rcParams\n",
    "import numpy as np\n",
    "import pandas as pd\n",
    "import seaborn as sns\n",
    "import scipy as sc"
   ]
  },
  {
   "cell_type": "markdown",
   "metadata": {},
   "source": [
    "sns.displot(df.TV)"
   ]
  },
  {
   "cell_type": "markdown",
   "metadata": {},
   "source": [
    "from sklearn.linear_model import LinearRegression\n",
    "from sklearn.metrics import r2_score, mean_squared_error, mean_absolute_error\n",
    "from sklearn.model_selection import train_test_split\n",
    "from sklearn.preprocessing import scale\n",
    "from sklearn.model_selection import cross_val_score\n",
    "from collections import Counter\n",
    "from sklearn.preprocessing import MinMaxScaler,LabelEncoder\n"
   ]
  },
  {
   "cell_type": "markdown",
   "metadata": {},
   "source": [
    "from sklearn.neural_network import MLPRegressor\n",
    "from sklearn.ensemble import RandomForestRegressor\n"
   ]
  },
  {
   "cell_type": "markdown",
   "metadata": {},
   "source": [
    "import pickle\n",
    "import flask"
   ]
  },
  {
   "cell_type": "markdown",
   "metadata": {},
   "source": [
    "#data=pd.read_csv(\"Advertising.csv\")\n",
    "\n",
    "file=r\"C:\\Users\\ravik\\Data Files\\1. ST Academy - Crash course and Regression files\\House_Price.csv\"\n",
    "data=pd.read_csv(file)"
   ]
  },
  {
   "cell_type": "markdown",
   "metadata": {},
   "source": [
    "# Split the data"
   ]
  },
  {
   "cell_type": "markdown",
   "metadata": {},
   "source": [
    "X_train,X_test,y_train,y_test=train_test_split(X,y,test_size=0.20)#random_state=0"
   ]
  },
  {
   "cell_type": "markdown",
   "metadata": {},
   "source": [
    "# scale the data"
   ]
  },
  {
   "cell_type": "markdown",
   "metadata": {},
   "source": [
    "minmax_scaler=MinMaxScaler()\n",
    "minmax_scaler.fit(X_train)\n",
    "X_train=minmax_scaler.transform(X_train)\n",
    "\n",
    "X_test=minmax_scaler.transform(X_test)"
   ]
  },
  {
   "cell_type": "code",
   "execution_count": 3,
   "metadata": {},
   "outputs": [],
   "source": [
    "model_LR=LinearRegression()\n",
    "#model_LR=MLPRegressor(hidden_layer_sizes=(60,50,20))\n",
    "#model_LR=RandomForestRegressor(n_estimators=100,random_state=10)"
   ]
  },
  {
   "cell_type": "code",
   "execution_count": 4,
   "metadata": {},
   "outputs": [
    {
     "data": {
      "text/plain": [
       "LinearRegression()"
      ]
     },
     "execution_count": 4,
     "metadata": {},
     "output_type": "execute_result"
    }
   ],
   "source": [
    "model_LR.fit(X_train,y_train)"
   ]
  },
  {
   "cell_type": "code",
   "execution_count": 5,
   "metadata": {},
   "outputs": [],
   "source": [
    "predict=model_LR.predict(X_train)\n"
   ]
  },
  {
   "cell_type": "markdown",
   "metadata": {},
   "source": [
    "# dump the model"
   ]
  },
  {
   "cell_type": "markdown",
   "metadata": {},
   "source": [
    "pickle.dump(model_LR,open(\"Adverting_model_pickle.pkl\",'wb'))"
   ]
  },
  {
   "cell_type": "markdown",
   "metadata": {},
   "source": [
    "pickle.dump(minmax_scaler,open(\"Adverting_input_scaler.pkl\",'wb'))"
   ]
  },
  {
   "cell_type": "markdown",
   "metadata": {},
   "source": [
    "# load the model "
   ]
  },
  {
   "cell_type": "markdown",
   "metadata": {},
   "source": [
    "Adv_model=pickle.load(open(\"Adverting_model_pickle.pkl\",'rb'))"
   ]
  },
  {
   "cell_type": "markdown",
   "metadata": {},
   "source": [
    "input_scaler=pickle.load(open(\"Adverting_input_scaler.pkl\",'rb'))"
   ]
  },
  {
   "cell_type": "markdown",
   "metadata": {},
   "source": [
    "Directory structure \n",
    "Projectory Name /\n",
    "templates/\n",
    "index.html/\n",
    "app.py/\n",
    "module.py"
   ]
  },
  {
   "cell_type": "code",
   "execution_count": null,
   "metadata": {},
   "outputs": [],
   "source": []
  },
  {
   "cell_type": "code",
   "execution_count": null,
   "metadata": {},
   "outputs": [],
   "source": []
  },
  {
   "cell_type": "code",
   "execution_count": null,
   "metadata": {},
   "outputs": [],
   "source": []
  }
 ],
 "metadata": {
  "kernelspec": {
   "display_name": "Python 3",
   "language": "python",
   "name": "python3"
  },
  "language_info": {
   "codemirror_mode": {
    "name": "ipython",
    "version": 3
   },
   "file_extension": ".py",
   "mimetype": "text/x-python",
   "name": "python",
   "nbconvert_exporter": "python",
   "pygments_lexer": "ipython3",
   "version": "3.7.0"
  }
 },
 "nbformat": 4,
 "nbformat_minor": 2
}
